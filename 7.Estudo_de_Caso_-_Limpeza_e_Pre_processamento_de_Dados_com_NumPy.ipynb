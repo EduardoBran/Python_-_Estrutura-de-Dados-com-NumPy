{
 "cells": [
  {
   "cell_type": "markdown",
   "id": "dfdac683",
   "metadata": {},
   "source": [
    "# Estudo de Caso - Limpeza e Pré-Processamento de Dados com NumPy"
   ]
  },
  {
   "cell_type": "markdown",
   "id": "e1665fb8",
   "metadata": {},
   "source": [
    "### Contexto:\n",
    "\n",
    "Imagine que em um determinado projeto de Ciência de Dados você receba um dataset extremamente complicado, contendo dados com muitas strings, caracteres especiais, problemas de encoding, datas  mal  formatadas,  números  e  textos  na  mesma  coluna,  url’s  contendo  Ids importantes para análise, valores ausentes, coluna que contém informação que deveria estar distribuída  em três ou  mais  colunas. E  como  se  não  bastasse  tudo  isso,  parte  dos  dados necessários para análise está em outro dataset, que deve ser combinado com o primeiro.\n",
    "\n",
    "Seu trabalho seria limpar e pré-processar esse dataset, preparando-o para a sequência do processo de análise.\n",
    "\n",
    "É exatamente este cenário que estamos reproduzindo no Estudo de Caso 1. A partir de dados complexos e com diversos problemas, iremos fazer um extenso trabalho de limpeza e pré-processamento. E tudo isso usando apenas o NumPy,  poderoso pacote da Linguagem Python para computação e processamento de dados.\n",
    "\n",
    "#### Este Estudo de Caso traz uma quantidade incrível de conhecimento sobre manipulação de dados em Python."
   ]
  },
  {
   "cell_type": "markdown",
   "id": "38da8c94",
   "metadata": {},
   "source": [
    "## Definição do Problema e Fonte de Dados\n",
    "\n",
    "#### Para este Estudo de Caso trabalharemos com dado reais disponíveis publicamente no link abaixo:\n",
    "    \n",
    "    https://www.openintro.org/data/index.php?data=loans_full_schema\n",
    "\n",
    "Esse conjunto de dados representa milhares de empréstimos feitos por meio da plataforma Lending Club, que é uma\n",
    "plataforma que permite que indivíduos emprestem para outros indivíduos.\n",
    "\n",
    "Claro, nem todos os empréstimos são iguais. Alguém que fornece um baixo risco e que provavelmente vai pagar um\n",
    "empréstimo terá mais facilidade em obter um empréstimo com uma taxa de juros baixa do que alguém que parece ser\n",
    "mais arriscado.\n",
    "\n",
    "E para as pessoas com alto risco de não pagar o empréstimo? Essas pessoas podem nem receber uma oferta de empréstimo, ou podem não aceitar uma oferta de empréstimo devido a uma alta taxa de juros. É importante ter em mente essa última parte, pois esse conjunto de dados representa  apenas  empréstimos  efetivamente  feitos,  ou  seja,  não  confunda  esses  dados  com pedidos de empréstimo!\n",
    "\n",
    "Usamos como fonte de dados o dataset disponível no link acima, mas fizemos modificações nos dados para deixá-los ainda mais problemáticos. O dataset será fornecido a você junto com os demais arquivos do capítulo.\n",
    "\n",
    "Além  disso  usaremos  um  dataset  com  cotação  do  dólar  em  relação  ao  Euro.  Extraímos uma pequena amostra de dados do site: https://finance.yahoo.com. O dataset será fornecido a você junto com os demais arquivos do capítulo."
   ]
  },
  {
   "cell_type": "markdown",
   "id": "061e5a9a",
   "metadata": {},
   "source": [
    "## Objetivo:\n",
    "\n",
    "Nosso trabalho é limpar e pré-processar os dados, deixando-os no formato ideal para um processo de análise posterior e várias decisões terão que ser tomadas no meio do caminho. Ao final do trabalho devemos salvar o dataset com os dados limpos e pré-processados"
   ]
  },
  {
   "cell_type": "markdown",
   "id": "3811ebeb",
   "metadata": {},
   "source": [
    "## Importando Pacotes e Configurando Impressão do NumPy"
   ]
  },
  {
   "cell_type": "code",
   "execution_count": 23,
   "id": "53ff010b",
   "metadata": {},
   "outputs": [],
   "source": [
    "import numpy as np\n",
    "import warnings\n",
    "warnings.filterwarnings('ignore')\n",
    "np.set_printoptions(suppress = True, linewidth = 200, precision = 2)"
   ]
  },
  {
   "cell_type": "markdown",
   "id": "05d24984",
   "metadata": {},
   "source": [
    "## Verificando a Codificação do Arquivo"
   ]
  },
  {
   "cell_type": "code",
   "execution_count": 24,
   "id": "b4ef89f9",
   "metadata": {},
   "outputs": [
    {
     "name": "stdout",
     "output_type": "stream",
     "text": [
      "windows-1251\n"
     ]
    }
   ],
   "source": [
    "import chardet\n",
    "\n",
    "with open('datasets/dataset1.csv', 'rb') as f:\n",
    "    result = chardet.detect(f.read())  # Lê uma amostra do arquivo\n",
    "    print(result['encoding'])"
   ]
  },
  {
   "cell_type": "markdown",
   "id": "7ae5723b",
   "metadata": {},
   "source": [
    "## Carregando e Visualizando o Dataset"
   ]
  },
  {
   "cell_type": "code",
   "execution_count": 32,
   "id": "71f96dd1",
   "metadata": {
    "scrolled": false
   },
   "outputs": [
    {
     "data": {
      "text/plain": [
       "array([[48010226.  ,         nan,    35000.  , ...,         nan,         nan,     9452.96],\n",
       "       [57693261.  ,         nan,    30000.  , ...,         nan,         nan,     4679.7 ],\n",
       "       [59432726.  ,         nan,    15000.  , ...,         nan,         nan,     1969.83],\n",
       "       ...,\n",
       "       [50415990.  ,         nan,    10000.  , ...,         nan,         nan,     2185.64],\n",
       "       [46154151.  ,         nan,         nan, ...,         nan,         nan,     3199.4 ],\n",
       "       [66055249.  ,         nan,    10000.  , ...,         nan,         nan,      301.9 ]])"
      ]
     },
     "execution_count": 32,
     "metadata": {},
     "output_type": "execute_result"
    }
   ],
   "source": [
    "dados = np.genfromtxt(\"datasets/dataset1.csv\",\n",
    "                     delimiter = ';',\n",
    "                     skip_header = 1,              # não carrega cabeçalho \n",
    "                     autostrip = True,\n",
    "                     encoding = 'windows-1251'     # 'cp1252'\n",
    "                     )\n",
    "dados\n"
   ]
  },
  {
   "cell_type": "markdown",
   "id": "c93168b5",
   "metadata": {},
   "source": [
    "### Utilizando Pandas Apenas Para Visualizar o Dataset"
   ]
  },
  {
   "cell_type": "code",
   "execution_count": 29,
   "id": "57c38ce4",
   "metadata": {},
   "outputs": [
    {
     "data": {
      "text/html": [
       "<div>\n",
       "<style scoped>\n",
       "    .dataframe tbody tr th:only-of-type {\n",
       "        vertical-align: middle;\n",
       "    }\n",
       "\n",
       "    .dataframe tbody tr th {\n",
       "        vertical-align: top;\n",
       "    }\n",
       "\n",
       "    .dataframe thead th {\n",
       "        text-align: right;\n",
       "    }\n",
       "</style>\n",
       "<table border=\"1\" class=\"dataframe\">\n",
       "  <thead>\n",
       "    <tr style=\"text-align: right;\">\n",
       "      <th></th>\n",
       "      <th>0</th>\n",
       "      <th>1</th>\n",
       "      <th>2</th>\n",
       "      <th>3</th>\n",
       "      <th>4</th>\n",
       "      <th>5</th>\n",
       "      <th>6</th>\n",
       "      <th>7</th>\n",
       "      <th>8</th>\n",
       "      <th>9</th>\n",
       "      <th>10</th>\n",
       "      <th>11</th>\n",
       "      <th>12</th>\n",
       "      <th>13</th>\n",
       "    </tr>\n",
       "  </thead>\n",
       "  <tbody>\n",
       "    <tr>\n",
       "      <th>0</th>\n",
       "      <td>48010226.0</td>\n",
       "      <td>NaN</td>\n",
       "      <td>35000.0</td>\n",
       "      <td>NaN</td>\n",
       "      <td>35000.0</td>\n",
       "      <td>NaN</td>\n",
       "      <td>13.33</td>\n",
       "      <td>1184.86</td>\n",
       "      <td>NaN</td>\n",
       "      <td>NaN</td>\n",
       "      <td>NaN</td>\n",
       "      <td>NaN</td>\n",
       "      <td>NaN</td>\n",
       "      <td>9452.96</td>\n",
       "    </tr>\n",
       "    <tr>\n",
       "      <th>1</th>\n",
       "      <td>57693261.0</td>\n",
       "      <td>NaN</td>\n",
       "      <td>30000.0</td>\n",
       "      <td>NaN</td>\n",
       "      <td>30000.0</td>\n",
       "      <td>NaN</td>\n",
       "      <td>NaN</td>\n",
       "      <td>938.57</td>\n",
       "      <td>NaN</td>\n",
       "      <td>NaN</td>\n",
       "      <td>NaN</td>\n",
       "      <td>NaN</td>\n",
       "      <td>NaN</td>\n",
       "      <td>4679.70</td>\n",
       "    </tr>\n",
       "    <tr>\n",
       "      <th>2</th>\n",
       "      <td>59432726.0</td>\n",
       "      <td>NaN</td>\n",
       "      <td>15000.0</td>\n",
       "      <td>NaN</td>\n",
       "      <td>15000.0</td>\n",
       "      <td>NaN</td>\n",
       "      <td>NaN</td>\n",
       "      <td>494.86</td>\n",
       "      <td>NaN</td>\n",
       "      <td>NaN</td>\n",
       "      <td>NaN</td>\n",
       "      <td>NaN</td>\n",
       "      <td>NaN</td>\n",
       "      <td>1969.83</td>\n",
       "    </tr>\n",
       "    <tr>\n",
       "      <th>3</th>\n",
       "      <td>53222800.0</td>\n",
       "      <td>NaN</td>\n",
       "      <td>9600.0</td>\n",
       "      <td>NaN</td>\n",
       "      <td>9600.0</td>\n",
       "      <td>NaN</td>\n",
       "      <td>NaN</td>\n",
       "      <td>300.35</td>\n",
       "      <td>NaN</td>\n",
       "      <td>NaN</td>\n",
       "      <td>NaN</td>\n",
       "      <td>NaN</td>\n",
       "      <td>NaN</td>\n",
       "      <td>1793.68</td>\n",
       "    </tr>\n",
       "    <tr>\n",
       "      <th>4</th>\n",
       "      <td>57803010.0</td>\n",
       "      <td>NaN</td>\n",
       "      <td>8075.0</td>\n",
       "      <td>NaN</td>\n",
       "      <td>8075.0</td>\n",
       "      <td>NaN</td>\n",
       "      <td>19.19</td>\n",
       "      <td>296.78</td>\n",
       "      <td>NaN</td>\n",
       "      <td>NaN</td>\n",
       "      <td>NaN</td>\n",
       "      <td>NaN</td>\n",
       "      <td>NaN</td>\n",
       "      <td>1178.51</td>\n",
       "    </tr>\n",
       "    <tr>\n",
       "      <th>5</th>\n",
       "      <td>63398019.0</td>\n",
       "      <td>NaN</td>\n",
       "      <td>14400.0</td>\n",
       "      <td>NaN</td>\n",
       "      <td>14400.0</td>\n",
       "      <td>NaN</td>\n",
       "      <td>13.99</td>\n",
       "      <td>334.99</td>\n",
       "      <td>NaN</td>\n",
       "      <td>NaN</td>\n",
       "      <td>NaN</td>\n",
       "      <td>NaN</td>\n",
       "      <td>NaN</td>\n",
       "      <td>681.17</td>\n",
       "    </tr>\n",
       "    <tr>\n",
       "      <th>6</th>\n",
       "      <td>60850626.0</td>\n",
       "      <td>NaN</td>\n",
       "      <td>NaN</td>\n",
       "      <td>NaN</td>\n",
       "      <td>13000.0</td>\n",
       "      <td>NaN</td>\n",
       "      <td>24.99</td>\n",
       "      <td>381.50</td>\n",
       "      <td>NaN</td>\n",
       "      <td>NaN</td>\n",
       "      <td>NaN</td>\n",
       "      <td>NaN</td>\n",
       "      <td>NaN</td>\n",
       "      <td>1126.45</td>\n",
       "    </tr>\n",
       "    <tr>\n",
       "      <th>7</th>\n",
       "      <td>46816139.0</td>\n",
       "      <td>NaN</td>\n",
       "      <td>7500.0</td>\n",
       "      <td>NaN</td>\n",
       "      <td>7500.0</td>\n",
       "      <td>NaN</td>\n",
       "      <td>13.33</td>\n",
       "      <td>253.90</td>\n",
       "      <td>NaN</td>\n",
       "      <td>NaN</td>\n",
       "      <td>NaN</td>\n",
       "      <td>NaN</td>\n",
       "      <td>NaN</td>\n",
       "      <td>2025.65</td>\n",
       "    </tr>\n",
       "    <tr>\n",
       "      <th>8</th>\n",
       "      <td>63918356.0</td>\n",
       "      <td>NaN</td>\n",
       "      <td>8000.0</td>\n",
       "      <td>NaN</td>\n",
       "      <td>8000.0</td>\n",
       "      <td>NaN</td>\n",
       "      <td>NaN</td>\n",
       "      <td>250.29</td>\n",
       "      <td>NaN</td>\n",
       "      <td>NaN</td>\n",
       "      <td>NaN</td>\n",
       "      <td>NaN</td>\n",
       "      <td>NaN</td>\n",
       "      <td>497.07</td>\n",
       "    </tr>\n",
       "    <tr>\n",
       "      <th>9</th>\n",
       "      <td>63651616.0</td>\n",
       "      <td>NaN</td>\n",
       "      <td>7200.0</td>\n",
       "      <td>NaN</td>\n",
       "      <td>7200.0</td>\n",
       "      <td>NaN</td>\n",
       "      <td>NaN</td>\n",
       "      <td>241.18</td>\n",
       "      <td>NaN</td>\n",
       "      <td>NaN</td>\n",
       "      <td>NaN</td>\n",
       "      <td>NaN</td>\n",
       "      <td>NaN</td>\n",
       "      <td>512.57</td>\n",
       "    </tr>\n",
       "  </tbody>\n",
       "</table>\n",
       "</div>"
      ],
      "text/plain": [
       "           0   1        2   3        4   5      6        7   8   9   10  11  \\\n",
       "0  48010226.0 NaN  35000.0 NaN  35000.0 NaN  13.33  1184.86 NaN NaN NaN NaN   \n",
       "1  57693261.0 NaN  30000.0 NaN  30000.0 NaN    NaN   938.57 NaN NaN NaN NaN   \n",
       "2  59432726.0 NaN  15000.0 NaN  15000.0 NaN    NaN   494.86 NaN NaN NaN NaN   \n",
       "3  53222800.0 NaN   9600.0 NaN   9600.0 NaN    NaN   300.35 NaN NaN NaN NaN   \n",
       "4  57803010.0 NaN   8075.0 NaN   8075.0 NaN  19.19   296.78 NaN NaN NaN NaN   \n",
       "5  63398019.0 NaN  14400.0 NaN  14400.0 NaN  13.99   334.99 NaN NaN NaN NaN   \n",
       "6  60850626.0 NaN      NaN NaN  13000.0 NaN  24.99   381.50 NaN NaN NaN NaN   \n",
       "7  46816139.0 NaN   7500.0 NaN   7500.0 NaN  13.33   253.90 NaN NaN NaN NaN   \n",
       "8  63918356.0 NaN   8000.0 NaN   8000.0 NaN    NaN   250.29 NaN NaN NaN NaN   \n",
       "9  63651616.0 NaN   7200.0 NaN   7200.0 NaN    NaN   241.18 NaN NaN NaN NaN   \n",
       "\n",
       "   12       13  \n",
       "0 NaN  9452.96  \n",
       "1 NaN  4679.70  \n",
       "2 NaN  1969.83  \n",
       "3 NaN  1793.68  \n",
       "4 NaN  1178.51  \n",
       "5 NaN   681.17  \n",
       "6 NaN  1126.45  \n",
       "7 NaN  2025.65  \n",
       "8 NaN   497.07  \n",
       "9 NaN   512.57  "
      ]
     },
     "execution_count": 29,
     "metadata": {},
     "output_type": "execute_result"
    }
   ],
   "source": [
    "import pandas as pd\n",
    "\n",
    "# Convertendo o array NumPy para um DataFrame do Pandas\n",
    "df = pd.DataFrame(dados)\n",
    "\n",
    "# Exibindo o DataFrame\n",
    "df.head(10)"
   ]
  },
  {
   "cell_type": "markdown",
   "id": "d110876a",
   "metadata": {},
   "source": [
    "Observe como várias colunas estão com o tipo NaN. Isso se deve a caracteres especiais no conjunto de dados e a forma como o NumPy carrega dados numéricos e do tipo string. Iremos resolver isso"
   ]
  },
  {
   "cell_type": "markdown",
   "id": "148b6872",
   "metadata": {},
   "source": [
    "### Tipo de Dados"
   ]
  },
  {
   "cell_type": "code",
   "execution_count": 35,
   "id": "81ce108e",
   "metadata": {},
   "outputs": [
    {
     "name": "stdout",
     "output_type": "stream",
     "text": [
      "<class 'numpy.ndarray'>\n",
      "<class 'pandas.core.frame.DataFrame'>\n",
      "(10000, 14)\n",
      "(10000, 14)\n"
     ]
    }
   ],
   "source": [
    "print(type(dados))\n",
    "print(type(df))\n",
    "\n",
    "print(dados.shape)\n",
    "print(df.shape)"
   ]
  },
  {
   "cell_type": "code",
   "execution_count": null,
   "id": "17651041",
   "metadata": {},
   "outputs": [],
   "source": []
  }
 ],
 "metadata": {
  "kernelspec": {
   "display_name": "Python 3 (ipykernel)",
   "language": "python",
   "name": "python3"
  },
  "language_info": {
   "codemirror_mode": {
    "name": "ipython",
    "version": 3
   },
   "file_extension": ".py",
   "mimetype": "text/x-python",
   "name": "python",
   "nbconvert_exporter": "python",
   "pygments_lexer": "ipython3",
   "version": "3.9.7"
  }
 },
 "nbformat": 4,
 "nbformat_minor": 5
}
