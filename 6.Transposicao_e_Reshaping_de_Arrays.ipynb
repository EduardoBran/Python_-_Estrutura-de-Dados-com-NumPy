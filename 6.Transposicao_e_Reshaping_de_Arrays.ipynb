{
 "cells": [
  {
   "cell_type": "code",
   "execution_count": 7,
   "id": "ad24bfbb",
   "metadata": {},
   "outputs": [],
   "source": [
    "# Importando o módulo/pacote NumPy\n",
    "import numpy as np"
   ]
  },
  {
   "cell_type": "markdown",
   "id": "a0560df5",
   "metadata": {},
   "source": [
    "# Transposição e Reshaping de Arrays"
   ]
  },
  {
   "cell_type": "code",
   "execution_count": 8,
   "id": "bfaa4467",
   "metadata": {},
   "outputs": [
    {
     "name": "stdout",
     "output_type": "stream",
     "text": [
      "[[65 23 19]\n",
      " [41 87 10]]\n"
     ]
    }
   ],
   "source": [
    "# Criando Array\n",
    "\n",
    "array1 = np.array([[65, 23, 19], [41, 87, 10]])\n",
    "print(array1)"
   ]
  },
  {
   "cell_type": "code",
   "execution_count": 9,
   "id": "4f38ff26",
   "metadata": {},
   "outputs": [
    {
     "data": {
      "text/plain": [
       "array([[65, 41],\n",
       "       [23, 87],\n",
       "       [19, 10]])"
      ]
     },
     "execution_count": 9,
     "metadata": {},
     "output_type": "execute_result"
    }
   ],
   "source": [
    "array1.T"
   ]
  },
  {
   "cell_type": "code",
   "execution_count": 10,
   "id": "11bab40f",
   "metadata": {},
   "outputs": [
    {
     "data": {
      "text/plain": [
       "array([[65, 41],\n",
       "       [23, 87],\n",
       "       [19, 10]])"
      ]
     },
     "execution_count": 10,
     "metadata": {},
     "output_type": "execute_result"
    }
   ],
   "source": [
    "np.transpose(array1)"
   ]
  },
  {
   "cell_type": "markdown",
   "id": "613d048d",
   "metadata": {},
   "source": [
    "### Broadcasting"
   ]
  },
  {
   "cell_type": "code",
   "execution_count": 11,
   "id": "441e871d",
   "metadata": {},
   "outputs": [
    {
     "name": "stdout",
     "output_type": "stream",
     "text": [
      "[[33 34 35]]\n"
     ]
    }
   ],
   "source": [
    "# Criando Array\n",
    "\n",
    "array2 = np.array([[33, 34, 35]])\n",
    "print(array2)"
   ]
  },
  {
   "cell_type": "code",
   "execution_count": 12,
   "id": "bccc8f1d",
   "metadata": {},
   "outputs": [
    {
     "data": {
      "text/plain": [
       "array([[33],\n",
       "       [34],\n",
       "       [35]])"
      ]
     },
     "execution_count": 12,
     "metadata": {},
     "output_type": "execute_result"
    }
   ],
   "source": [
    "array2.T"
   ]
  },
  {
   "cell_type": "code",
   "execution_count": 13,
   "id": "d2b91843",
   "metadata": {},
   "outputs": [
    {
     "data": {
      "text/plain": [
       "array([[66, 67, 68],\n",
       "       [67, 68, 69],\n",
       "       [68, 69, 70]])"
      ]
     },
     "execution_count": 13,
     "metadata": {},
     "output_type": "execute_result"
    }
   ],
   "source": [
    "array2.T + array2"
   ]
  },
  {
   "cell_type": "markdown",
   "id": "3ae6123a",
   "metadata": {},
   "source": [
    "### Transformando Matrizes em Vetores"
   ]
  },
  {
   "cell_type": "code",
   "execution_count": 14,
   "id": "cdfe9599",
   "metadata": {},
   "outputs": [
    {
     "name": "stdout",
     "output_type": "stream",
     "text": [
      "[[ 1  2  3  4  5]\n",
      " [10 11 12 13 14]]\n",
      "2\n"
     ]
    }
   ],
   "source": [
    "# Criando Array\n",
    "\n",
    "array3 = np.array([np.arange(1,6), np.arange(10,15)])\n",
    "print(array3)\n",
    "print(array3.ndim)"
   ]
  },
  {
   "cell_type": "code",
   "execution_count": 15,
   "id": "7d0fbb1f",
   "metadata": {},
   "outputs": [
    {
     "data": {
      "text/plain": [
       "array([ 1,  2,  3,  4,  5, 10, 11, 12, 13, 14])"
      ]
     },
     "execution_count": 15,
     "metadata": {},
     "output_type": "execute_result"
    }
   ],
   "source": [
    "array3.ravel()"
   ]
  },
  {
   "cell_type": "code",
   "execution_count": 16,
   "id": "6bdfe125",
   "metadata": {},
   "outputs": [
    {
     "data": {
      "text/plain": [
       "array([ 1, 10,  2, 11,  3, 12,  4, 13,  5, 14])"
      ]
     },
     "execution_count": 16,
     "metadata": {},
     "output_type": "execute_result"
    }
   ],
   "source": [
    "array3.T.ravel()"
   ]
  },
  {
   "cell_type": "markdown",
   "id": "9bd2d0c0",
   "metadata": {},
   "source": [
    "### Operadores Lógicos"
   ]
  },
  {
   "cell_type": "code",
   "execution_count": 17,
   "id": "68eadca2",
   "metadata": {},
   "outputs": [
    {
     "name": "stdout",
     "output_type": "stream",
     "text": [
      "[[9 9 4 8]\n",
      " [8 1 5 3]\n",
      " [6 3 3 3]\n",
      " [2 1 9 5]]\n"
     ]
    }
   ],
   "source": [
    "np.random.seed(100)\n",
    "array4 = np.random.randint(1, 10, size = (4,4))\n",
    "print(array4)"
   ]
  },
  {
   "cell_type": "code",
   "execution_count": 18,
   "id": "d4171c4a",
   "metadata": {},
   "outputs": [
    {
     "data": {
      "text/plain": [
       "False"
      ]
     },
     "execution_count": 18,
     "metadata": {},
     "output_type": "execute_result"
    }
   ],
   "source": [
    "np.any((array4 % 7) == 0)"
   ]
  },
  {
   "cell_type": "code",
   "execution_count": 19,
   "id": "6ce31b6e",
   "metadata": {},
   "outputs": [
    {
     "data": {
      "text/plain": [
       "True"
      ]
     },
     "execution_count": 19,
     "metadata": {},
     "output_type": "execute_result"
    }
   ],
   "source": [
    "np.all(array4 < 11)"
   ]
  },
  {
   "cell_type": "code",
   "execution_count": 20,
   "id": "abf34602",
   "metadata": {},
   "outputs": [
    {
     "data": {
      "text/plain": [
       "(array([2]),)"
      ]
     },
     "execution_count": 20,
     "metadata": {},
     "output_type": "execute_result"
    }
   ],
   "source": [
    "# Retorne a linha onde o elemento de índice 1 na coluna seja maior que 2 e menor que 9\n",
    "np.where(np.logical_and(array4[:,1] > 2, array4[:,1] < 9))"
   ]
  },
  {
   "cell_type": "code",
   "execution_count": 21,
   "id": "cdf5eec3",
   "metadata": {},
   "outputs": [
    {
     "data": {
      "text/plain": [
       "array([2])"
      ]
     },
     "execution_count": 21,
     "metadata": {},
     "output_type": "execute_result"
    }
   ],
   "source": [
    "# Mesmo resultado que a linha anterior\n",
    "np.intersect1d(np.where(array4[:,1] > 2), np.where(array4[:,1] < 9))"
   ]
  },
  {
   "cell_type": "code",
   "execution_count": 22,
   "id": "a95cfec3",
   "metadata": {},
   "outputs": [
    {
     "data": {
      "text/plain": [
       "array([6, 3, 3, 3])"
      ]
     },
     "execution_count": 22,
     "metadata": {},
     "output_type": "execute_result"
    }
   ],
   "source": [
    "array4[2]"
   ]
  },
  {
   "cell_type": "markdown",
   "id": "f95cdbb3",
   "metadata": {},
   "source": [
    "### Reshaping e Ordenação de Arrays"
   ]
  },
  {
   "cell_type": "code",
   "execution_count": 23,
   "id": "51633c2b",
   "metadata": {},
   "outputs": [
    {
     "name": "stdout",
     "output_type": "stream",
     "text": [
      "[ 1  2  3  4  5  6  7  8  9 10 11 12 13 14 15]\n"
     ]
    }
   ],
   "source": [
    "# Criando Array\n",
    "\n",
    "array5 = np.arange(1,16)\n",
    "print(array5)"
   ]
  },
  {
   "cell_type": "code",
   "execution_count": 24,
   "id": "2c46d463",
   "metadata": {},
   "outputs": [
    {
     "data": {
      "text/plain": [
       "1"
      ]
     },
     "execution_count": 24,
     "metadata": {},
     "output_type": "execute_result"
    }
   ],
   "source": [
    "array5.ndim"
   ]
  },
  {
   "cell_type": "code",
   "execution_count": 25,
   "id": "acc1093b",
   "metadata": {},
   "outputs": [
    {
     "data": {
      "text/plain": [
       "array([[ 1,  2,  3,  4,  5],\n",
       "       [ 6,  7,  8,  9, 10],\n",
       "       [11, 12, 13, 14, 15]])"
      ]
     },
     "execution_count": 25,
     "metadata": {},
     "output_type": "execute_result"
    }
   ],
   "source": [
    "array5.reshape(3, 5)"
   ]
  },
  {
   "cell_type": "code",
   "execution_count": 26,
   "id": "14cc5d45",
   "metadata": {},
   "outputs": [
    {
     "name": "stdout",
     "output_type": "stream",
     "text": [
      "[[ 3  2]\n",
      " [10 -1]]\n"
     ]
    }
   ],
   "source": [
    "array7 = np.array([[3,2],[10,-1]])\n",
    "print(array7)"
   ]
  },
  {
   "cell_type": "code",
   "execution_count": 27,
   "id": "71638dbe",
   "metadata": {},
   "outputs": [
    {
     "name": "stdout",
     "output_type": "stream",
     "text": [
      "[[ 2  3]\n",
      " [-1 10]]\n"
     ]
    }
   ],
   "source": [
    "# Ordenando por linhas\n",
    "array7.sort(axis = 1)\n",
    "print(array7)"
   ]
  },
  {
   "cell_type": "code",
   "execution_count": 28,
   "id": "5ab33696",
   "metadata": {},
   "outputs": [
    {
     "name": "stdout",
     "output_type": "stream",
     "text": [
      "[[ 3  2]\n",
      " [10 -1]]\n"
     ]
    }
   ],
   "source": [
    "array8 = np.array([[3,2],[10,-1]])\n",
    "print(array8)"
   ]
  },
  {
   "cell_type": "code",
   "execution_count": 29,
   "id": "70bbce79",
   "metadata": {},
   "outputs": [
    {
     "name": "stdout",
     "output_type": "stream",
     "text": [
      "[[ 3 -1]\n",
      " [10  2]]\n"
     ]
    }
   ],
   "source": [
    "# Ordenando por colunas\n",
    "array8.sort(axis = 0)\n",
    "print(array8)"
   ]
  },
  {
   "cell_type": "code",
   "execution_count": null,
   "id": "0f815923",
   "metadata": {},
   "outputs": [],
   "source": []
  }
 ],
 "metadata": {
  "kernelspec": {
   "display_name": "Python 3 (ipykernel)",
   "language": "python",
   "name": "python3"
  },
  "language_info": {
   "codemirror_mode": {
    "name": "ipython",
    "version": 3
   },
   "file_extension": ".py",
   "mimetype": "text/x-python",
   "name": "python",
   "nbconvert_exporter": "python",
   "pygments_lexer": "ipython3",
   "version": "3.9.7"
  }
 },
 "nbformat": 4,
 "nbformat_minor": 5
}
