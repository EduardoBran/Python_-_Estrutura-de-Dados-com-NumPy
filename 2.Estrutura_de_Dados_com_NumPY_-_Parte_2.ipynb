{
 "cells": [
  {
   "cell_type": "code",
   "execution_count": 2,
   "id": "98ba47fe",
   "metadata": {},
   "outputs": [],
   "source": [
    "# Importando o módulo/pacote NumPy\n",
    "import numpy as np"
   ]
  },
  {
   "cell_type": "markdown",
   "id": "05297c32",
   "metadata": {},
   "source": [
    "# Criando Estrutura de Dados com NumPy"
   ]
  },
  {
   "cell_type": "code",
   "execution_count": 4,
   "id": "57bd9b1f",
   "metadata": {},
   "outputs": [
    {
     "name": "stdout",
     "output_type": "stream",
     "text": [
      "Array 1:  [10 20 30 40]\n",
      "Array 1 shape:  (4,)\n",
      "Array 1 dimensões:  1\n",
      "Array 2:  [[100  83  15]\n",
      " [ 42  78   0]]\n",
      "Array 2 shape:  (2, 3)\n",
      "Array 2 dimensões:  2\n"
     ]
    }
   ],
   "source": [
    "# Criando Array Unidimensional\n",
    "array1 = np.array([10, 20, 30, 40])\n",
    "print(\"Array 1: \", array1)\n",
    "\n",
    "# Verificando formato (shape) do array\n",
    "print(\"Array 1 shape: \", array1.shape)\n",
    "\n",
    "# Verificando o número de dimensões\n",
    "print(\"Array 1 dimensões: \", array1.ndim)\n",
    "\n",
    "# Criando Array Bidimensional\n",
    "array2 = np.array([[100, 83, 15], [42, 78, 0]])\n",
    "print(\"Array 2: \", array2)\n",
    "\n",
    "# Verificando formato (shape) do array\n",
    "print(\"Array 2 shape: \", array2.shape)\n",
    "\n",
    "# Verificando o número de dimensões\n",
    "print(\"Array 2 dimensões: \", array2.ndim)"
   ]
  },
  {
   "cell_type": "markdown",
   "id": "092a3e12",
   "metadata": {},
   "source": [
    "\n",
    "\n",
    "# Em Python TUDO é Objeto, com Métodos e Atributos\n",
    "\n",
    "### Método - Realiza ação no objeto"
   ]
  },
  {
   "cell_type": "code",
   "execution_count": 6,
   "id": "1103bd27",
   "metadata": {},
   "outputs": [
    {
     "name": "stdout",
     "output_type": "stream",
     "text": [
      "Array 2 max:  100\n",
      "Array 2 atributo:  2\n"
     ]
    }
   ],
   "source": [
    "# Método (normalmente é uma função)\n",
    "print('Array 2 max: ', array2.max())\n",
    "\n",
    "# Atributo (é uma característica, propriedade)\n",
    "print('Array 2 atributo: ', array2.ndim)"
   ]
  },
  {
   "cell_type": "markdown",
   "id": "0378b859",
   "metadata": {},
   "source": [
    "# Criando Estrutura de Dados com Arange"
   ]
  },
  {
   "cell_type": "code",
   "execution_count": 7,
   "id": "69a8aef3",
   "metadata": {},
   "outputs": [
    {
     "name": "stdout",
     "output_type": "stream",
     "text": [
      "Array 3 arange:  [ 0  1  2  3  4  5  6  7  8  9 10 11 12 13 14]\n"
     ]
    }
   ],
   "source": [
    "# Criando Estrutura\n",
    "\n",
    "array3 = np.arange(15)\n",
    "print('Array 3 arange: ', array3)"
   ]
  },
  {
   "cell_type": "code",
   "execution_count": 13,
   "id": "b21945d3",
   "metadata": {},
   "outputs": [
    {
     "name": "stdout",
     "output_type": "stream",
     "text": [
      "Array 4 arange:  [ 0  3  6  9 12]\n"
     ]
    }
   ],
   "source": [
    "# Customizando a forma de criar um array usando Arange com os atributos start/end/nº de saltos\n",
    "\n",
    "array4 = np.arange(0, 15, 3)\n",
    "print('Array 4 arange: ', array4)"
   ]
  },
  {
   "cell_type": "markdown",
   "id": "c616651c",
   "metadata": {},
   "source": [
    "# Criando Estrutura de Dados com Linspace"
   ]
  },
  {
   "cell_type": "code",
   "execution_count": 18,
   "id": "83d9c3a6",
   "metadata": {},
   "outputs": [
    {
     "name": "stdout",
     "output_type": "stream",
     "text": [
      "Array 5 linspace:  [0. 1. 2. 3.]\n"
     ]
    }
   ],
   "source": [
    "# Customizando a forma de criar um array usando Linspace com os atributos start/end/nº de elementos\n",
    "\n",
    "array5 = np.linspace(0, 3, 4); print('Array 5 linspace: ', array5)"
   ]
  },
  {
   "cell_type": "markdown",
   "id": "0e8b7470",
   "metadata": {},
   "source": [
    "# Criando Estrutura de Dados com Outras Funções\n",
    "\n",
    "### numpy.zeros"
   ]
  },
  {
   "cell_type": "code",
   "execution_count": 24,
   "id": "45004df0",
   "metadata": {},
   "outputs": [
    {
     "name": "stdout",
     "output_type": "stream",
     "text": [
      "[[0. 0. 0. 0. 0. 0. 0. 0.]\n",
      " [0. 0. 0. 0. 0. 0. 0. 0.]\n",
      " [0. 0. 0. 0. 0. 0. 0. 0.]\n",
      " [0. 0. 0. 0. 0. 0. 0. 0.]\n",
      " [0. 0. 0. 0. 0. 0. 0. 0.]\n",
      " [0. 0. 0. 0. 0. 0. 0. 0.]\n",
      " [0. 0. 0. 0. 0. 0. 0. 0.]\n",
      " [0. 0. 0. 0. 0. 0. 0. 0.]\n",
      " [0. 0. 0. 0. 0. 0. 0. 0.]\n",
      " [0. 0. 0. 0. 0. 0. 0. 0.]]\n"
     ]
    }
   ],
   "source": [
    "# Array 10x8 de zeros\n",
    "\n",
    "array6 = np.zeros((10, 8)); print(array6)"
   ]
  },
  {
   "cell_type": "markdown",
   "id": "b4466faa",
   "metadata": {},
   "source": [
    "### numpy.ones"
   ]
  },
  {
   "cell_type": "code",
   "execution_count": 28,
   "id": "e1ecf75d",
   "metadata": {
    "scrolled": false
   },
   "outputs": [
    {
     "name": "stdout",
     "output_type": "stream",
     "text": [
      "[[[1. 1.]\n",
      "  [1. 1.]\n",
      "  [1. 1.]]\n",
      "\n",
      " [[1. 1.]\n",
      "  [1. 1.]\n",
      "  [1. 1.]]]\n"
     ]
    }
   ],
   "source": [
    "# Array 2x3x2 de 1's\n",
    "\n",
    "array7 = np.ones((2, 3, 2)); print(array7)"
   ]
  },
  {
   "cell_type": "markdown",
   "id": "5d84c65e",
   "metadata": {},
   "source": [
    "### numpy.eye"
   ]
  },
  {
   "cell_type": "code",
   "execution_count": 29,
   "id": "73ab4681",
   "metadata": {},
   "outputs": [
    {
     "name": "stdout",
     "output_type": "stream",
     "text": [
      "[[1. 0. 0.]\n",
      " [0. 1. 0.]\n",
      " [0. 0. 1.]]\n"
     ]
    }
   ],
   "source": [
    "# Produz uma Matriz Identidade\n",
    "\n",
    "array8 = np.eye(3); print(array8)"
   ]
  },
  {
   "cell_type": "markdown",
   "id": "98ec9fbb",
   "metadata": {},
   "source": [
    "### numpy.diag"
   ]
  },
  {
   "cell_type": "code",
   "execution_count": 30,
   "id": "f012b1fd",
   "metadata": {},
   "outputs": [
    {
     "name": "stdout",
     "output_type": "stream",
     "text": [
      "[[2 0 0 0]\n",
      " [0 1 0 0]\n",
      " [0 0 4 0]\n",
      " [0 0 0 6]]\n"
     ]
    }
   ],
   "source": [
    "# Matriz Diagonal\n",
    "\n",
    "array9 = np.diag((2, 1, 4, 6)); print(array9)"
   ]
  },
  {
   "cell_type": "markdown",
   "id": "9dbb4987",
   "metadata": {},
   "source": [
    "### numpy.random.rand"
   ]
  },
  {
   "cell_type": "code",
   "execution_count": 31,
   "id": "7b1e78f1",
   "metadata": {},
   "outputs": [
    {
     "name": "stdout",
     "output_type": "stream",
     "text": [
      "[0.54340494 0.27836939 0.42451759 0.84477613 0.00471886]\n"
     ]
    }
   ],
   "source": [
    "# A função rand produz uma sequência de números uniformemente distribuidos com range de 0 a n\n",
    "\n",
    "np.random.seed(100)\n",
    "array10 = np.random.rand(5); print(array10)"
   ]
  },
  {
   "cell_type": "code",
   "execution_count": 33,
   "id": "f429fde9",
   "metadata": {},
   "outputs": [
    {
     "name": "stdout",
     "output_type": "stream",
     "text": [
      "[-0.78606433 -0.2318722   0.20797568  0.93580797  0.17957831]\n"
     ]
    }
   ],
   "source": [
    "# A função rand(n) produz uma sequência de números com distribuição normal (Gaussian)\n",
    "\n",
    "array11 = np.random.randn(5); print(array11)"
   ]
  },
  {
   "cell_type": "markdown",
   "id": "7668026b",
   "metadata": {},
   "source": [
    "### numpy.empty"
   ]
  },
  {
   "cell_type": "code",
   "execution_count": 34,
   "id": "d88ae91d",
   "metadata": {},
   "outputs": [
    {
     "name": "stdout",
     "output_type": "stream",
     "text": [
      "[[4.65287106e-310 0.00000000e+000]\n",
      " [0.00000000e+000 0.00000000e+000]\n",
      " [0.00000000e+000 0.00000000e+000]]\n"
     ]
    }
   ],
   "source": [
    "array12 = np.empty((3, 2)); print(array12)"
   ]
  },
  {
   "cell_type": "markdown",
   "id": "01fc6017",
   "metadata": {},
   "source": [
    "### numpy.tile"
   ]
  },
  {
   "cell_type": "code",
   "execution_count": 37,
   "id": "e3d3301d",
   "metadata": {},
   "outputs": [
    {
     "data": {
      "text/plain": [
       "array([[9, 4],\n",
       "       [3, 7]])"
      ]
     },
     "execution_count": 37,
     "metadata": {},
     "output_type": "execute_result"
    }
   ],
   "source": [
    "np.array([[9, 4], [3, 7]])"
   ]
  },
  {
   "cell_type": "code",
   "execution_count": 38,
   "id": "fbbd921e",
   "metadata": {},
   "outputs": [
    {
     "data": {
      "text/plain": [
       "array([[9, 4, 9, 4, 9, 4, 9, 4],\n",
       "       [3, 7, 3, 7, 3, 7, 3, 7]])"
      ]
     },
     "execution_count": 38,
     "metadata": {},
     "output_type": "execute_result"
    }
   ],
   "source": [
    "np.tile(np.array([[9, 4], [3, 7]]), 4)"
   ]
  },
  {
   "cell_type": "code",
   "execution_count": 39,
   "id": "5e3d0693",
   "metadata": {},
   "outputs": [
    {
     "data": {
      "text/plain": [
       "array([[9, 4, 9, 4],\n",
       "       [3, 7, 3, 7],\n",
       "       [9, 4, 9, 4],\n",
       "       [3, 7, 3, 7]])"
      ]
     },
     "execution_count": 39,
     "metadata": {},
     "output_type": "execute_result"
    }
   ],
   "source": [
    "np.tile(np.array([[9, 4], [3, 7]]), (2, 2))"
   ]
  },
  {
   "cell_type": "code",
   "execution_count": null,
   "id": "9c12f1cf",
   "metadata": {},
   "outputs": [],
   "source": []
  }
 ],
 "metadata": {
  "kernelspec": {
   "display_name": "Python 3 (ipykernel)",
   "language": "python",
   "name": "python3"
  },
  "language_info": {
   "codemirror_mode": {
    "name": "ipython",
    "version": 3
   },
   "file_extension": ".py",
   "mimetype": "text/x-python",
   "name": "python",
   "nbconvert_exporter": "python",
   "pygments_lexer": "ipython3",
   "version": "3.9.7"
  }
 },
 "nbformat": 4,
 "nbformat_minor": 5
}
