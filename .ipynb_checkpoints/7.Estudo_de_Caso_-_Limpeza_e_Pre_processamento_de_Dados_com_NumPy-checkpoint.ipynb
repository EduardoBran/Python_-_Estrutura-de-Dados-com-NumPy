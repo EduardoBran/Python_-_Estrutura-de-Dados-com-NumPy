{
 "cells": [
  {
   "cell_type": "markdown",
   "id": "826347b9",
   "metadata": {},
   "source": [
    "# Estudo de Caso - Limpeza e Pré-Processamento de Dados com NumPy"
   ]
  },
  {
   "cell_type": "markdown",
   "id": "efb20ea5",
   "metadata": {},
   "source": [
    "### Contexto:\n",
    "\n",
    "Imagine que em um determinado projeto de Ciência de Dados você receba um dataset extremamente complicado, contendo dados com muitas strings, caracteres especiais, problemas de encoding, datas  mal  formatadas,  números  e  textos  na  mesma  coluna,  url’s  contendo  Ids importantes para análise, valores ausentes, coluna que contém informação que deveria estar distribuída  em três ou  mais  colunas. E  como  se  não  bastasse  tudo  isso,  parte  dos  dados necessários para análise está em outro dataset, que deve ser combinado com o primeiro.\n",
    "\n",
    "Seu trabalho seria limpar e pré-processar esse dataset, preparando-o para a sequência do processo de análise.\n",
    "\n",
    "É exatamente este cenário que estamos reproduzindo no Estudo de Caso 1. A partir de dados complexos e com diversos problemas, iremos fazer um extenso trabalho de limpeza e pré-processamento. E tudo isso usando apenas o NumPy,  poderoso pacote da Linguagem Python para computação e processamento de dados.\n",
    "\n",
    "#### Este Estudo de Caso traz uma quantidade incrível de conhecimento sobre manipulação de dados em Python."
   ]
  },
  {
   "cell_type": "markdown",
   "id": "a08526c1",
   "metadata": {},
   "source": [
    "## Definição do Problema e Fonte de Dados\n",
    "\n",
    "#### Para este Estudo de Caso trabalharemos com dado reais disponíveis publicamente no link abaixo:\n",
    "    \n",
    "    https://www.openintro.org/data/index.php?data=loans_full_schema\n",
    "\n",
    "Esse conjunto de dados representa milhares de empréstimos feitos por meio da plataforma Lending Club, que é uma\n",
    "plataforma que permite que indivíduos emprestem para outros indivíduos.\n",
    "\n",
    "Claro, nem todos os empréstimos são iguais. Alguém que fornece um baixo risco e que provavelmente vai pagar um\n",
    "empréstimo terá mais facilidade em obter um empréstimo com uma taxa de juros baixa do que alguém que parece ser\n",
    "mais arriscado.\n",
    "\n",
    "E para as pessoas com alto risco de não pagar o empréstimo? Essas pessoas podem nem receber uma oferta de empréstimo, ou podem não aceitar uma oferta de empréstimo devido a uma alta taxa de juros. É importante ter em mente essa última parte, pois esse conjunto de dados representa  apenas  empréstimos  efetivamente  feitos,  ou  seja,  não  confunda  esses  dados  com pedidos de empréstimo!\n",
    "\n",
    "Usamos como fonte de dados o dataset disponível no link acima, mas fizemos modificações nos dados para deixá-los ainda mais problemáticos. O dataset será fornecido a você junto com os demais arquivos do capítulo.\n",
    "\n",
    "Além  disso  usaremos  um  dataset  com  cotação  do  dólar  em  relação  ao  Euro.  Extraímos uma pequena amostra de dados do site: https://finance.yahoo.com. O dataset será fornecido a você junto com os demais arquivos do capítulo."
   ]
  },
  {
   "cell_type": "markdown",
   "id": "6a101d0c",
   "metadata": {},
   "source": [
    "## Objetivo:\n",
    "\n",
    "Nosso trabalho é limpar e pré-processar os dados, deixando-os no formato ideal para um processo de análise posterior e várias decisões terão que ser tomadas no meio do caminho. Ao final do trabalho devemos salvar o dataset com os dados limpos e pré-processados"
   ]
  },
  {
   "cell_type": "markdown",
   "id": "93753a82",
   "metadata": {},
   "source": [
    "## Importando Pacotes e Configurando Impressão do NumPy"
   ]
  },
  {
   "cell_type": "code",
   "execution_count": 56,
   "id": "351b2a8e",
   "metadata": {},
   "outputs": [],
   "source": [
    "import numpy as np\n",
    "import warnings\n",
    "warnings.filterwarnings('ignore')\n",
    "np.set_printoptions(suppress = True, linewidth = 200, precision = 2)"
   ]
  },
  {
   "cell_type": "markdown",
   "id": "a3c21207",
   "metadata": {},
   "source": [
    "## Verificando a Codificação do Arquivo"
   ]
  },
  {
   "cell_type": "code",
   "execution_count": 57,
   "id": "8ba043a0",
   "metadata": {},
   "outputs": [
    {
     "name": "stdout",
     "output_type": "stream",
     "text": [
      "windows-1251\n"
     ]
    }
   ],
   "source": [
    "import chardet\n",
    "\n",
    "with open('datasets/dataset1.csv', 'rb') as f:\n",
    "    result = chardet.detect(f.read())  # Lê uma amostra do arquivo\n",
    "    print(result['encoding'])"
   ]
  },
  {
   "cell_type": "markdown",
   "id": "aace5cbd",
   "metadata": {},
   "source": [
    "## Carregando e Visualizando o Dataset"
   ]
  },
  {
   "cell_type": "code",
   "execution_count": 58,
   "id": "4c12cd4e",
   "metadata": {
    "scrolled": false
   },
   "outputs": [
    {
     "data": {
      "text/plain": [
       "array([[48010226.  ,         nan,    35000.  , ...,         nan,         nan,     9452.96],\n",
       "       [57693261.  ,         nan,    30000.  , ...,         nan,         nan,     4679.7 ],\n",
       "       [59432726.  ,         nan,    15000.  , ...,         nan,         nan,     1969.83],\n",
       "       ...,\n",
       "       [50415990.  ,         nan,    10000.  , ...,         nan,         nan,     2185.64],\n",
       "       [46154151.  ,         nan,         nan, ...,         nan,         nan,     3199.4 ],\n",
       "       [66055249.  ,         nan,    10000.  , ...,         nan,         nan,      301.9 ]])"
      ]
     },
     "execution_count": 58,
     "metadata": {},
     "output_type": "execute_result"
    }
   ],
   "source": [
    "# Forma 1 (se não justificar o att dtype pois np.genfromtxt por padrão trata todo o arquivo como dados numéricos)\n",
    "\n",
    "dados = np.genfromtxt(\"datasets/dataset1.csv\",\n",
    "                     delimiter = ';',\n",
    "                     skip_header = 1,              # não carrega cabeçalho \n",
    "                     autostrip = True,\n",
    "                     encoding = 'windows-1251'     # 'cp1252'\n",
    "                     )\n",
    "print(dados)\n"
   ]
  },
  {
   "cell_type": "code",
   "execution_count": 77,
   "id": "c6f72d9a",
   "metadata": {},
   "outputs": [
    {
     "name": "stdout",
     "output_type": "stream",
     "text": [
      "[['id' 'issue_d' 'loan_amnt' ... 'url' 'addr_state' 'total_pymnt']\n",
      " ['48010226' 'May-15' '35000.0' ... 'https://www.lendingclub.com/browse/loanDetail.action?loan_id=48010226' 'CA' '9452.96']\n",
      " ['57693261' '' '30000.0' ... 'https://www.lendingclub.com/browse/loanDetail.action?loan_id=57693261' 'NY' '4679.7']\n",
      " ...\n",
      " ['50415990' 'Jun-15' '10000.0' ... 'https://www.lendingclub.com/browse/loanDetail.action?loan_id=50415990' 'CA' '2185.64']\n",
      " ['46154151' 'Apr-15' '' ... 'https://www.lendingclub.com/browse/loanDetail.action?loan_id=46154151' 'OH' '3199.4']\n",
      " ['66055249' 'Dec-15' '10000.0' ... 'https://www.lendingclub.com/browse/loanDetail.action?loan_id=66055249' 'IL' '301.9']]\n",
      "['id' 'issue_d' 'loan_amnt' 'loan_status' 'funded_amnt' 'term' 'int_rate' 'installment' 'grade' 'sub_grade' 'verification_status' 'url' 'addr_state' 'total_pymnt']\n"
     ]
    }
   ],
   "source": [
    "# Forma 2 (atribuindo valor ao atributo dtype para tratar todo o arquivo como dados string)\n",
    "\n",
    "\n",
    "dados2 = np.genfromtxt(\"datasets/dataset1.csv\",\n",
    "                     delimiter = ';',\n",
    "                     dtype=str,              \n",
    "                     autostrip = True,\n",
    "                     encoding = 'windows-1251'     # 'cp1252'\n",
    "                     )\n",
    "print(dados2)"
   ]
  },
  {
   "cell_type": "markdown",
   "id": "a6088138",
   "metadata": {},
   "source": [
    "### Utilizando Pandas Apenas Para Visualizar o Dataset"
   ]
  },
  {
   "cell_type": "code",
   "execution_count": 82,
   "id": "533c3469",
   "metadata": {},
   "outputs": [
    {
     "data": {
      "text/html": [
       "<div>\n",
       "<style scoped>\n",
       "    .dataframe tbody tr th:only-of-type {\n",
       "        vertical-align: middle;\n",
       "    }\n",
       "\n",
       "    .dataframe tbody tr th {\n",
       "        vertical-align: top;\n",
       "    }\n",
       "\n",
       "    .dataframe thead th {\n",
       "        text-align: right;\n",
       "    }\n",
       "</style>\n",
       "<table border=\"1\" class=\"dataframe\">\n",
       "  <thead>\n",
       "    <tr style=\"text-align: right;\">\n",
       "      <th></th>\n",
       "      <th>0</th>\n",
       "      <th>1</th>\n",
       "      <th>2</th>\n",
       "      <th>3</th>\n",
       "      <th>4</th>\n",
       "      <th>5</th>\n",
       "      <th>6</th>\n",
       "      <th>7</th>\n",
       "      <th>8</th>\n",
       "      <th>9</th>\n",
       "      <th>10</th>\n",
       "      <th>11</th>\n",
       "      <th>12</th>\n",
       "      <th>13</th>\n",
       "    </tr>\n",
       "  </thead>\n",
       "  <tbody>\n",
       "    <tr>\n",
       "      <th>0</th>\n",
       "      <td>48010226.0</td>\n",
       "      <td>NaN</td>\n",
       "      <td>35000.0</td>\n",
       "      <td>NaN</td>\n",
       "      <td>35000.0</td>\n",
       "      <td>NaN</td>\n",
       "      <td>13.33</td>\n",
       "      <td>1184.86</td>\n",
       "      <td>NaN</td>\n",
       "      <td>NaN</td>\n",
       "      <td>NaN</td>\n",
       "      <td>NaN</td>\n",
       "      <td>NaN</td>\n",
       "      <td>9452.96</td>\n",
       "    </tr>\n",
       "    <tr>\n",
       "      <th>1</th>\n",
       "      <td>57693261.0</td>\n",
       "      <td>NaN</td>\n",
       "      <td>30000.0</td>\n",
       "      <td>NaN</td>\n",
       "      <td>30000.0</td>\n",
       "      <td>NaN</td>\n",
       "      <td>NaN</td>\n",
       "      <td>938.57</td>\n",
       "      <td>NaN</td>\n",
       "      <td>NaN</td>\n",
       "      <td>NaN</td>\n",
       "      <td>NaN</td>\n",
       "      <td>NaN</td>\n",
       "      <td>4679.70</td>\n",
       "    </tr>\n",
       "    <tr>\n",
       "      <th>2</th>\n",
       "      <td>59432726.0</td>\n",
       "      <td>NaN</td>\n",
       "      <td>15000.0</td>\n",
       "      <td>NaN</td>\n",
       "      <td>15000.0</td>\n",
       "      <td>NaN</td>\n",
       "      <td>NaN</td>\n",
       "      <td>494.86</td>\n",
       "      <td>NaN</td>\n",
       "      <td>NaN</td>\n",
       "      <td>NaN</td>\n",
       "      <td>NaN</td>\n",
       "      <td>NaN</td>\n",
       "      <td>1969.83</td>\n",
       "    </tr>\n",
       "    <tr>\n",
       "      <th>3</th>\n",
       "      <td>53222800.0</td>\n",
       "      <td>NaN</td>\n",
       "      <td>9600.0</td>\n",
       "      <td>NaN</td>\n",
       "      <td>9600.0</td>\n",
       "      <td>NaN</td>\n",
       "      <td>NaN</td>\n",
       "      <td>300.35</td>\n",
       "      <td>NaN</td>\n",
       "      <td>NaN</td>\n",
       "      <td>NaN</td>\n",
       "      <td>NaN</td>\n",
       "      <td>NaN</td>\n",
       "      <td>1793.68</td>\n",
       "    </tr>\n",
       "    <tr>\n",
       "      <th>4</th>\n",
       "      <td>57803010.0</td>\n",
       "      <td>NaN</td>\n",
       "      <td>8075.0</td>\n",
       "      <td>NaN</td>\n",
       "      <td>8075.0</td>\n",
       "      <td>NaN</td>\n",
       "      <td>19.19</td>\n",
       "      <td>296.78</td>\n",
       "      <td>NaN</td>\n",
       "      <td>NaN</td>\n",
       "      <td>NaN</td>\n",
       "      <td>NaN</td>\n",
       "      <td>NaN</td>\n",
       "      <td>1178.51</td>\n",
       "    </tr>\n",
       "    <tr>\n",
       "      <th>5</th>\n",
       "      <td>63398019.0</td>\n",
       "      <td>NaN</td>\n",
       "      <td>14400.0</td>\n",
       "      <td>NaN</td>\n",
       "      <td>14400.0</td>\n",
       "      <td>NaN</td>\n",
       "      <td>13.99</td>\n",
       "      <td>334.99</td>\n",
       "      <td>NaN</td>\n",
       "      <td>NaN</td>\n",
       "      <td>NaN</td>\n",
       "      <td>NaN</td>\n",
       "      <td>NaN</td>\n",
       "      <td>681.17</td>\n",
       "    </tr>\n",
       "    <tr>\n",
       "      <th>6</th>\n",
       "      <td>60850626.0</td>\n",
       "      <td>NaN</td>\n",
       "      <td>NaN</td>\n",
       "      <td>NaN</td>\n",
       "      <td>13000.0</td>\n",
       "      <td>NaN</td>\n",
       "      <td>24.99</td>\n",
       "      <td>381.50</td>\n",
       "      <td>NaN</td>\n",
       "      <td>NaN</td>\n",
       "      <td>NaN</td>\n",
       "      <td>NaN</td>\n",
       "      <td>NaN</td>\n",
       "      <td>1126.45</td>\n",
       "    </tr>\n",
       "    <tr>\n",
       "      <th>7</th>\n",
       "      <td>46816139.0</td>\n",
       "      <td>NaN</td>\n",
       "      <td>7500.0</td>\n",
       "      <td>NaN</td>\n",
       "      <td>7500.0</td>\n",
       "      <td>NaN</td>\n",
       "      <td>13.33</td>\n",
       "      <td>253.90</td>\n",
       "      <td>NaN</td>\n",
       "      <td>NaN</td>\n",
       "      <td>NaN</td>\n",
       "      <td>NaN</td>\n",
       "      <td>NaN</td>\n",
       "      <td>2025.65</td>\n",
       "    </tr>\n",
       "    <tr>\n",
       "      <th>8</th>\n",
       "      <td>63918356.0</td>\n",
       "      <td>NaN</td>\n",
       "      <td>8000.0</td>\n",
       "      <td>NaN</td>\n",
       "      <td>8000.0</td>\n",
       "      <td>NaN</td>\n",
       "      <td>NaN</td>\n",
       "      <td>250.29</td>\n",
       "      <td>NaN</td>\n",
       "      <td>NaN</td>\n",
       "      <td>NaN</td>\n",
       "      <td>NaN</td>\n",
       "      <td>NaN</td>\n",
       "      <td>497.07</td>\n",
       "    </tr>\n",
       "    <tr>\n",
       "      <th>9</th>\n",
       "      <td>63651616.0</td>\n",
       "      <td>NaN</td>\n",
       "      <td>7200.0</td>\n",
       "      <td>NaN</td>\n",
       "      <td>7200.0</td>\n",
       "      <td>NaN</td>\n",
       "      <td>NaN</td>\n",
       "      <td>241.18</td>\n",
       "      <td>NaN</td>\n",
       "      <td>NaN</td>\n",
       "      <td>NaN</td>\n",
       "      <td>NaN</td>\n",
       "      <td>NaN</td>\n",
       "      <td>512.57</td>\n",
       "    </tr>\n",
       "  </tbody>\n",
       "</table>\n",
       "</div>"
      ],
      "text/plain": [
       "           0   1        2   3        4   5      6        7   8   9   10  11  \\\n",
       "0  48010226.0 NaN  35000.0 NaN  35000.0 NaN  13.33  1184.86 NaN NaN NaN NaN   \n",
       "1  57693261.0 NaN  30000.0 NaN  30000.0 NaN    NaN   938.57 NaN NaN NaN NaN   \n",
       "2  59432726.0 NaN  15000.0 NaN  15000.0 NaN    NaN   494.86 NaN NaN NaN NaN   \n",
       "3  53222800.0 NaN   9600.0 NaN   9600.0 NaN    NaN   300.35 NaN NaN NaN NaN   \n",
       "4  57803010.0 NaN   8075.0 NaN   8075.0 NaN  19.19   296.78 NaN NaN NaN NaN   \n",
       "5  63398019.0 NaN  14400.0 NaN  14400.0 NaN  13.99   334.99 NaN NaN NaN NaN   \n",
       "6  60850626.0 NaN      NaN NaN  13000.0 NaN  24.99   381.50 NaN NaN NaN NaN   \n",
       "7  46816139.0 NaN   7500.0 NaN   7500.0 NaN  13.33   253.90 NaN NaN NaN NaN   \n",
       "8  63918356.0 NaN   8000.0 NaN   8000.0 NaN    NaN   250.29 NaN NaN NaN NaN   \n",
       "9  63651616.0 NaN   7200.0 NaN   7200.0 NaN    NaN   241.18 NaN NaN NaN NaN   \n",
       "\n",
       "   12       13  \n",
       "0 NaN  9452.96  \n",
       "1 NaN  4679.70  \n",
       "2 NaN  1969.83  \n",
       "3 NaN  1793.68  \n",
       "4 NaN  1178.51  \n",
       "5 NaN   681.17  \n",
       "6 NaN  1126.45  \n",
       "7 NaN  2025.65  \n",
       "8 NaN   497.07  \n",
       "9 NaN   512.57  "
      ]
     },
     "execution_count": 82,
     "metadata": {},
     "output_type": "execute_result"
    }
   ],
   "source": [
    "import pandas as pd\n",
    "\n",
    "# Convertendo o array NumPy para um DataFrame do Pandas\n",
    "df = pd.DataFrame(dados)\n",
    "\n",
    "# Exibindo o DataFrame\n",
    "df.head(10)"
   ]
  },
  {
   "cell_type": "markdown",
   "id": "59777df6",
   "metadata": {},
   "source": [
    "Observe como várias colunas estão com o tipo NaN. Isso se deve a caracteres especiais no conjunto de dados e a forma como o NumPy carrega dados numéricos e do tipo string. Iremos resolver isso"
   ]
  },
  {
   "cell_type": "code",
   "execution_count": 83,
   "id": "240bfebd",
   "metadata": {},
   "outputs": [
    {
     "data": {
      "text/html": [
       "<div>\n",
       "<style scoped>\n",
       "    .dataframe tbody tr th:only-of-type {\n",
       "        vertical-align: middle;\n",
       "    }\n",
       "\n",
       "    .dataframe tbody tr th {\n",
       "        vertical-align: top;\n",
       "    }\n",
       "\n",
       "    .dataframe thead th {\n",
       "        text-align: right;\n",
       "    }\n",
       "</style>\n",
       "<table border=\"1\" class=\"dataframe\">\n",
       "  <thead>\n",
       "    <tr style=\"text-align: right;\">\n",
       "      <th></th>\n",
       "      <th>0</th>\n",
       "      <th>1</th>\n",
       "      <th>2</th>\n",
       "      <th>3</th>\n",
       "      <th>4</th>\n",
       "      <th>5</th>\n",
       "      <th>6</th>\n",
       "      <th>7</th>\n",
       "      <th>8</th>\n",
       "      <th>9</th>\n",
       "      <th>10</th>\n",
       "      <th>11</th>\n",
       "      <th>12</th>\n",
       "      <th>13</th>\n",
       "    </tr>\n",
       "  </thead>\n",
       "  <tbody>\n",
       "    <tr>\n",
       "      <th>0</th>\n",
       "      <td>id</td>\n",
       "      <td>issue_d</td>\n",
       "      <td>loan_amnt</td>\n",
       "      <td>loan_status</td>\n",
       "      <td>funded_amnt</td>\n",
       "      <td>term</td>\n",
       "      <td>int_rate</td>\n",
       "      <td>installment</td>\n",
       "      <td>grade</td>\n",
       "      <td>sub_grade</td>\n",
       "      <td>verification_status</td>\n",
       "      <td>url</td>\n",
       "      <td>addr_state</td>\n",
       "      <td>total_pymnt</td>\n",
       "    </tr>\n",
       "    <tr>\n",
       "      <th>1</th>\n",
       "      <td>48010226</td>\n",
       "      <td>May-15</td>\n",
       "      <td>35000.0</td>\n",
       "      <td>Current</td>\n",
       "      <td>35000.0</td>\n",
       "      <td>36 months</td>\n",
       "      <td>13.33</td>\n",
       "      <td>1184.86</td>\n",
       "      <td>C</td>\n",
       "      <td>C3</td>\n",
       "      <td>Verified</td>\n",
       "      <td>https://www.lendingclub.com/browse/loanDetail....</td>\n",
       "      <td>CA</td>\n",
       "      <td>9452.96</td>\n",
       "    </tr>\n",
       "    <tr>\n",
       "      <th>2</th>\n",
       "      <td>57693261</td>\n",
       "      <td></td>\n",
       "      <td>30000.0</td>\n",
       "      <td>Current</td>\n",
       "      <td>30000.0</td>\n",
       "      <td>36 months</td>\n",
       "      <td>юли.89</td>\n",
       "      <td>938.57</td>\n",
       "      <td>A</td>\n",
       "      <td>A5</td>\n",
       "      <td>Source Verified</td>\n",
       "      <td>https://www.lendingclub.com/browse/loanDetail....</td>\n",
       "      <td>NY</td>\n",
       "      <td>4679.7</td>\n",
       "    </tr>\n",
       "    <tr>\n",
       "      <th>3</th>\n",
       "      <td>59432726</td>\n",
       "      <td>Sep-15</td>\n",
       "      <td>15000.0</td>\n",
       "      <td>Current</td>\n",
       "      <td>15000.0</td>\n",
       "      <td>36 months</td>\n",
       "      <td>ное.53</td>\n",
       "      <td>494.86</td>\n",
       "      <td>B</td>\n",
       "      <td>B5</td>\n",
       "      <td>Verified</td>\n",
       "      <td>https://www.lendingclub.com/browse/loanDetail....</td>\n",
       "      <td>PA</td>\n",
       "      <td>1969.83</td>\n",
       "    </tr>\n",
       "    <tr>\n",
       "      <th>4</th>\n",
       "      <td>53222800</td>\n",
       "      <td>Jul-15</td>\n",
       "      <td>9600.0</td>\n",
       "      <td>Current</td>\n",
       "      <td>9600.0</td>\n",
       "      <td>36 months</td>\n",
       "      <td>юли.89</td>\n",
       "      <td>300.35</td>\n",
       "      <td>A</td>\n",
       "      <td>A5</td>\n",
       "      <td>Not Verified</td>\n",
       "      <td>https://www.lendingclub.com/browse/loanDetail....</td>\n",
       "      <td>OH</td>\n",
       "      <td>1793.68</td>\n",
       "    </tr>\n",
       "    <tr>\n",
       "      <th>5</th>\n",
       "      <td>57803010</td>\n",
       "      <td>Aug-15</td>\n",
       "      <td>8075.0</td>\n",
       "      <td>Current</td>\n",
       "      <td>8075.0</td>\n",
       "      <td>36 months</td>\n",
       "      <td>19.19</td>\n",
       "      <td>296.78</td>\n",
       "      <td></td>\n",
       "      <td>E3</td>\n",
       "      <td>Source Verified</td>\n",
       "      <td>https://www.lendingclub.com/browse/loanDetail....</td>\n",
       "      <td>TX</td>\n",
       "      <td>1178.51</td>\n",
       "    </tr>\n",
       "    <tr>\n",
       "      <th>6</th>\n",
       "      <td>63398019</td>\n",
       "      <td>Oct-15</td>\n",
       "      <td>14400.0</td>\n",
       "      <td>Current</td>\n",
       "      <td>14400.0</td>\n",
       "      <td>60 months</td>\n",
       "      <td>13.99</td>\n",
       "      <td>334.99</td>\n",
       "      <td></td>\n",
       "      <td>C4</td>\n",
       "      <td>Not Verified</td>\n",
       "      <td>https://www.lendingclub.com/browse/loanDetail....</td>\n",
       "      <td>AL</td>\n",
       "      <td>681.17</td>\n",
       "    </tr>\n",
       "    <tr>\n",
       "      <th>7</th>\n",
       "      <td>60850626</td>\n",
       "      <td>Sep-15</td>\n",
       "      <td></td>\n",
       "      <td>Current</td>\n",
       "      <td>13000.0</td>\n",
       "      <td>60 months</td>\n",
       "      <td>24.99</td>\n",
       "      <td>381.5</td>\n",
       "      <td>F</td>\n",
       "      <td>F4</td>\n",
       "      <td>Source Verified</td>\n",
       "      <td>https://www.lendingclub.com/browse/loanDetail....</td>\n",
       "      <td>CA</td>\n",
       "      <td>1126.45</td>\n",
       "    </tr>\n",
       "    <tr>\n",
       "      <th>8</th>\n",
       "      <td>46816139</td>\n",
       "      <td>Apr-15</td>\n",
       "      <td>7500.0</td>\n",
       "      <td>Current</td>\n",
       "      <td>7500.0</td>\n",
       "      <td>36 months</td>\n",
       "      <td>13.33</td>\n",
       "      <td>253.9</td>\n",
       "      <td>C</td>\n",
       "      <td>C3</td>\n",
       "      <td></td>\n",
       "      <td>https://www.lendingclub.com/browse/loanDetail....</td>\n",
       "      <td>GA</td>\n",
       "      <td>2025.65</td>\n",
       "    </tr>\n",
       "    <tr>\n",
       "      <th>9</th>\n",
       "      <td>63918356</td>\n",
       "      <td>Nov-15</td>\n",
       "      <td>8000.0</td>\n",
       "      <td>Current</td>\n",
       "      <td>8000.0</td>\n",
       "      <td>36 months</td>\n",
       "      <td>юли.89</td>\n",
       "      <td>250.29</td>\n",
       "      <td>A</td>\n",
       "      <td>A5</td>\n",
       "      <td>Source Verified</td>\n",
       "      <td>https://www.lendingclub.com/browse/loanDetail....</td>\n",
       "      <td>MA</td>\n",
       "      <td>497.07</td>\n",
       "    </tr>\n",
       "  </tbody>\n",
       "</table>\n",
       "</div>"
      ],
      "text/plain": [
       "         0        1          2            3            4          5   \\\n",
       "0        id  issue_d  loan_amnt  loan_status  funded_amnt       term   \n",
       "1  48010226   May-15    35000.0      Current      35000.0  36 months   \n",
       "2  57693261             30000.0      Current      30000.0  36 months   \n",
       "3  59432726   Sep-15    15000.0      Current      15000.0  36 months   \n",
       "4  53222800   Jul-15     9600.0      Current       9600.0  36 months   \n",
       "5  57803010   Aug-15     8075.0      Current       8075.0  36 months   \n",
       "6  63398019   Oct-15    14400.0      Current      14400.0  60 months   \n",
       "7  60850626   Sep-15                 Current      13000.0  60 months   \n",
       "8  46816139   Apr-15     7500.0      Current       7500.0  36 months   \n",
       "9  63918356   Nov-15     8000.0      Current       8000.0  36 months   \n",
       "\n",
       "         6            7      8          9                    10  \\\n",
       "0  int_rate  installment  grade  sub_grade  verification_status   \n",
       "1     13.33      1184.86      C         C3             Verified   \n",
       "2    юли.89       938.57      A         A5      Source Verified   \n",
       "3    ное.53       494.86      B         B5             Verified   \n",
       "4    юли.89       300.35      A         A5         Not Verified   \n",
       "5     19.19       296.78                E3      Source Verified   \n",
       "6     13.99       334.99                C4         Not Verified   \n",
       "7     24.99        381.5      F         F4      Source Verified   \n",
       "8     13.33        253.9      C         C3                        \n",
       "9    юли.89       250.29      A         A5      Source Verified   \n",
       "\n",
       "                                                  11          12           13  \n",
       "0                                                url  addr_state  total_pymnt  \n",
       "1  https://www.lendingclub.com/browse/loanDetail....          CA      9452.96  \n",
       "2  https://www.lendingclub.com/browse/loanDetail....          NY       4679.7  \n",
       "3  https://www.lendingclub.com/browse/loanDetail....          PA      1969.83  \n",
       "4  https://www.lendingclub.com/browse/loanDetail....          OH      1793.68  \n",
       "5  https://www.lendingclub.com/browse/loanDetail....          TX      1178.51  \n",
       "6  https://www.lendingclub.com/browse/loanDetail....          AL       681.17  \n",
       "7  https://www.lendingclub.com/browse/loanDetail....          CA      1126.45  \n",
       "8  https://www.lendingclub.com/browse/loanDetail....          GA      2025.65  \n",
       "9  https://www.lendingclub.com/browse/loanDetail....          MA       497.07  "
      ]
     },
     "execution_count": 83,
     "metadata": {},
     "output_type": "execute_result"
    }
   ],
   "source": [
    "# Convertendo o array NumPy para um DataFrame do Pandas 2 (visualizando dados carregados como string)\n",
    "df2 = pd.DataFrame(dados2)\n",
    "\n",
    "# Exibindo o DataFrame\n",
    "df2.head(10)"
   ]
  },
  {
   "cell_type": "markdown",
   "id": "4935188d",
   "metadata": {},
   "source": [
    "### Tipo de Dados"
   ]
  },
  {
   "cell_type": "code",
   "execution_count": 60,
   "id": "64775a85",
   "metadata": {},
   "outputs": [
    {
     "name": "stdout",
     "output_type": "stream",
     "text": [
      "<class 'numpy.ndarray'>\n",
      "<class 'pandas.core.frame.DataFrame'>\n",
      "(10000, 14)\n",
      "(10000, 14)\n"
     ]
    }
   ],
   "source": [
    "print(type(dados))\n",
    "print(type(df))\n",
    "\n",
    "print(dados.shape)\n",
    "print(df.shape)"
   ]
  },
  {
   "cell_type": "markdown",
   "id": "59a3dd49",
   "metadata": {},
   "source": [
    "## Verificando Valores Ausentes"
   ]
  },
  {
   "cell_type": "code",
   "execution_count": 61,
   "id": "8aa7e752",
   "metadata": {},
   "outputs": [
    {
     "data": {
      "text/plain": [
       "array([[48010226.  ,         nan,    35000.  , ...,         nan,         nan,     9452.96],\n",
       "       [57693261.  ,         nan,    30000.  , ...,         nan,         nan,     4679.7 ],\n",
       "       [59432726.  ,         nan,    15000.  , ...,         nan,         nan,     1969.83],\n",
       "       ...,\n",
       "       [50415990.  ,         nan,    10000.  , ...,         nan,         nan,     2185.64],\n",
       "       [46154151.  ,         nan,         nan, ...,         nan,         nan,     3199.4 ],\n",
       "       [66055249.  ,         nan,    10000.  , ...,         nan,         nan,      301.9 ]])"
      ]
     },
     "execution_count": 61,
     "metadata": {},
     "output_type": "execute_result"
    }
   ],
   "source": [
    "# Visualizando novamente dataset e dados ausentes\n",
    "\n",
    "dados.view()"
   ]
  },
  {
   "cell_type": "markdown",
   "id": "ecf485d6",
   "metadata": {},
   "source": [
    "Observe como várias colunas estão com o tipo NaN. Isso se deve a caracteres especiais no conjunto de dados e a forma como o NumPy carrega dados numéricos e do tipo string. Iremos resolver isso"
   ]
  },
  {
   "cell_type": "code",
   "execution_count": 62,
   "id": "64955287",
   "metadata": {},
   "outputs": [
    {
     "data": {
      "text/plain": [
       "88005"
      ]
     },
     "execution_count": 62,
     "metadata": {},
     "output_type": "execute_result"
    }
   ],
   "source": [
    "# Total de Valores Ausentes\n",
    "\n",
    "np.isnan(dados).sum()"
   ]
  },
  {
   "cell_type": "markdown",
   "id": "10dacf88",
   "metadata": {},
   "source": [
    "## Tratando Valores Ausentes"
   ]
  },
  {
   "cell_type": "code",
   "execution_count": 63,
   "id": "49028641",
   "metadata": {},
   "outputs": [
    {
     "name": "stdout",
     "output_type": "stream",
     "text": [
      "68616520.0\n"
     ]
    }
   ],
   "source": [
    "# Vamos primeiramente retornar o maior valor + 1 ignorando valores NaN do dataset\n",
    "# Usaremos este valor arbitrário para preencher os valores ausentes no momento da carga de dados de variáveis\n",
    "# numéricas e depois tratamos esse valor como ausente\n",
    "\n",
    "# Portanto pegamos o maior valor do conjunto de dados (sem considerar NaN), somamos 1 e gravamos em valor_coringa\n",
    "# Vamos usar este valor para preeencher valores ausentes na hora de carregar variáveis numéricas\n",
    "\n",
    "# Através do NumPy conseguimos passar por todo o conjunto de dados (memso que tenham outros tipos como chr) e ainda\n",
    "# assim achar o maior valor numérico\n",
    "\n",
    "valor_coringa = np.nanmax(dados) + 1\n",
    "print(valor_coringa)"
   ]
  },
  {
   "cell_type": "code",
   "execution_count": 64,
   "id": "1bc569c5",
   "metadata": {},
   "outputs": [
    {
     "name": "stdout",
     "output_type": "stream",
     "text": [
      "[54015809.19         nan    15273.46         nan    15311.04         nan       16.62      440.92         nan         nan         nan         nan         nan     3143.85]\n"
     ]
    }
   ],
   "source": [
    "# Calculamos a média (variáveis numéricas) ignorando valores NaN por coluna\n",
    "# Iremos usar isso para separar variáveis do tipo numéricas de variáveis do tipo string\n",
    "\n",
    "media_ignorando_nan = np.nanmean(dados, axis = 0)\n",
    "print(media_ignorando_nan)"
   ]
  },
  {
   "cell_type": "code",
   "execution_count": 65,
   "id": "9c7419c1",
   "metadata": {},
   "outputs": [
    {
     "data": {
      "text/plain": [
       "array([ 1,  3,  5,  8,  9, 10, 11, 12])"
      ]
     },
     "execution_count": 65,
     "metadata": {},
     "output_type": "execute_result"
    }
   ],
   "source": [
    "# Colunas do tipo Strings com valores ausentes\n",
    "\n",
    "colunas_strings = np.argwhere(np.isnan(media_ignorando_nan)).squeeze()\n",
    "colunas_strings"
   ]
  },
  {
   "cell_type": "code",
   "execution_count": 66,
   "id": "7b3dfae0",
   "metadata": {},
   "outputs": [
    {
     "data": {
      "text/plain": [
       "array([ 0,  2,  4,  6,  7, 13])"
      ]
     },
     "execution_count": 66,
     "metadata": {},
     "output_type": "execute_result"
    }
   ],
   "source": [
    "# Colunas do tipo Numérica com valores ausentes\n",
    "\n",
    "colunas_numericas = np.argwhere(np.isnan(media_ignorando_nan) == False).squeeze()\n",
    "colunas_numericas"
   ]
  },
  {
   "cell_type": "markdown",
   "id": "5d3c0c48",
   "metadata": {},
   "source": [
    "#### Importando novamente o dataset, agora separando colunas do tipo String e colunas do tipo Numérica"
   ]
  },
  {
   "cell_type": "code",
   "execution_count": 67,
   "id": "ef3760dc",
   "metadata": {},
   "outputs": [
    {
     "data": {
      "text/plain": [
       "array([['May-15', 'Current', '36 months', ..., 'Verified', 'https://www.lendingclub.com/browse/loanDetail.action?loan_id=48010226', 'CA'],\n",
       "       ['', 'Current', '36 months', ..., 'Source Verified', 'https://www.lendingclub.com/browse/loanDetail.action?loan_id=57693261', 'NY'],\n",
       "       ['Sep-15', 'Current', '36 months', ..., 'Verified', 'https://www.lendingclub.com/browse/loanDetail.action?loan_id=59432726', 'PA'],\n",
       "       ...,\n",
       "       ['Jun-15', 'Current', '36 months', ..., 'Source Verified', 'https://www.lendingclub.com/browse/loanDetail.action?loan_id=50415990', 'CA'],\n",
       "       ['Apr-15', 'Current', '36 months', ..., 'Source Verified', 'https://www.lendingclub.com/browse/loanDetail.action?loan_id=46154151', 'OH'],\n",
       "       ['Dec-15', 'Current', '36 months', ..., '', 'https://www.lendingclub.com/browse/loanDetail.action?loan_id=66055249', 'IL']], dtype='<U69')"
      ]
     },
     "execution_count": 67,
     "metadata": {},
     "output_type": "execute_result"
    }
   ],
   "source": [
    "# Carregando somente Colunas do Tipo String\n",
    "\n",
    "arr_strings = np.genfromtxt(\"datasets/dataset1.csv\",\n",
    "                           delimiter = ';',\n",
    "                           skip_header = 1,               # não carrega o cabeçalho\n",
    "                           autostrip = True,\n",
    "                           usecols = colunas_strings,\n",
    "                           dtype = str,\n",
    "                           encoding = 'windows-1251'\n",
    "                           )\n",
    "\n",
    "arr_strings"
   ]
  },
  {
   "cell_type": "code",
   "execution_count": 68,
   "id": "e44e300e",
   "metadata": {},
   "outputs": [
    {
     "data": {
      "text/plain": [
       "array([[48010226.  ,    35000.  ,    35000.  ,       13.33,     1184.86,     9452.96],\n",
       "       [57693261.  ,    30000.  ,    30000.  , 68616520.  ,      938.57,     4679.7 ],\n",
       "       [59432726.  ,    15000.  ,    15000.  , 68616520.  ,      494.86,     1969.83],\n",
       "       ...,\n",
       "       [50415990.  ,    10000.  ,    10000.  , 68616520.  , 68616520.  ,     2185.64],\n",
       "       [46154151.  , 68616520.  ,    10000.  ,       16.55,      354.3 ,     3199.4 ],\n",
       "       [66055249.  ,    10000.  ,    10000.  , 68616520.  ,      309.97,      301.9 ]])"
      ]
     },
     "execution_count": 68,
     "metadata": {},
     "output_type": "execute_result"
    }
   ],
   "source": [
    "# Carregando somente Colunas do Tipo Numérica\n",
    "\n",
    "arr_numeric = np.genfromtxt(\"datasets/dataset1.csv\",\n",
    "                           delimiter = ';',\n",
    "                           skip_header = 1,                      # não carrega o cabeçalho\n",
    "                           autostrip = True,\n",
    "                           usecols = colunas_numericas,\n",
    "                           filling_values = valor_coringa,       # caso tenha valores NaN, ele substitui pelo \n",
    "                           encoding = 'windows-1251'             # valor_coringa\n",
    "                           )\n",
    "\n",
    "arr_numeric"
   ]
  },
  {
   "cell_type": "markdown",
   "id": "a7319584",
   "metadata": {},
   "source": [
    "#### Importando novamente o dataset, agora carregando apenas o nome das colunas"
   ]
  },
  {
   "cell_type": "code",
   "execution_count": 69,
   "id": "fe8e9689",
   "metadata": {},
   "outputs": [
    {
     "data": {
      "text/plain": [
       "array(['id', 'issue_d', 'loan_amnt', 'loan_status', 'funded_amnt', 'term', 'int_rate', 'installment', 'grade', 'sub_grade', 'verification_status', 'url', 'addr_state', 'total_pymnt'], dtype='<U19')"
      ]
     },
     "execution_count": 69,
     "metadata": {},
     "output_type": "execute_result"
    }
   ],
   "source": [
    "# Carrega nome das colunas\n",
    "\n",
    "arr_nomes_colunas = np.genfromtxt(\"datasets/dataset1.csv\",\n",
    "                    delimiter = ';',\n",
    "                    autostrip = True,\n",
    "                    skip_footer = dados.shape[0],\n",
    "                    dtype = str,\n",
    "                    encoding = 'windows-1251' \n",
    "                    )\n",
    "\n",
    "arr_nomes_colunas"
   ]
  },
  {
   "cell_type": "code",
   "execution_count": 70,
   "id": "d76c45ef",
   "metadata": {},
   "outputs": [
    {
     "name": "stdout",
     "output_type": "stream",
     "text": [
      "['issue_d' 'loan_status' 'term' 'grade' 'sub_grade' 'verification_status' 'url' 'addr_state']\n",
      "['id' 'loan_amnt' 'funded_amnt' 'int_rate' 'installment' 'total_pymnt']\n"
     ]
    }
   ],
   "source": [
    "# Separa cabeçalho de colunas numéricas e string\n",
    "\n",
    "header_strings, header_numeric = arr_nomes_colunas[colunas_strings], arr_nomes_colunas[colunas_numericas]\n",
    "\n",
    "print(header_strings)\n",
    "print(header_numeric)"
   ]
  },
  {
   "cell_type": "markdown",
   "id": "d3b631aa",
   "metadata": {},
   "source": [
    "## Explicação Sobre o Processo de Tratamento de Valores ausentes\n",
    "\n",
    "#### Verificando Valores Ausentes\n",
    "Inicialmente, foi observado que o dataset contém uma quantidade significativa de valores NaN, indicando a presença de valores ausentes. Isso pode ser devido a várias razões, incluindo caracteres especiais, mistura de tipos de dados (numéricos e strings) em colunas, ou simplesmente dados faltantes.\n",
    "\n",
    "#### Total de Valores Ausentes\n",
    "A quantidade total de valores ausentes foi calculada usando np.isnan(dados).sum(), que forneceu uma visão geral da magnitude do problema.\n",
    "\n",
    "### Estratégia para Tratar Valores Ausentes\n",
    "A abordagem adotada para tratar valores ausentes consistiu em várias etapas:\n",
    "\n",
    "#### Identificação de um Valor Coringa\n",
    "Foi escolhido um valor coringa, definido como o maior valor no dataset mais um (np.nanmax(dados) + 1). Esse valor coringa foi utilizado para preencher temporariamente os valores ausentes nas colunas numéricas durante a carga do dataset, permitindo uma diferenciação clara entre os dados originalmente ausentes e outros valores numéricos.\n",
    "\n",
    "#### Cálculo da Média Ignorando NaN\n",
    "Para cada coluna, foi calculada a média, ignorando valores NaN (np.nanmean(dados, axis=0)). Isso ajudou a identificar quais colunas são puramente numéricas (pois a média de colunas contendo strings ou totalmente ausentes resultaria em NaN).\n",
    "\n",
    "#### Separação de Colunas Numéricas e Strings\n",
    "Com base na etapa anterior, as colunas foram classificadas como numéricas ou strings:\n",
    "\n",
    "#### Colunas Strings:\n",
    "Identificadas como aquelas cuja média resultou em NaN, indicando que não são puramente numéricas.\n",
    "\n",
    "#### Colunas Numéricas\n",
    "Colunas para as quais foi possível calcular uma média, indicando que são puramente numéricas.\n",
    "\n",
    "#### Carregamento Separado de Dados Numéricos e Strings\n",
    "Para tratar adequadamente os diferentes tipos de dados, o dataset foi carregado separadamente para colunas numéricas e strings:\n",
    "\n",
    "#### Dados Numéricos\n",
    "Carregados especificando usecols para selecionar apenas as colunas numéricas e filling_values para preencher valores ausentes com o valor coringa.\n",
    "\n",
    "#### Dados de Strings\n",
    "Carregados especificando usecols para selecionar apenas as colunas de strings, garantindo que o texto seja preservado corretamente.\n",
    "\n",
    "#### Importação dos Nomes das Colunas\n",
    "Os nomes das colunas foram importados separadamente, usando np.genfromtxt com parâmetros ajustados para carregar apenas o cabeçalho, fornecendo uma referência clara de quais dados cada coluna contém.\n",
    "\n",
    "#### Separação dos Nomes das Colunas\n",
    "Os nomes das colunas foram então divididos em dois grupos, correspondendo às colunas numéricas e de strings, com base na classificação feita anteriormente. Isso facilita a referência e a manipulação de colunas específicas nas etapas subsequentes.\n",
    "\n",
    "#### Conclusão\n",
    "Essas etapas formam a base para o tratamento de valores ausentes e a preparação dos dados para análise posterior. A diferenciação entre tipos de dados e o tratamento cuidadoso de valores ausentes são cruciais para garantir a integridade e a usabilidade dos dados em análises futuras."
   ]
  },
  {
   "cell_type": "markdown",
   "id": "99c8f9b0",
   "metadata": {},
   "source": [
    "# Função de Checkpoint\n",
    "\n",
    "#### Checkpoint 1\n",
    "\n",
    "Criação de uma função de Checkpoint para salvar os resultados feitos até aqui."
   ]
  },
  {
   "cell_type": "code",
   "execution_count": 84,
   "id": "6a2f9def",
   "metadata": {},
   "outputs": [],
   "source": [
    "# Função\n",
    "def checkpoint(file_name, checkpoint_header, checkpoint_data):\n",
    "    np.savez(file_name, header = checkpoint_header, data = checkpoint_data)\n",
    "    checkpoint_variable = np.load(file_name + \".npz\")\n",
    "    return(checkpoint_variable)"
   ]
  },
  {
   "cell_type": "code",
   "execution_count": 85,
   "id": "0eb64a09",
   "metadata": {},
   "outputs": [],
   "source": [
    "checkpoint_inicial = checkpoint(\"datasets/Checkpoint-Inicial\", header_strings, arr_strings)"
   ]
  },
  {
   "cell_type": "code",
   "execution_count": 86,
   "id": "96d9c94c",
   "metadata": {},
   "outputs": [
    {
     "data": {
      "text/plain": [
       "array([['May-15', 'Current', '36 months', ..., 'Verified', 'https://www.lendingclub.com/browse/loanDetail.action?loan_id=48010226', 'CA'],\n",
       "       ['', 'Current', '36 months', ..., 'Source Verified', 'https://www.lendingclub.com/browse/loanDetail.action?loan_id=57693261', 'NY'],\n",
       "       ['Sep-15', 'Current', '36 months', ..., 'Verified', 'https://www.lendingclub.com/browse/loanDetail.action?loan_id=59432726', 'PA'],\n",
       "       ...,\n",
       "       ['Jun-15', 'Current', '36 months', ..., 'Source Verified', 'https://www.lendingclub.com/browse/loanDetail.action?loan_id=50415990', 'CA'],\n",
       "       ['Apr-15', 'Current', '36 months', ..., 'Source Verified', 'https://www.lendingclub.com/browse/loanDetail.action?loan_id=46154151', 'OH'],\n",
       "       ['Dec-15', 'Current', '36 months', ..., '', 'https://www.lendingclub.com/browse/loanDetail.action?loan_id=66055249', 'IL']], dtype='<U69')"
      ]
     },
     "execution_count": 86,
     "metadata": {},
     "output_type": "execute_result"
    }
   ],
   "source": [
    "checkpoint_inicial['data']"
   ]
  },
  {
   "cell_type": "markdown",
   "id": "b2d419fc",
   "metadata": {},
   "source": [
    "# Manipulando Colunas do Tipo String"
   ]
  },
  {
   "cell_type": "code",
   "execution_count": null,
   "id": "1dc4ba9c",
   "metadata": {},
   "outputs": [],
   "source": []
  }
 ],
 "metadata": {
  "kernelspec": {
   "display_name": "Python 3 (ipykernel)",
   "language": "python",
   "name": "python3"
  },
  "language_info": {
   "codemirror_mode": {
    "name": "ipython",
    "version": 3
   },
   "file_extension": ".py",
   "mimetype": "text/x-python",
   "name": "python",
   "nbconvert_exporter": "python",
   "pygments_lexer": "ipython3",
   "version": "3.9.7"
  }
 },
 "nbformat": 4,
 "nbformat_minor": 5
}
