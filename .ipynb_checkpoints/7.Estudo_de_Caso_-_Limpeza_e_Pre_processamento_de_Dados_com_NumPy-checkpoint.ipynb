{
 "cells": [
  {
   "cell_type": "markdown",
   "id": "826347b9",
   "metadata": {},
   "source": [
    "# Estudo de Caso - Limpeza e Pré-Processamento de Dados com NumPy"
   ]
  },
  {
   "cell_type": "markdown",
   "id": "efb20ea5",
   "metadata": {},
   "source": [
    "### Contexto:\n",
    "\n",
    "Imagine que em um determinado projeto de Ciência de Dados você receba um dataset extremamente complicado, contendo dados com muitas strings, caracteres especiais, problemas de encoding, datas  mal  formatadas,  números  e  textos  na  mesma  coluna,  url’s  contendo  Ids importantes para análise, valores ausentes, coluna que contém informação que deveria estar distribuída  em três ou  mais  colunas. E  como  se  não  bastasse  tudo  isso,  parte  dos  dados necessários para análise está em outro dataset, que deve ser combinado com o primeiro.\n",
    "\n",
    "Seu trabalho seria limpar e pré-processar esse dataset, preparando-o para a sequência do processo de análise.\n",
    "\n",
    "É exatamente este cenário que estamos reproduzindo no Estudo de Caso 1. A partir de dados complexos e com diversos problemas, iremos fazer um extenso trabalho de limpeza e pré-processamento. E tudo isso usando apenas o NumPy,  poderoso pacote da Linguagem Python para computação e processamento de dados.\n",
    "\n",
    "#### Este Estudo de Caso traz uma quantidade incrível de conhecimento sobre manipulação de dados em Python."
   ]
  },
  {
   "cell_type": "markdown",
   "id": "a08526c1",
   "metadata": {},
   "source": [
    "## Definição do Problema e Fonte de Dados\n",
    "\n",
    "#### Para este Estudo de Caso trabalharemos com dado reais disponíveis publicamente no link abaixo:\n",
    "    \n",
    "    https://www.openintro.org/data/index.php?data=loans_full_schema\n",
    "\n",
    "Esse conjunto de dados representa milhares de empréstimos feitos por meio da plataforma Lending Club, que é uma\n",
    "plataforma que permite que indivíduos emprestem para outros indivíduos.\n",
    "\n",
    "Claro, nem todos os empréstimos são iguais. Alguém que fornece um baixo risco e que provavelmente vai pagar um\n",
    "empréstimo terá mais facilidade em obter um empréstimo com uma taxa de juros baixa do que alguém que parece ser\n",
    "mais arriscado.\n",
    "\n",
    "E para as pessoas com alto risco de não pagar o empréstimo? Essas pessoas podem nem receber uma oferta de empréstimo, ou podem não aceitar uma oferta de empréstimo devido a uma alta taxa de juros. É importante ter em mente essa última parte, pois esse conjunto de dados representa  apenas  empréstimos  efetivamente  feitos,  ou  seja,  não  confunda  esses  dados  com pedidos de empréstimo!\n",
    "\n",
    "Usamos como fonte de dados o dataset disponível no link acima, mas fizemos modificações nos dados para deixá-los ainda mais problemáticos. O dataset será fornecido a você junto com os demais arquivos do capítulo.\n",
    "\n",
    "Além  disso  usaremos  um  dataset  com  cotação  do  dólar  em  relação  ao  Euro.  Extraímos uma pequena amostra de dados do site: https://finance.yahoo.com. O dataset será fornecido a você junto com os demais arquivos do capítulo."
   ]
  },
  {
   "cell_type": "markdown",
   "id": "6a101d0c",
   "metadata": {},
   "source": [
    "## Objetivo:\n",
    "\n",
    "Nosso trabalho é limpar e pré-processar os dados, deixando-os no formato ideal para um processo de análise posterior e várias decisões terão que ser tomadas no meio do caminho. Ao final do trabalho devemos salvar o dataset com os dados limpos e pré-processados"
   ]
  },
  {
   "cell_type": "markdown",
   "id": "93753a82",
   "metadata": {},
   "source": [
    "## Importando Pacotes e Configurando Impressão do NumPy"
   ]
  },
  {
   "cell_type": "code",
   "execution_count": 1,
   "id": "351b2a8e",
   "metadata": {},
   "outputs": [],
   "source": [
    "import numpy as np\n",
    "import warnings\n",
    "warnings.filterwarnings('ignore')\n",
    "np.set_printoptions(suppress = True, linewidth = 200, precision = 2)"
   ]
  },
  {
   "cell_type": "markdown",
   "id": "a3c21207",
   "metadata": {},
   "source": [
    "## Verificando a Codificação do Arquivo"
   ]
  },
  {
   "cell_type": "code",
   "execution_count": 2,
   "id": "8ba043a0",
   "metadata": {},
   "outputs": [
    {
     "name": "stdout",
     "output_type": "stream",
     "text": [
      "windows-1251\n"
     ]
    }
   ],
   "source": [
    "import chardet\n",
    "\n",
    "with open('datasets/dataset1.csv', 'rb') as f:\n",
    "    result = chardet.detect(f.read())  # Lê uma amostra do arquivo\n",
    "    print(result['encoding'])"
   ]
  },
  {
   "cell_type": "markdown",
   "id": "aace5cbd",
   "metadata": {},
   "source": [
    "## Carregando e Visualizando o Dataset"
   ]
  },
  {
   "cell_type": "code",
   "execution_count": 3,
   "id": "4c12cd4e",
   "metadata": {
    "scrolled": false
   },
   "outputs": [
    {
     "name": "stdout",
     "output_type": "stream",
     "text": [
      "[[48010226.           nan    35000.   ...         nan         nan     9452.96]\n",
      " [57693261.           nan    30000.   ...         nan         nan     4679.7 ]\n",
      " [59432726.           nan    15000.   ...         nan         nan     1969.83]\n",
      " ...\n",
      " [50415990.           nan    10000.   ...         nan         nan     2185.64]\n",
      " [46154151.           nan         nan ...         nan         nan     3199.4 ]\n",
      " [66055249.           nan    10000.   ...         nan         nan      301.9 ]]\n"
     ]
    }
   ],
   "source": [
    "# Forma 1 (se não justificar o att dtype pois np.genfromtxt por padrão trata todo o arquivo como dados numéricos)\n",
    "\n",
    "dados = np.genfromtxt(\"datasets/dataset1.csv\",\n",
    "                     delimiter = ';',\n",
    "                     skip_header = 1,              # não carrega cabeçalho \n",
    "                     autostrip = True,\n",
    "                     encoding = 'windows-1251'     # 'cp1252'\n",
    "                     )\n",
    "print(dados)\n"
   ]
  },
  {
   "cell_type": "code",
   "execution_count": 4,
   "id": "11d3f875",
   "metadata": {},
   "outputs": [
    {
     "name": "stdout",
     "output_type": "stream",
     "text": [
      "[['id' 'issue_d' 'loan_amnt' ... 'url' 'addr_state' 'total_pymnt']\n",
      " ['48010226' 'May-15' '35000.0' ... 'https://www.lendingclub.com/browse/loanDetail.action?loan_id=48010226' 'CA' '9452.96']\n",
      " ['57693261' '' '30000.0' ... 'https://www.lendingclub.com/browse/loanDetail.action?loan_id=57693261' 'NY' '4679.7']\n",
      " ...\n",
      " ['50415990' 'Jun-15' '10000.0' ... 'https://www.lendingclub.com/browse/loanDetail.action?loan_id=50415990' 'CA' '2185.64']\n",
      " ['46154151' 'Apr-15' '' ... 'https://www.lendingclub.com/browse/loanDetail.action?loan_id=46154151' 'OH' '3199.4']\n",
      " ['66055249' 'Dec-15' '10000.0' ... 'https://www.lendingclub.com/browse/loanDetail.action?loan_id=66055249' 'IL' '301.9']]\n"
     ]
    }
   ],
   "source": [
    "# Forma 2 (atribuindo valor ao atributo dtype para tratar todo o arquivo como dados string)\n",
    "\n",
    "\n",
    "dados2 = np.genfromtxt(\"datasets/dataset1.csv\",\n",
    "                     delimiter = ';',\n",
    "                     dtype=str,              \n",
    "                     autostrip = True,\n",
    "                     encoding = 'windows-1251'     # 'cp1252'\n",
    "                     )\n",
    "print(dados2)"
   ]
  },
  {
   "cell_type": "markdown",
   "id": "a6088138",
   "metadata": {},
   "source": [
    "### Utilizando Pandas Apenas Para Visualizar o Dataset"
   ]
  },
  {
   "cell_type": "code",
   "execution_count": 5,
   "id": "533c3469",
   "metadata": {},
   "outputs": [
    {
     "data": {
      "text/html": [
       "<div>\n",
       "<style scoped>\n",
       "    .dataframe tbody tr th:only-of-type {\n",
       "        vertical-align: middle;\n",
       "    }\n",
       "\n",
       "    .dataframe tbody tr th {\n",
       "        vertical-align: top;\n",
       "    }\n",
       "\n",
       "    .dataframe thead th {\n",
       "        text-align: right;\n",
       "    }\n",
       "</style>\n",
       "<table border=\"1\" class=\"dataframe\">\n",
       "  <thead>\n",
       "    <tr style=\"text-align: right;\">\n",
       "      <th></th>\n",
       "      <th>0</th>\n",
       "      <th>1</th>\n",
       "      <th>2</th>\n",
       "      <th>3</th>\n",
       "      <th>4</th>\n",
       "      <th>5</th>\n",
       "      <th>6</th>\n",
       "      <th>7</th>\n",
       "      <th>8</th>\n",
       "      <th>9</th>\n",
       "      <th>10</th>\n",
       "      <th>11</th>\n",
       "      <th>12</th>\n",
       "      <th>13</th>\n",
       "    </tr>\n",
       "  </thead>\n",
       "  <tbody>\n",
       "    <tr>\n",
       "      <th>0</th>\n",
       "      <td>48010226.0</td>\n",
       "      <td>NaN</td>\n",
       "      <td>35000.0</td>\n",
       "      <td>NaN</td>\n",
       "      <td>35000.0</td>\n",
       "      <td>NaN</td>\n",
       "      <td>13.33</td>\n",
       "      <td>1184.86</td>\n",
       "      <td>NaN</td>\n",
       "      <td>NaN</td>\n",
       "      <td>NaN</td>\n",
       "      <td>NaN</td>\n",
       "      <td>NaN</td>\n",
       "      <td>9452.96</td>\n",
       "    </tr>\n",
       "    <tr>\n",
       "      <th>1</th>\n",
       "      <td>57693261.0</td>\n",
       "      <td>NaN</td>\n",
       "      <td>30000.0</td>\n",
       "      <td>NaN</td>\n",
       "      <td>30000.0</td>\n",
       "      <td>NaN</td>\n",
       "      <td>NaN</td>\n",
       "      <td>938.57</td>\n",
       "      <td>NaN</td>\n",
       "      <td>NaN</td>\n",
       "      <td>NaN</td>\n",
       "      <td>NaN</td>\n",
       "      <td>NaN</td>\n",
       "      <td>4679.70</td>\n",
       "    </tr>\n",
       "    <tr>\n",
       "      <th>2</th>\n",
       "      <td>59432726.0</td>\n",
       "      <td>NaN</td>\n",
       "      <td>15000.0</td>\n",
       "      <td>NaN</td>\n",
       "      <td>15000.0</td>\n",
       "      <td>NaN</td>\n",
       "      <td>NaN</td>\n",
       "      <td>494.86</td>\n",
       "      <td>NaN</td>\n",
       "      <td>NaN</td>\n",
       "      <td>NaN</td>\n",
       "      <td>NaN</td>\n",
       "      <td>NaN</td>\n",
       "      <td>1969.83</td>\n",
       "    </tr>\n",
       "    <tr>\n",
       "      <th>3</th>\n",
       "      <td>53222800.0</td>\n",
       "      <td>NaN</td>\n",
       "      <td>9600.0</td>\n",
       "      <td>NaN</td>\n",
       "      <td>9600.0</td>\n",
       "      <td>NaN</td>\n",
       "      <td>NaN</td>\n",
       "      <td>300.35</td>\n",
       "      <td>NaN</td>\n",
       "      <td>NaN</td>\n",
       "      <td>NaN</td>\n",
       "      <td>NaN</td>\n",
       "      <td>NaN</td>\n",
       "      <td>1793.68</td>\n",
       "    </tr>\n",
       "    <tr>\n",
       "      <th>4</th>\n",
       "      <td>57803010.0</td>\n",
       "      <td>NaN</td>\n",
       "      <td>8075.0</td>\n",
       "      <td>NaN</td>\n",
       "      <td>8075.0</td>\n",
       "      <td>NaN</td>\n",
       "      <td>19.19</td>\n",
       "      <td>296.78</td>\n",
       "      <td>NaN</td>\n",
       "      <td>NaN</td>\n",
       "      <td>NaN</td>\n",
       "      <td>NaN</td>\n",
       "      <td>NaN</td>\n",
       "      <td>1178.51</td>\n",
       "    </tr>\n",
       "    <tr>\n",
       "      <th>5</th>\n",
       "      <td>63398019.0</td>\n",
       "      <td>NaN</td>\n",
       "      <td>14400.0</td>\n",
       "      <td>NaN</td>\n",
       "      <td>14400.0</td>\n",
       "      <td>NaN</td>\n",
       "      <td>13.99</td>\n",
       "      <td>334.99</td>\n",
       "      <td>NaN</td>\n",
       "      <td>NaN</td>\n",
       "      <td>NaN</td>\n",
       "      <td>NaN</td>\n",
       "      <td>NaN</td>\n",
       "      <td>681.17</td>\n",
       "    </tr>\n",
       "    <tr>\n",
       "      <th>6</th>\n",
       "      <td>60850626.0</td>\n",
       "      <td>NaN</td>\n",
       "      <td>NaN</td>\n",
       "      <td>NaN</td>\n",
       "      <td>13000.0</td>\n",
       "      <td>NaN</td>\n",
       "      <td>24.99</td>\n",
       "      <td>381.50</td>\n",
       "      <td>NaN</td>\n",
       "      <td>NaN</td>\n",
       "      <td>NaN</td>\n",
       "      <td>NaN</td>\n",
       "      <td>NaN</td>\n",
       "      <td>1126.45</td>\n",
       "    </tr>\n",
       "    <tr>\n",
       "      <th>7</th>\n",
       "      <td>46816139.0</td>\n",
       "      <td>NaN</td>\n",
       "      <td>7500.0</td>\n",
       "      <td>NaN</td>\n",
       "      <td>7500.0</td>\n",
       "      <td>NaN</td>\n",
       "      <td>13.33</td>\n",
       "      <td>253.90</td>\n",
       "      <td>NaN</td>\n",
       "      <td>NaN</td>\n",
       "      <td>NaN</td>\n",
       "      <td>NaN</td>\n",
       "      <td>NaN</td>\n",
       "      <td>2025.65</td>\n",
       "    </tr>\n",
       "    <tr>\n",
       "      <th>8</th>\n",
       "      <td>63918356.0</td>\n",
       "      <td>NaN</td>\n",
       "      <td>8000.0</td>\n",
       "      <td>NaN</td>\n",
       "      <td>8000.0</td>\n",
       "      <td>NaN</td>\n",
       "      <td>NaN</td>\n",
       "      <td>250.29</td>\n",
       "      <td>NaN</td>\n",
       "      <td>NaN</td>\n",
       "      <td>NaN</td>\n",
       "      <td>NaN</td>\n",
       "      <td>NaN</td>\n",
       "      <td>497.07</td>\n",
       "    </tr>\n",
       "    <tr>\n",
       "      <th>9</th>\n",
       "      <td>63651616.0</td>\n",
       "      <td>NaN</td>\n",
       "      <td>7200.0</td>\n",
       "      <td>NaN</td>\n",
       "      <td>7200.0</td>\n",
       "      <td>NaN</td>\n",
       "      <td>NaN</td>\n",
       "      <td>241.18</td>\n",
       "      <td>NaN</td>\n",
       "      <td>NaN</td>\n",
       "      <td>NaN</td>\n",
       "      <td>NaN</td>\n",
       "      <td>NaN</td>\n",
       "      <td>512.57</td>\n",
       "    </tr>\n",
       "  </tbody>\n",
       "</table>\n",
       "</div>"
      ],
      "text/plain": [
       "           0   1        2   3        4   5      6        7   8   9   10  11  \\\n",
       "0  48010226.0 NaN  35000.0 NaN  35000.0 NaN  13.33  1184.86 NaN NaN NaN NaN   \n",
       "1  57693261.0 NaN  30000.0 NaN  30000.0 NaN    NaN   938.57 NaN NaN NaN NaN   \n",
       "2  59432726.0 NaN  15000.0 NaN  15000.0 NaN    NaN   494.86 NaN NaN NaN NaN   \n",
       "3  53222800.0 NaN   9600.0 NaN   9600.0 NaN    NaN   300.35 NaN NaN NaN NaN   \n",
       "4  57803010.0 NaN   8075.0 NaN   8075.0 NaN  19.19   296.78 NaN NaN NaN NaN   \n",
       "5  63398019.0 NaN  14400.0 NaN  14400.0 NaN  13.99   334.99 NaN NaN NaN NaN   \n",
       "6  60850626.0 NaN      NaN NaN  13000.0 NaN  24.99   381.50 NaN NaN NaN NaN   \n",
       "7  46816139.0 NaN   7500.0 NaN   7500.0 NaN  13.33   253.90 NaN NaN NaN NaN   \n",
       "8  63918356.0 NaN   8000.0 NaN   8000.0 NaN    NaN   250.29 NaN NaN NaN NaN   \n",
       "9  63651616.0 NaN   7200.0 NaN   7200.0 NaN    NaN   241.18 NaN NaN NaN NaN   \n",
       "\n",
       "   12       13  \n",
       "0 NaN  9452.96  \n",
       "1 NaN  4679.70  \n",
       "2 NaN  1969.83  \n",
       "3 NaN  1793.68  \n",
       "4 NaN  1178.51  \n",
       "5 NaN   681.17  \n",
       "6 NaN  1126.45  \n",
       "7 NaN  2025.65  \n",
       "8 NaN   497.07  \n",
       "9 NaN   512.57  "
      ]
     },
     "execution_count": 5,
     "metadata": {},
     "output_type": "execute_result"
    }
   ],
   "source": [
    "import pandas as pd\n",
    "\n",
    "# Convertendo o array NumPy para um DataFrame do Pandas\n",
    "df = pd.DataFrame(dados)\n",
    "\n",
    "# Exibindo o DataFrame\n",
    "df.head(10)"
   ]
  },
  {
   "cell_type": "markdown",
   "id": "59777df6",
   "metadata": {},
   "source": [
    "Observe como várias colunas estão com o tipo NaN. Isso se deve a caracteres especiais no conjunto de dados e a forma como o NumPy carrega dados numéricos e do tipo string. Iremos resolver isso"
   ]
  },
  {
   "cell_type": "code",
   "execution_count": 6,
   "id": "23a58050",
   "metadata": {},
   "outputs": [
    {
     "data": {
      "text/html": [
       "<div>\n",
       "<style scoped>\n",
       "    .dataframe tbody tr th:only-of-type {\n",
       "        vertical-align: middle;\n",
       "    }\n",
       "\n",
       "    .dataframe tbody tr th {\n",
       "        vertical-align: top;\n",
       "    }\n",
       "\n",
       "    .dataframe thead th {\n",
       "        text-align: right;\n",
       "    }\n",
       "</style>\n",
       "<table border=\"1\" class=\"dataframe\">\n",
       "  <thead>\n",
       "    <tr style=\"text-align: right;\">\n",
       "      <th></th>\n",
       "      <th>0</th>\n",
       "      <th>1</th>\n",
       "      <th>2</th>\n",
       "      <th>3</th>\n",
       "      <th>4</th>\n",
       "      <th>5</th>\n",
       "      <th>6</th>\n",
       "      <th>7</th>\n",
       "      <th>8</th>\n",
       "      <th>9</th>\n",
       "      <th>10</th>\n",
       "      <th>11</th>\n",
       "      <th>12</th>\n",
       "      <th>13</th>\n",
       "    </tr>\n",
       "  </thead>\n",
       "  <tbody>\n",
       "    <tr>\n",
       "      <th>0</th>\n",
       "      <td>id</td>\n",
       "      <td>issue_d</td>\n",
       "      <td>loan_amnt</td>\n",
       "      <td>loan_status</td>\n",
       "      <td>funded_amnt</td>\n",
       "      <td>term</td>\n",
       "      <td>int_rate</td>\n",
       "      <td>installment</td>\n",
       "      <td>grade</td>\n",
       "      <td>sub_grade</td>\n",
       "      <td>verification_status</td>\n",
       "      <td>url</td>\n",
       "      <td>addr_state</td>\n",
       "      <td>total_pymnt</td>\n",
       "    </tr>\n",
       "    <tr>\n",
       "      <th>1</th>\n",
       "      <td>48010226</td>\n",
       "      <td>May-15</td>\n",
       "      <td>35000.0</td>\n",
       "      <td>Current</td>\n",
       "      <td>35000.0</td>\n",
       "      <td>36 months</td>\n",
       "      <td>13.33</td>\n",
       "      <td>1184.86</td>\n",
       "      <td>C</td>\n",
       "      <td>C3</td>\n",
       "      <td>Verified</td>\n",
       "      <td>https://www.lendingclub.com/browse/loanDetail....</td>\n",
       "      <td>CA</td>\n",
       "      <td>9452.96</td>\n",
       "    </tr>\n",
       "    <tr>\n",
       "      <th>2</th>\n",
       "      <td>57693261</td>\n",
       "      <td></td>\n",
       "      <td>30000.0</td>\n",
       "      <td>Current</td>\n",
       "      <td>30000.0</td>\n",
       "      <td>36 months</td>\n",
       "      <td>юли.89</td>\n",
       "      <td>938.57</td>\n",
       "      <td>A</td>\n",
       "      <td>A5</td>\n",
       "      <td>Source Verified</td>\n",
       "      <td>https://www.lendingclub.com/browse/loanDetail....</td>\n",
       "      <td>NY</td>\n",
       "      <td>4679.7</td>\n",
       "    </tr>\n",
       "    <tr>\n",
       "      <th>3</th>\n",
       "      <td>59432726</td>\n",
       "      <td>Sep-15</td>\n",
       "      <td>15000.0</td>\n",
       "      <td>Current</td>\n",
       "      <td>15000.0</td>\n",
       "      <td>36 months</td>\n",
       "      <td>ное.53</td>\n",
       "      <td>494.86</td>\n",
       "      <td>B</td>\n",
       "      <td>B5</td>\n",
       "      <td>Verified</td>\n",
       "      <td>https://www.lendingclub.com/browse/loanDetail....</td>\n",
       "      <td>PA</td>\n",
       "      <td>1969.83</td>\n",
       "    </tr>\n",
       "    <tr>\n",
       "      <th>4</th>\n",
       "      <td>53222800</td>\n",
       "      <td>Jul-15</td>\n",
       "      <td>9600.0</td>\n",
       "      <td>Current</td>\n",
       "      <td>9600.0</td>\n",
       "      <td>36 months</td>\n",
       "      <td>юли.89</td>\n",
       "      <td>300.35</td>\n",
       "      <td>A</td>\n",
       "      <td>A5</td>\n",
       "      <td>Not Verified</td>\n",
       "      <td>https://www.lendingclub.com/browse/loanDetail....</td>\n",
       "      <td>OH</td>\n",
       "      <td>1793.68</td>\n",
       "    </tr>\n",
       "    <tr>\n",
       "      <th>5</th>\n",
       "      <td>57803010</td>\n",
       "      <td>Aug-15</td>\n",
       "      <td>8075.0</td>\n",
       "      <td>Current</td>\n",
       "      <td>8075.0</td>\n",
       "      <td>36 months</td>\n",
       "      <td>19.19</td>\n",
       "      <td>296.78</td>\n",
       "      <td></td>\n",
       "      <td>E3</td>\n",
       "      <td>Source Verified</td>\n",
       "      <td>https://www.lendingclub.com/browse/loanDetail....</td>\n",
       "      <td>TX</td>\n",
       "      <td>1178.51</td>\n",
       "    </tr>\n",
       "    <tr>\n",
       "      <th>6</th>\n",
       "      <td>63398019</td>\n",
       "      <td>Oct-15</td>\n",
       "      <td>14400.0</td>\n",
       "      <td>Current</td>\n",
       "      <td>14400.0</td>\n",
       "      <td>60 months</td>\n",
       "      <td>13.99</td>\n",
       "      <td>334.99</td>\n",
       "      <td></td>\n",
       "      <td>C4</td>\n",
       "      <td>Not Verified</td>\n",
       "      <td>https://www.lendingclub.com/browse/loanDetail....</td>\n",
       "      <td>AL</td>\n",
       "      <td>681.17</td>\n",
       "    </tr>\n",
       "    <tr>\n",
       "      <th>7</th>\n",
       "      <td>60850626</td>\n",
       "      <td>Sep-15</td>\n",
       "      <td></td>\n",
       "      <td>Current</td>\n",
       "      <td>13000.0</td>\n",
       "      <td>60 months</td>\n",
       "      <td>24.99</td>\n",
       "      <td>381.5</td>\n",
       "      <td>F</td>\n",
       "      <td>F4</td>\n",
       "      <td>Source Verified</td>\n",
       "      <td>https://www.lendingclub.com/browse/loanDetail....</td>\n",
       "      <td>CA</td>\n",
       "      <td>1126.45</td>\n",
       "    </tr>\n",
       "    <tr>\n",
       "      <th>8</th>\n",
       "      <td>46816139</td>\n",
       "      <td>Apr-15</td>\n",
       "      <td>7500.0</td>\n",
       "      <td>Current</td>\n",
       "      <td>7500.0</td>\n",
       "      <td>36 months</td>\n",
       "      <td>13.33</td>\n",
       "      <td>253.9</td>\n",
       "      <td>C</td>\n",
       "      <td>C3</td>\n",
       "      <td></td>\n",
       "      <td>https://www.lendingclub.com/browse/loanDetail....</td>\n",
       "      <td>GA</td>\n",
       "      <td>2025.65</td>\n",
       "    </tr>\n",
       "    <tr>\n",
       "      <th>9</th>\n",
       "      <td>63918356</td>\n",
       "      <td>Nov-15</td>\n",
       "      <td>8000.0</td>\n",
       "      <td>Current</td>\n",
       "      <td>8000.0</td>\n",
       "      <td>36 months</td>\n",
       "      <td>юли.89</td>\n",
       "      <td>250.29</td>\n",
       "      <td>A</td>\n",
       "      <td>A5</td>\n",
       "      <td>Source Verified</td>\n",
       "      <td>https://www.lendingclub.com/browse/loanDetail....</td>\n",
       "      <td>MA</td>\n",
       "      <td>497.07</td>\n",
       "    </tr>\n",
       "  </tbody>\n",
       "</table>\n",
       "</div>"
      ],
      "text/plain": [
       "         0        1          2            3            4          5   \\\n",
       "0        id  issue_d  loan_amnt  loan_status  funded_amnt       term   \n",
       "1  48010226   May-15    35000.0      Current      35000.0  36 months   \n",
       "2  57693261             30000.0      Current      30000.0  36 months   \n",
       "3  59432726   Sep-15    15000.0      Current      15000.0  36 months   \n",
       "4  53222800   Jul-15     9600.0      Current       9600.0  36 months   \n",
       "5  57803010   Aug-15     8075.0      Current       8075.0  36 months   \n",
       "6  63398019   Oct-15    14400.0      Current      14400.0  60 months   \n",
       "7  60850626   Sep-15                 Current      13000.0  60 months   \n",
       "8  46816139   Apr-15     7500.0      Current       7500.0  36 months   \n",
       "9  63918356   Nov-15     8000.0      Current       8000.0  36 months   \n",
       "\n",
       "         6            7      8          9                    10  \\\n",
       "0  int_rate  installment  grade  sub_grade  verification_status   \n",
       "1     13.33      1184.86      C         C3             Verified   \n",
       "2    юли.89       938.57      A         A5      Source Verified   \n",
       "3    ное.53       494.86      B         B5             Verified   \n",
       "4    юли.89       300.35      A         A5         Not Verified   \n",
       "5     19.19       296.78                E3      Source Verified   \n",
       "6     13.99       334.99                C4         Not Verified   \n",
       "7     24.99        381.5      F         F4      Source Verified   \n",
       "8     13.33        253.9      C         C3                        \n",
       "9    юли.89       250.29      A         A5      Source Verified   \n",
       "\n",
       "                                                  11          12           13  \n",
       "0                                                url  addr_state  total_pymnt  \n",
       "1  https://www.lendingclub.com/browse/loanDetail....          CA      9452.96  \n",
       "2  https://www.lendingclub.com/browse/loanDetail....          NY       4679.7  \n",
       "3  https://www.lendingclub.com/browse/loanDetail....          PA      1969.83  \n",
       "4  https://www.lendingclub.com/browse/loanDetail....          OH      1793.68  \n",
       "5  https://www.lendingclub.com/browse/loanDetail....          TX      1178.51  \n",
       "6  https://www.lendingclub.com/browse/loanDetail....          AL       681.17  \n",
       "7  https://www.lendingclub.com/browse/loanDetail....          CA      1126.45  \n",
       "8  https://www.lendingclub.com/browse/loanDetail....          GA      2025.65  \n",
       "9  https://www.lendingclub.com/browse/loanDetail....          MA       497.07  "
      ]
     },
     "execution_count": 6,
     "metadata": {},
     "output_type": "execute_result"
    }
   ],
   "source": [
    "# Convertendo o array NumPy para um DataFrame do Pandas 2 (visualizando dados carregados como string)\n",
    "df2 = pd.DataFrame(dados2)\n",
    "\n",
    "# Exibindo o DataFrame\n",
    "df2.head(10)"
   ]
  },
  {
   "cell_type": "markdown",
   "id": "4935188d",
   "metadata": {},
   "source": [
    "### Tipo de Dados"
   ]
  },
  {
   "cell_type": "code",
   "execution_count": 7,
   "id": "64775a85",
   "metadata": {},
   "outputs": [
    {
     "name": "stdout",
     "output_type": "stream",
     "text": [
      "<class 'numpy.ndarray'>\n",
      "<class 'pandas.core.frame.DataFrame'>\n",
      "(10000, 14)\n",
      "(10000, 14)\n"
     ]
    }
   ],
   "source": [
    "print(type(dados))\n",
    "print(type(df))\n",
    "\n",
    "print(dados.shape)\n",
    "print(df.shape)"
   ]
  },
  {
   "cell_type": "markdown",
   "id": "59a3dd49",
   "metadata": {},
   "source": [
    "## Verificando Valores Ausentes"
   ]
  },
  {
   "cell_type": "code",
   "execution_count": 8,
   "id": "8aa7e752",
   "metadata": {},
   "outputs": [
    {
     "data": {
      "text/plain": [
       "array([[48010226.  ,         nan,    35000.  , ...,         nan,         nan,     9452.96],\n",
       "       [57693261.  ,         nan,    30000.  , ...,         nan,         nan,     4679.7 ],\n",
       "       [59432726.  ,         nan,    15000.  , ...,         nan,         nan,     1969.83],\n",
       "       ...,\n",
       "       [50415990.  ,         nan,    10000.  , ...,         nan,         nan,     2185.64],\n",
       "       [46154151.  ,         nan,         nan, ...,         nan,         nan,     3199.4 ],\n",
       "       [66055249.  ,         nan,    10000.  , ...,         nan,         nan,      301.9 ]])"
      ]
     },
     "execution_count": 8,
     "metadata": {},
     "output_type": "execute_result"
    }
   ],
   "source": [
    "# Visualizando novamente dataset e dados ausentes\n",
    "\n",
    "dados.view()"
   ]
  },
  {
   "cell_type": "markdown",
   "id": "ecf485d6",
   "metadata": {},
   "source": [
    "Observe como várias colunas estão com o tipo NaN. Isso se deve a caracteres especiais no conjunto de dados e a forma como o NumPy carrega dados numéricos e do tipo string. Iremos resolver isso"
   ]
  },
  {
   "cell_type": "code",
   "execution_count": 9,
   "id": "64955287",
   "metadata": {},
   "outputs": [
    {
     "data": {
      "text/plain": [
       "88005"
      ]
     },
     "execution_count": 9,
     "metadata": {},
     "output_type": "execute_result"
    }
   ],
   "source": [
    "# Total de Valores Ausentes\n",
    "\n",
    "np.isnan(dados).sum()"
   ]
  },
  {
   "cell_type": "markdown",
   "id": "10dacf88",
   "metadata": {},
   "source": [
    "## Tratando Valores Ausentes"
   ]
  },
  {
   "cell_type": "code",
   "execution_count": 10,
   "id": "49028641",
   "metadata": {},
   "outputs": [
    {
     "name": "stdout",
     "output_type": "stream",
     "text": [
      "68616520.0\n"
     ]
    }
   ],
   "source": [
    "# Vamos primeiramente retornar o maior valor + 1 ignorando valores NaN do dataset\n",
    "# Usaremos este valor arbitrário para preencher os valores ausentes no momento da carga de dados de variáveis\n",
    "# numéricas e depois tratamos esse valor como ausente\n",
    "\n",
    "# Portanto pegamos o maior valor do conjunto de dados (sem considerar NaN), somamos 1 e gravamos em valor_coringa\n",
    "# Vamos usar este valor para preeencher valores ausentes na hora de carregar variáveis numéricas\n",
    "\n",
    "# Através do NumPy conseguimos passar por todo o conjunto de dados (memso que tenham outros tipos como chr) e ainda\n",
    "# assim achar o maior valor numérico\n",
    "\n",
    "valor_coringa = np.nanmax(dados) + 1\n",
    "print(valor_coringa)"
   ]
  },
  {
   "cell_type": "code",
   "execution_count": 11,
   "id": "1bc569c5",
   "metadata": {},
   "outputs": [
    {
     "name": "stdout",
     "output_type": "stream",
     "text": [
      "[54015809.19         nan    15273.46         nan    15311.04         nan       16.62      440.92         nan         nan         nan         nan         nan     3143.85]\n"
     ]
    }
   ],
   "source": [
    "# Calculamos a média (variáveis numéricas) ignorando valores NaN por coluna\n",
    "# Iremos usar isso para separar variáveis do tipo numéricas de variáveis do tipo string\n",
    "\n",
    "media_ignorando_nan = np.nanmean(dados, axis = 0)\n",
    "print(media_ignorando_nan)"
   ]
  },
  {
   "cell_type": "code",
   "execution_count": 12,
   "id": "9c7419c1",
   "metadata": {},
   "outputs": [
    {
     "data": {
      "text/plain": [
       "array([ 1,  3,  5,  8,  9, 10, 11, 12])"
      ]
     },
     "execution_count": 12,
     "metadata": {},
     "output_type": "execute_result"
    }
   ],
   "source": [
    "# Colunas do tipo Strings com valores ausentes\n",
    "\n",
    "colunas_strings = np.argwhere(np.isnan(media_ignorando_nan)).squeeze()\n",
    "colunas_strings"
   ]
  },
  {
   "cell_type": "code",
   "execution_count": 13,
   "id": "7b3dfae0",
   "metadata": {},
   "outputs": [
    {
     "data": {
      "text/plain": [
       "array([ 0,  2,  4,  6,  7, 13])"
      ]
     },
     "execution_count": 13,
     "metadata": {},
     "output_type": "execute_result"
    }
   ],
   "source": [
    "# Colunas do tipo Numérica com valores ausentes\n",
    "\n",
    "colunas_numericas = np.argwhere(np.isnan(media_ignorando_nan) == False).squeeze()\n",
    "colunas_numericas"
   ]
  },
  {
   "cell_type": "markdown",
   "id": "5d3c0c48",
   "metadata": {},
   "source": [
    "#### Importando novamente o dataset, agora separando colunas do tipo String e colunas do tipo Numérica"
   ]
  },
  {
   "cell_type": "code",
   "execution_count": 14,
   "id": "ef3760dc",
   "metadata": {},
   "outputs": [
    {
     "data": {
      "text/plain": [
       "array([['May-15', 'Current', '36 months', ..., 'Verified', 'https://www.lendingclub.com/browse/loanDetail.action?loan_id=48010226', 'CA'],\n",
       "       ['', 'Current', '36 months', ..., 'Source Verified', 'https://www.lendingclub.com/browse/loanDetail.action?loan_id=57693261', 'NY'],\n",
       "       ['Sep-15', 'Current', '36 months', ..., 'Verified', 'https://www.lendingclub.com/browse/loanDetail.action?loan_id=59432726', 'PA'],\n",
       "       ...,\n",
       "       ['Jun-15', 'Current', '36 months', ..., 'Source Verified', 'https://www.lendingclub.com/browse/loanDetail.action?loan_id=50415990', 'CA'],\n",
       "       ['Apr-15', 'Current', '36 months', ..., 'Source Verified', 'https://www.lendingclub.com/browse/loanDetail.action?loan_id=46154151', 'OH'],\n",
       "       ['Dec-15', 'Current', '36 months', ..., '', 'https://www.lendingclub.com/browse/loanDetail.action?loan_id=66055249', 'IL']], dtype='<U69')"
      ]
     },
     "execution_count": 14,
     "metadata": {},
     "output_type": "execute_result"
    }
   ],
   "source": [
    "# Carregando somente Colunas do Tipo String\n",
    "\n",
    "arr_strings = np.genfromtxt(\"datasets/dataset1.csv\",\n",
    "                           delimiter = ';',\n",
    "                           skip_header = 1,               # não carrega o cabeçalho\n",
    "                           autostrip = True,\n",
    "                           usecols = colunas_strings,\n",
    "                           dtype = str,\n",
    "                           encoding = 'windows-1251'\n",
    "                           )\n",
    "\n",
    "arr_strings"
   ]
  },
  {
   "cell_type": "code",
   "execution_count": 15,
   "id": "e44e300e",
   "metadata": {},
   "outputs": [
    {
     "data": {
      "text/plain": [
       "array([[48010226.  ,    35000.  ,    35000.  ,       13.33,     1184.86,     9452.96],\n",
       "       [57693261.  ,    30000.  ,    30000.  , 68616520.  ,      938.57,     4679.7 ],\n",
       "       [59432726.  ,    15000.  ,    15000.  , 68616520.  ,      494.86,     1969.83],\n",
       "       ...,\n",
       "       [50415990.  ,    10000.  ,    10000.  , 68616520.  , 68616520.  ,     2185.64],\n",
       "       [46154151.  , 68616520.  ,    10000.  ,       16.55,      354.3 ,     3199.4 ],\n",
       "       [66055249.  ,    10000.  ,    10000.  , 68616520.  ,      309.97,      301.9 ]])"
      ]
     },
     "execution_count": 15,
     "metadata": {},
     "output_type": "execute_result"
    }
   ],
   "source": [
    "# Carregando somente Colunas do Tipo Numérica\n",
    "\n",
    "arr_numeric = np.genfromtxt(\"datasets/dataset1.csv\",\n",
    "                           delimiter = ';',\n",
    "                           skip_header = 1,                      # não carrega o cabeçalho\n",
    "                           autostrip = True,\n",
    "                           usecols = colunas_numericas,\n",
    "                           filling_values = valor_coringa,       # caso tenha valores NaN, ele substitui pelo \n",
    "                           encoding = 'windows-1251'             # valor_coringa\n",
    "                           )\n",
    "\n",
    "arr_numeric"
   ]
  },
  {
   "cell_type": "markdown",
   "id": "a7319584",
   "metadata": {},
   "source": [
    "#### Importando novamente o dataset, agora carregando apenas o nome das colunas"
   ]
  },
  {
   "cell_type": "code",
   "execution_count": 16,
   "id": "fe8e9689",
   "metadata": {},
   "outputs": [
    {
     "data": {
      "text/plain": [
       "array(['id', 'issue_d', 'loan_amnt', 'loan_status', 'funded_amnt', 'term', 'int_rate', 'installment', 'grade', 'sub_grade', 'verification_status', 'url', 'addr_state', 'total_pymnt'], dtype='<U19')"
      ]
     },
     "execution_count": 16,
     "metadata": {},
     "output_type": "execute_result"
    }
   ],
   "source": [
    "# Carrega nome das colunas\n",
    "\n",
    "arr_nomes_colunas = np.genfromtxt(\"datasets/dataset1.csv\",\n",
    "                    delimiter = ';',\n",
    "                    autostrip = True,\n",
    "                    skip_footer = dados.shape[0],\n",
    "                    dtype = str,\n",
    "                    encoding = 'windows-1251' \n",
    "                    )\n",
    "\n",
    "arr_nomes_colunas"
   ]
  },
  {
   "cell_type": "code",
   "execution_count": 17,
   "id": "d76c45ef",
   "metadata": {},
   "outputs": [
    {
     "name": "stdout",
     "output_type": "stream",
     "text": [
      "['issue_d' 'loan_status' 'term' 'grade' 'sub_grade' 'verification_status' 'url' 'addr_state']\n",
      "['id' 'loan_amnt' 'funded_amnt' 'int_rate' 'installment' 'total_pymnt']\n"
     ]
    }
   ],
   "source": [
    "# Separa cabeçalho de colunas numéricas e string\n",
    "\n",
    "header_strings, header_numeric = arr_nomes_colunas[colunas_strings], arr_nomes_colunas[colunas_numericas]\n",
    "\n",
    "print(header_strings)\n",
    "print(header_numeric)"
   ]
  },
  {
   "cell_type": "markdown",
   "id": "d3b631aa",
   "metadata": {},
   "source": [
    "## Explicação Sobre o Processo de Tratamento de Valores ausentes\n",
    "\n",
    "#### Verificando Valores Ausentes\n",
    "Inicialmente, foi observado que o dataset contém uma quantidade significativa de valores NaN, indicando a presença de valores ausentes. Isso pode ser devido a várias razões, incluindo caracteres especiais, mistura de tipos de dados (numéricos e strings) em colunas, ou simplesmente dados faltantes.\n",
    "\n",
    "#### Total de Valores Ausentes\n",
    "A quantidade total de valores ausentes foi calculada usando np.isnan(dados).sum(), que forneceu uma visão geral da magnitude do problema.\n",
    "\n",
    "### Estratégia para Tratar Valores Ausentes\n",
    "A abordagem adotada para tratar valores ausentes consistiu em várias etapas:\n",
    "\n",
    "#### Identificação de um Valor Coringa\n",
    "Foi escolhido um valor coringa, definido como o maior valor no dataset mais um (np.nanmax(dados) + 1). Esse valor coringa foi utilizado para preencher temporariamente os valores ausentes nas colunas numéricas durante a carga do dataset, permitindo uma diferenciação clara entre os dados originalmente ausentes e outros valores numéricos.\n",
    "\n",
    "#### Cálculo da Média Ignorando NaN\n",
    "Para cada coluna, foi calculada a média, ignorando valores NaN (np.nanmean(dados, axis=0)). Isso ajudou a identificar quais colunas são puramente numéricas (pois a média de colunas contendo strings ou totalmente ausentes resultaria em NaN).\n",
    "\n",
    "#### Separação de Colunas Numéricas e Strings\n",
    "Com base na etapa anterior, as colunas foram classificadas como numéricas ou strings:\n",
    "\n",
    "#### Colunas Strings:\n",
    "Identificadas como aquelas cuja média resultou em NaN, indicando que não são puramente numéricas.\n",
    "\n",
    "#### Colunas Numéricas\n",
    "Colunas para as quais foi possível calcular uma média, indicando que são puramente numéricas.\n",
    "\n",
    "#### Carregamento Separado de Dados Numéricos e Strings\n",
    "Para tratar adequadamente os diferentes tipos de dados, o dataset foi carregado separadamente para colunas numéricas e strings:\n",
    "\n",
    "#### Dados Numéricos\n",
    "Carregados especificando usecols para selecionar apenas as colunas numéricas e filling_values para preencher valores ausentes com o valor coringa.\n",
    "\n",
    "#### Dados de Strings\n",
    "Carregados especificando usecols para selecionar apenas as colunas de strings, garantindo que o texto seja preservado corretamente.\n",
    "\n",
    "#### Importação dos Nomes das Colunas\n",
    "Os nomes das colunas foram importados separadamente, usando np.genfromtxt com parâmetros ajustados para carregar apenas o cabeçalho, fornecendo uma referência clara de quais dados cada coluna contém.\n",
    "\n",
    "#### Separação dos Nomes das Colunas\n",
    "Os nomes das colunas foram então divididos em dois grupos, correspondendo às colunas numéricas e de strings, com base na classificação feita anteriormente. Isso facilita a referência e a manipulação de colunas específicas nas etapas subsequentes.\n",
    "\n",
    "#### Conclusão\n",
    "Essas etapas formam a base para o tratamento de valores ausentes e a preparação dos dados para análise posterior. A diferenciação entre tipos de dados e o tratamento cuidadoso de valores ausentes são cruciais para garantir a integridade e a usabilidade dos dados em análises futuras."
   ]
  },
  {
   "cell_type": "markdown",
   "id": "db6a5bfd",
   "metadata": {},
   "source": [
    "# Função de Checkpoint\n",
    "\n",
    "#### Checkpoint 1\n",
    "\n",
    "Criação de uma função de Checkpoint para salvar os resultados feitos até aqui."
   ]
  },
  {
   "cell_type": "code",
   "execution_count": 18,
   "id": "4fb6353e",
   "metadata": {},
   "outputs": [],
   "source": [
    "# Função\n",
    "def checkpoint(file_name, checkpoint_header, checkpoint_data):\n",
    "    np.savez(file_name, header = checkpoint_header, data = checkpoint_data)\n",
    "    checkpoint_variable = np.load(file_name + \".npz\")\n",
    "    return(checkpoint_variable)"
   ]
  },
  {
   "cell_type": "code",
   "execution_count": 19,
   "id": "b12cb3dc",
   "metadata": {},
   "outputs": [],
   "source": [
    "checkpoint_inicial = checkpoint(\"datasets/Checkpoint-Inicial\", header_strings, arr_strings)"
   ]
  },
  {
   "cell_type": "code",
   "execution_count": 20,
   "id": "1ea7a939",
   "metadata": {},
   "outputs": [
    {
     "data": {
      "text/plain": [
       "array([['May-15', 'Current', '36 months', ..., 'Verified', 'https://www.lendingclub.com/browse/loanDetail.action?loan_id=48010226', 'CA'],\n",
       "       ['', 'Current', '36 months', ..., 'Source Verified', 'https://www.lendingclub.com/browse/loanDetail.action?loan_id=57693261', 'NY'],\n",
       "       ['Sep-15', 'Current', '36 months', ..., 'Verified', 'https://www.lendingclub.com/browse/loanDetail.action?loan_id=59432726', 'PA'],\n",
       "       ...,\n",
       "       ['Jun-15', 'Current', '36 months', ..., 'Source Verified', 'https://www.lendingclub.com/browse/loanDetail.action?loan_id=50415990', 'CA'],\n",
       "       ['Apr-15', 'Current', '36 months', ..., 'Source Verified', 'https://www.lendingclub.com/browse/loanDetail.action?loan_id=46154151', 'OH'],\n",
       "       ['Dec-15', 'Current', '36 months', ..., '', 'https://www.lendingclub.com/browse/loanDetail.action?loan_id=66055249', 'IL']], dtype='<U69')"
      ]
     },
     "execution_count": 20,
     "metadata": {},
     "output_type": "execute_result"
    }
   ],
   "source": [
    "checkpoint_inicial['data']"
   ]
  },
  {
   "cell_type": "markdown",
   "id": "e1c43504",
   "metadata": {},
   "source": [
    "# Manipulando Colunas do Tipo String"
   ]
  },
  {
   "cell_type": "code",
   "execution_count": 21,
   "id": "771d34e4",
   "metadata": {},
   "outputs": [
    {
     "name": "stdout",
     "output_type": "stream",
     "text": [
      "['issue_d' 'loan_status' 'term' 'grade' 'sub_grade' 'verification_status' 'url' 'addr_state']\n"
     ]
    }
   ],
   "source": [
    "# Verificando novamente nome das colunas do Tipo String (iremos tratar cada uma delas)\n",
    "print(header_strings)"
   ]
  },
  {
   "cell_type": "markdown",
   "id": "4bcaaf5d",
   "metadata": {},
   "source": [
    "#### Renomeando coluna issue_d"
   ]
  },
  {
   "cell_type": "code",
   "execution_count": 22,
   "id": "a1939609",
   "metadata": {},
   "outputs": [
    {
     "name": "stdout",
     "output_type": "stream",
     "text": [
      "['issue_date' 'loan_status' 'term' 'grade' 'sub_grade' 'verification_status' 'url' 'addr_state']\n"
     ]
    }
   ],
   "source": [
    "# Renomeando coluna\n",
    "header_strings[0] = \"issue_date\"\n",
    "print(header_strings)"
   ]
  },
  {
   "cell_type": "markdown",
   "id": "ee2f9a76",
   "metadata": {},
   "source": [
    "### Pré-Processamento da Variável issue_date com Label Encoding"
   ]
  },
  {
   "cell_type": "code",
   "execution_count": 23,
   "id": "65002aaf",
   "metadata": {},
   "outputs": [
    {
     "data": {
      "text/plain": [
       "array(['', 'Apr-15', 'Aug-15', 'Dec-15', 'Feb-15', 'Jan-15', 'Jul-15', 'Jun-15', 'Mar-15', 'May-15', 'Nov-15', 'Oct-15', 'Sep-15'], dtype='<U69')"
      ]
     },
     "execution_count": 23,
     "metadata": {},
     "output_type": "execute_result"
    }
   ],
   "source": [
    "# Extrai os valores únicos\n",
    "np.unique(arr_strings[:, 0])"
   ]
  },
  {
   "cell_type": "code",
   "execution_count": 24,
   "id": "3849cb4c",
   "metadata": {},
   "outputs": [
    {
     "name": "stdout",
     "output_type": "stream",
     "text": [
      "['' 'Apr' 'Aug' 'Dec' 'Feb' 'Jan' 'Jul' 'Jun' 'Mar' 'May' 'Nov' 'Oct' 'Sep']\n",
      "<class 'numpy.ndarray'>\n"
     ]
    }
   ],
   "source": [
    "# Remove o sufico \"-15\" \n",
    "arr_strings[:, 0] = np.chararray.strip(arr_strings[:, 0], \"-15\")\n",
    "\n",
    "# Extrai os valores únicos\n",
    "print(np.unique(arr_strings[:, 0]))\n",
    "\n",
    "# Tipo\n",
    "print(type(arr_strings[:, 0]))"
   ]
  },
  {
   "cell_type": "code",
   "execution_count": 25,
   "id": "e431e8a7",
   "metadata": {},
   "outputs": [
    {
     "data": {
      "text/plain": [
       "array(['0', '1', '10', '11', '12', '2', '3', '4', '5', '6', '7', '8', '9'], dtype='<U69')"
      ]
     },
     "execution_count": 25,
     "metadata": {},
     "output_type": "execute_result"
    }
   ],
   "source": [
    "# Criamos um array com os meses (incluindo um elemento como vazio para o que estiver em branco)\n",
    "meses = np.array(['', 'Jan', 'Feb', 'Mar', 'Apr', 'May', 'Jun', 'Jul', 'Aug', 'Sep', 'Oct', 'Nov', 'Dec'])\n",
    "\n",
    "# Loop para converter os nomes dos meses em valores numéricos (valor '' ficará 0)\n",
    "# Chamamos isso de label encoding\n",
    "for i in range(13):\n",
    "        arr_strings[:,0] = np.where(arr_strings[:,0] == meses[i], i, arr_strings[:,0])\n",
    "        \n",
    "np.unique(arr_strings[:,0])"
   ]
  },
  {
   "cell_type": "markdown",
   "id": "9bb5be1c",
   "metadata": {},
   "source": [
    "### Pré-Processamento da Variável loan_status com Binarização"
   ]
  },
  {
   "cell_type": "code",
   "execution_count": 26,
   "id": "1793c575",
   "metadata": {},
   "outputs": [
    {
     "data": {
      "text/plain": [
       "array(['', 'Charged Off', 'Current', 'Default', 'Fully Paid', 'In Grace Period', 'Issued', 'Late (16-30 days)', 'Late (31-120 days)'], dtype='<U69')"
      ]
     },
     "execution_count": 26,
     "metadata": {},
     "output_type": "execute_result"
    }
   ],
   "source": [
    " # Extrai os valores únicos da variável\n",
    "np.unique(arr_strings[:,1])"
   ]
  },
  {
   "cell_type": "markdown",
   "id": "57d69d33",
   "metadata": {},
   "source": [
    "Após tomada de decisão decidimos resumir a informação da variável em dois grupos (0 mal pagador e 1 bom pagador)"
   ]
  },
  {
   "cell_type": "code",
   "execution_count": 27,
   "id": "11daef8c",
   "metadata": {},
   "outputs": [],
   "source": [
    "# Criamos um array com apenas 3 status para mau pagador (0)\n",
    "status_bad = np.array(['', 'Charged Off', 'Default', 'Late (31-120 days)'])"
   ]
  },
  {
   "cell_type": "code",
   "execution_count": 28,
   "id": "a556c2f4",
   "metadata": {},
   "outputs": [],
   "source": [
    "# Checamos agora os valores da variável e comparamos com o array anterior convertendo a variável para\n",
    "# valores binários\n",
    "# Chamamos isso de binarização\n",
    "arr_strings[:,1] = np.where(np.isin(arr_strings[:,1], status_bad),0,1)"
   ]
  },
  {
   "cell_type": "code",
   "execution_count": 29,
   "id": "682493d0",
   "metadata": {},
   "outputs": [
    {
     "data": {
      "text/plain": [
       "array(['0', '1'], dtype='<U69')"
      ]
     },
     "execution_count": 29,
     "metadata": {},
     "output_type": "execute_result"
    }
   ],
   "source": [
    "# Extrai os valores únicos da variável\n",
    "np.unique(arr_strings[:,1])"
   ]
  },
  {
   "cell_type": "markdown",
   "id": "67a864c7",
   "metadata": {},
   "source": [
    "### Pré-Processamento da Variável term com Limpeza de String"
   ]
  },
  {
   "cell_type": "code",
   "execution_count": 30,
   "id": "16b1e89e",
   "metadata": {},
   "outputs": [
    {
     "data": {
      "text/plain": [
       "array(['', '36 months', '60 months'], dtype='<U69')"
      ]
     },
     "execution_count": 30,
     "metadata": {},
     "output_type": "execute_result"
    }
   ],
   "source": [
    "# Extrai os valores únicos da variável\n",
    "np.unique(arr_strings[:,2])"
   ]
  },
  {
   "cell_type": "code",
   "execution_count": 31,
   "id": "2db71965",
   "metadata": {},
   "outputs": [],
   "source": [
    "# Mudamos o título da variável\n",
    "header_strings[2] = \"term_months\""
   ]
  },
  {
   "cell_type": "code",
   "execution_count": 32,
   "id": "f9c09e21",
   "metadata": {},
   "outputs": [
    {
     "data": {
      "text/plain": [
       "array(['', '36', '60'], dtype='<U69')"
      ]
     },
     "execution_count": 32,
     "metadata": {},
     "output_type": "execute_result"
    }
   ],
   "source": [
    "# Removemos a palavra months (observe o espaço antes da palavra)\n",
    "arr_strings[:,2] = np.chararray.strip(arr_strings[:,2], \" months\")\n",
    "\n",
    "# Extrai os valores únicos da variável\n",
    "np.unique(arr_strings[:,2])"
   ]
  },
  {
   "cell_type": "code",
   "execution_count": 33,
   "id": "5c26dd52",
   "metadata": {},
   "outputs": [],
   "source": [
    "# Substituímos os valores ausentes pelo maior valor, em nosso caso 60\n",
    "arr_strings[:,2] = np.where(arr_strings[:,2] == '', '60', arr_strings[:,2])"
   ]
  },
  {
   "cell_type": "code",
   "execution_count": 34,
   "id": "d2b85367",
   "metadata": {},
   "outputs": [
    {
     "data": {
      "text/plain": [
       "array(['36', '60'], dtype='<U69')"
      ]
     },
     "execution_count": 34,
     "metadata": {},
     "output_type": "execute_result"
    }
   ],
   "source": [
    "# Extrai os valores únicos da variável\n",
    "np.unique(arr_strings[:,2])"
   ]
  },
  {
   "cell_type": "markdown",
   "id": "8d324466",
   "metadata": {},
   "source": [
    "### Pré-Processamento das Variáveis grade e sub_grade com Dicionário (É um Tipo de Label Encoding)"
   ]
  },
  {
   "cell_type": "code",
   "execution_count": 35,
   "id": "3957f2d9",
   "metadata": {},
   "outputs": [
    {
     "data": {
      "text/plain": [
       "array(['', 'A', 'B', 'C', 'D', 'E', 'F', 'G'], dtype='<U69')"
      ]
     },
     "execution_count": 35,
     "metadata": {},
     "output_type": "execute_result"
    }
   ],
   "source": [
    "# Extrai os valores únicos da variável grade\n",
    "np.unique(arr_strings[:,3])"
   ]
  },
  {
   "cell_type": "code",
   "execution_count": 36,
   "id": "28242cc5",
   "metadata": {
    "scrolled": true
   },
   "outputs": [
    {
     "data": {
      "text/plain": [
       "array(['', 'A1', 'A2', 'A3', 'A4', 'A5', 'B1', 'B2', 'B3', 'B4', 'B5', 'C1', 'C2', 'C3', 'C4', 'C5', 'D1', 'D2', 'D3', 'D4', 'D5', 'E1', 'E2', 'E3', 'E4', 'E5', 'F1', 'F2', 'F3', 'F4', 'F5', 'G1',\n",
       "       'G2', 'G3', 'G4', 'G5'], dtype='<U69')"
      ]
     },
     "execution_count": 36,
     "metadata": {},
     "output_type": "execute_result"
    }
   ],
   "source": [
    "# Extrai os valores únicos da variável sub_grade\n",
    "np.unique(arr_strings[:,4])"
   ]
  },
  {
   "cell_type": "code",
   "execution_count": 37,
   "id": "2b9f33b2",
   "metadata": {},
   "outputs": [
    {
     "data": {
      "text/plain": [
       "array(['A', 'B', 'C', 'D', 'E', 'F', 'G'], dtype='<U69')"
      ]
     },
     "execution_count": 37,
     "metadata": {},
     "output_type": "execute_result"
    }
   ],
   "source": [
    "# Visualiza os valores únicos da variável grade sem NA (será usado no loop)\n",
    "np.unique(arr_strings[:,3])[1:]"
   ]
  },
  {
   "cell_type": "code",
   "execution_count": 38,
   "id": "ef3bbb3e",
   "metadata": {},
   "outputs": [],
   "source": [
    "# Loop para ajuste da variável sub_grade\n",
    "# O loop identifica casos em que a sub_grade está vazia (''), mas a variavel grade correspondente tem um valor.\n",
    "# Nesses casos, atribui-se à sub_grade o valor da grade com um '5' adicionado ao final. \n",
    "\n",
    "for i in np.unique(arr_strings[:,3])[1:]:\n",
    "    arr_strings[:,4] = np.where((arr_strings[:,4] == '') & (arr_strings[:,3] == i), i + '5', arr_strings[:,4])"
   ]
  },
  {
   "cell_type": "code",
   "execution_count": 39,
   "id": "687daec8",
   "metadata": {},
   "outputs": [
    {
     "data": {
      "text/plain": [
       "(array(['', 'A1', 'A2', 'A3', 'A4', 'A5', 'B1', 'B2', 'B3', 'B4', 'B5', 'C1', 'C2', 'C3', 'C4', 'C5', 'D1', 'D2', 'D3', 'D4', 'D5', 'E1', 'E2', 'E3', 'E4', 'E5', 'F1', 'F2', 'F3', 'F4', 'F5', 'G1',\n",
       "        'G2', 'G3', 'G4', 'G5'], dtype='<U69'),\n",
       " array([  9, 285, 278, 239, 323, 592, 509, 517, 530, 553, 633, 629, 567, 586, 564, 577, 391, 267, 250, 255, 288, 235, 162, 171, 139, 160,  94,  52,  34,  43,  24,  19,  10,   3,   7,   5]))"
      ]
     },
     "execution_count": 39,
     "metadata": {},
     "output_type": "execute_result"
    }
   ],
   "source": [
    "# Retorna categorias e suas respectivas contagens\n",
    "np.unique(arr_strings[:,4], return_counts = True)"
   ]
  },
  {
   "cell_type": "code",
   "execution_count": 40,
   "id": "c0619271",
   "metadata": {},
   "outputs": [
    {
     "data": {
      "text/plain": [
       "array(['A1', 'A2', 'A3', 'A4', 'A5', 'B1', 'B2', 'B3', 'B4', 'B5', 'C1', 'C2', 'C3', 'C4', 'C5', 'D1', 'D2', 'D3', 'D4', 'D5', 'E1', 'E2', 'E3', 'E4', 'E5', 'F1', 'F2', 'F3', 'F4', 'F5', 'G1', 'G2',\n",
       "       'G3', 'G4', 'G5', 'H1'], dtype='<U69')"
      ]
     },
     "execution_count": 40,
     "metadata": {},
     "output_type": "execute_result"
    }
   ],
   "source": [
    "# Substituímos valores ausentes de sub_grade por uma nova categoria (H1)\n",
    "arr_strings[:,4] = np.where(arr_strings[:,4] == '', 'H1', arr_strings[:,4])\n",
    "\n",
    "# Extrai os valores únicos da variável\n",
    "np.unique(arr_strings[:,4])"
   ]
  },
  {
   "cell_type": "code",
   "execution_count": 41,
   "id": "e8cf440c",
   "metadata": {},
   "outputs": [],
   "source": [
    "# Removendo variável grade (não precisamos mais dela)\n",
    "\n",
    "arr_strings = np.delete(arr_strings, 3, axis = 1)"
   ]
  },
  {
   "cell_type": "code",
   "execution_count": 42,
   "id": "5f18d3e8",
   "metadata": {},
   "outputs": [
    {
     "data": {
      "text/plain": [
       "array(['C3', 'A5', 'B5', ..., 'A5', 'D2', 'A4'], dtype='<U69')"
      ]
     },
     "execution_count": 42,
     "metadata": {},
     "output_type": "execute_result"
    }
   ],
   "source": [
    "# Visualizando a nova variável na coluna de índice 3 (antiga grade)\n",
    "\n",
    "arr_strings[:,3]"
   ]
  },
  {
   "cell_type": "code",
   "execution_count": 43,
   "id": "33926086",
   "metadata": {},
   "outputs": [
    {
     "data": {
      "text/plain": [
       "'sub_grade'"
      ]
     },
     "execution_count": 43,
     "metadata": {},
     "output_type": "execute_result"
    }
   ],
   "source": [
    "# Remover a coluna grade também do conjunto de array com nome dsa colunas\n",
    "header_strings = np.delete(header_strings, 3)\n",
    "\n",
    "# Visualizando a nova variável na coluna de índice 3 (antiga grade)\n",
    "header_strings[3]"
   ]
  },
  {
   "cell_type": "markdown",
   "id": "fa254402",
   "metadata": {},
   "source": [
    "#### Por fim, convertemos a variável sub_grade para sua representação numérica (através de um dicionário)"
   ]
  },
  {
   "cell_type": "code",
   "execution_count": 44,
   "id": "99748a6d",
   "metadata": {},
   "outputs": [
    {
     "name": "stdout",
     "output_type": "stream",
     "text": [
      "['A1' 'A2' 'A3' 'A4' 'A5' 'B1' 'B2' 'B3' 'B4' 'B5' 'C1' 'C2' 'C3' 'C4' 'C5' 'D1' 'D2' 'D3' 'D4' 'D5' 'E1' 'E2' 'E3' 'E4' 'E5' 'F1' 'F2' 'F3' 'F4' 'F5' 'G1' 'G2' 'G3' 'G4' 'G5' 'H1']\n"
     ]
    }
   ],
   "source": [
    "# Visualiza como estão os valores únicos da variável sub_grade\n",
    "print(np.unique(arr_strings[:,3]))"
   ]
  },
  {
   "cell_type": "code",
   "execution_count": 45,
   "id": "8e0ee995",
   "metadata": {},
   "outputs": [
    {
     "name": "stdout",
     "output_type": "stream",
     "text": [
      "A1\n"
     ]
    }
   ],
   "source": [
    "# Cria uma lista de chaves (com valores da categoria)\n",
    "keys = list(np.unique(arr_strings[:,3]))     \n",
    "print(keys[0])"
   ]
  },
  {
   "cell_type": "code",
   "execution_count": 46,
   "id": "1ddde445",
   "metadata": {},
   "outputs": [
    {
     "name": "stdout",
     "output_type": "stream",
     "text": [
      "1\n"
     ]
    }
   ],
   "source": [
    "# Cria uma lista de valores (números)\n",
    "values = list(range(1, np.unique(arr_strings[:,3]).shape[0] + 1)) \n",
    "print(values[0])\n"
   ]
  },
  {
   "cell_type": "code",
   "execution_count": 47,
   "id": "098d2a6c",
   "metadata": {},
   "outputs": [
    {
     "data": {
      "text/plain": [
       "{'A1': 1,\n",
       " 'A2': 2,\n",
       " 'A3': 3,\n",
       " 'A4': 4,\n",
       " 'A5': 5,\n",
       " 'B1': 6,\n",
       " 'B2': 7,\n",
       " 'B3': 8,\n",
       " 'B4': 9,\n",
       " 'B5': 10,\n",
       " 'C1': 11,\n",
       " 'C2': 12,\n",
       " 'C3': 13,\n",
       " 'C4': 14,\n",
       " 'C5': 15,\n",
       " 'D1': 16,\n",
       " 'D2': 17,\n",
       " 'D3': 18,\n",
       " 'D4': 19,\n",
       " 'D5': 20,\n",
       " 'E1': 21,\n",
       " 'E2': 22,\n",
       " 'E3': 23,\n",
       " 'E4': 24,\n",
       " 'E5': 25,\n",
       " 'F1': 26,\n",
       " 'F2': 27,\n",
       " 'F3': 28,\n",
       " 'F4': 29,\n",
       " 'F5': 30,\n",
       " 'G1': 31,\n",
       " 'G2': 32,\n",
       " 'G3': 33,\n",
       " 'G4': 34,\n",
       " 'G5': 35,\n",
       " 'H1': 36}"
      ]
     },
     "execution_count": 47,
     "metadata": {},
     "output_type": "execute_result"
    }
   ],
   "source": [
    "# Criamos então o dicionário (cada categoria tem seu valor numérico)\n",
    "dict_sub_grade = dict(zip(keys, values))\n",
    "\n",
    "dict_sub_grade"
   ]
  },
  {
   "cell_type": "code",
   "execution_count": 48,
   "id": "c11b75b4",
   "metadata": {},
   "outputs": [
    {
     "data": {
      "text/plain": [
       "array(['1', '10', '11', '12', '13', '14', '15', '16', '17', '18', '19', '2', '20', '21', '22', '23', '24', '25', '26', '27', '28', '29', '3', '30', '31', '32', '33', '34', '35', '36', '4', '5', '6',\n",
       "       '7', '8', '9'], dtype='<U69')"
      ]
     },
     "execution_count": 48,
     "metadata": {},
     "output_type": "execute_result"
    }
   ],
   "source": [
    "# Loop para substituir a string com as categorias pela representação numérica (frequência)\n",
    "\n",
    "for i in np.unique(arr_strings[:,3]):\n",
    "        arr_strings[:,3] = np.where(arr_strings[:,3] == i, dict_sub_grade[i], arr_strings[:,3])\n",
    "        \n",
    "# Verifica os valores únicos da variável\n",
    "np.unique(arr_strings[:,3])"
   ]
  },
  {
   "cell_type": "markdown",
   "id": "4aac2b08",
   "metadata": {},
   "source": [
    "### Pré-Processamento da Variável verification_status com Binarização (processo similar a variável loan_status)"
   ]
  },
  {
   "cell_type": "code",
   "execution_count": 49,
   "id": "72442dbc",
   "metadata": {},
   "outputs": [
    {
     "data": {
      "text/plain": [
       "array(['', 'Not Verified', 'Source Verified', 'Verified'], dtype='<U69')"
      ]
     },
     "execution_count": 49,
     "metadata": {},
     "output_type": "execute_result"
    }
   ],
   "source": [
    " # Extrai os valores únicos da variável\n",
    "np.unique(arr_strings[:,4])"
   ]
  },
  {
   "cell_type": "code",
   "execution_count": 50,
   "id": "db9d3e95",
   "metadata": {},
   "outputs": [],
   "source": [
    "# Usamos a binarização nesta variável (0 para valores NA e \"Not Verified\")\n",
    "arr_strings[:,4] = np.where((arr_strings[:,4] == '') | (arr_strings[:,4] == 'Not Verified'), 0, 1)"
   ]
  },
  {
   "cell_type": "code",
   "execution_count": 51,
   "id": "aa461ddd",
   "metadata": {},
   "outputs": [
    {
     "data": {
      "text/plain": [
       "(array(['0', '1'], dtype='<U69'), array([3173, 6827]))"
      ]
     },
     "execution_count": 51,
     "metadata": {},
     "output_type": "execute_result"
    }
   ],
   "source": [
    "# Verifica novamente os valores únicos da variável\n",
    "np.unique(arr_strings[:,4], return_counts = True)"
   ]
  },
  {
   "cell_type": "markdown",
   "id": "49f87766",
   "metadata": {},
   "source": [
    "### Pré-Processamento da Variável url com Extração de ID"
   ]
  },
  {
   "cell_type": "code",
   "execution_count": 52,
   "id": "b546b409",
   "metadata": {},
   "outputs": [
    {
     "data": {
      "text/plain": [
       "array(['https://www.lendingclub.com/browse/loanDetail.action?loan_id=48010226', 'https://www.lendingclub.com/browse/loanDetail.action?loan_id=57693261',\n",
       "       'https://www.lendingclub.com/browse/loanDetail.action?loan_id=59432726', ..., 'https://www.lendingclub.com/browse/loanDetail.action?loan_id=50415990',\n",
       "       'https://www.lendingclub.com/browse/loanDetail.action?loan_id=46154151', 'https://www.lendingclub.com/browse/loanDetail.action?loan_id=66055249'], dtype='<U69')"
      ]
     },
     "execution_count": 52,
     "metadata": {},
     "output_type": "execute_result"
    }
   ],
   "source": [
    "# Visualiza amostra dos dados\n",
    "arr_strings[:,5]"
   ]
  },
  {
   "cell_type": "code",
   "execution_count": 53,
   "id": "19f7ed2c",
   "metadata": {},
   "outputs": [
    {
     "data": {
      "text/plain": [
       "chararray(['48010226', '57693261', '59432726', ..., '50415990', '46154151', '66055249'], dtype='<U69')"
      ]
     },
     "execution_count": 53,
     "metadata": {},
     "output_type": "execute_result"
    }
   ],
   "source": [
    "# Verificamos que ao final de cada url temos um ID\n",
    "# Vamos extrair esse ID\n",
    "np.chararray.strip(arr_strings[:,5], \"https://www.lendingclub.com/browse/loanDetail.action?loan_id=\")"
   ]
  },
  {
   "cell_type": "code",
   "execution_count": 54,
   "id": "484f93e4",
   "metadata": {},
   "outputs": [],
   "source": [
    "# Agora vamos remover valor da url e deixar apenas o ID na variável\n",
    "arr_strings[:,5] = np.chararray.strip(arr_strings[:,5], \n",
    "                                      \"https://www.lendingclub.com/browse/loanDetail.action?loan_id=\")"
   ]
  },
  {
   "cell_type": "code",
   "execution_count": 55,
   "id": "7555c17a",
   "metadata": {},
   "outputs": [
    {
     "name": "stdout",
     "output_type": "stream",
     "text": [
      "[48010226 57693261 59432726 ... 50415990 46154151 66055249]\n"
     ]
    }
   ],
   "source": [
    "# Parece que esse id está presente na primeira coluna do conjunto de dados.\n",
    "# Vamos converter para int 32 para comparação\n",
    "\n",
    "print(arr_numeric[:,0].astype(dtype = np.int32))"
   ]
  },
  {
   "cell_type": "code",
   "execution_count": 56,
   "id": "3e65ce20",
   "metadata": {},
   "outputs": [
    {
     "data": {
      "text/plain": [
       "True"
      ]
     },
     "execution_count": 56,
     "metadata": {},
     "output_type": "execute_result"
    }
   ],
   "source": [
    "# Agora vamos comparar com o resultado da primeira coluna\n",
    "np.array_equal(arr_numeric[:,0].astype(dtype = np.int32), arr_strings[:,5].astype(dtype = np.int32))"
   ]
  },
  {
   "cell_type": "code",
   "execution_count": 57,
   "id": "94ec1278",
   "metadata": {},
   "outputs": [],
   "source": [
    "# Constatamos que é a mesma informação\n",
    "# Vamos então apagar a variável url\n",
    "arr_strings = np.delete(arr_strings, 5, axis = 1)\n",
    "\n",
    "# Removendo também do array de cabeçalho\n",
    "header_strings = np.delete(header_strings, 5)"
   ]
  },
  {
   "cell_type": "code",
   "execution_count": 58,
   "id": "750bd2ca",
   "metadata": {},
   "outputs": [
    {
     "name": "stdout",
     "output_type": "stream",
     "text": [
      "['issue_date' 'loan_status' 'term_months' 'sub_grade' 'verification_status' 'addr_state']\n",
      "['id' 'loan_amnt' 'funded_amnt' 'int_rate' 'installment' 'total_pymnt']\n"
     ]
    }
   ],
   "source": [
    "# Verificando Nova lista de colunas (constatando que a coluna ID ja era numérica)\n",
    "print(header_strings)\n",
    "print(header_numeric)"
   ]
  },
  {
   "cell_type": "markdown",
   "id": "0ff42aa8",
   "metadata": {},
   "source": [
    "### Pré-Processamento da Variável address com Categorização"
   ]
  },
  {
   "cell_type": "code",
   "execution_count": 59,
   "id": "e1d463df",
   "metadata": {},
   "outputs": [
    {
     "data": {
      "text/plain": [
       "array(['issue_date', 'loan_status', 'term_months', 'sub_grade', 'verification_status', 'addr_state'], dtype='<U19')"
      ]
     },
     "execution_count": 59,
     "metadata": {},
     "output_type": "execute_result"
    }
   ],
   "source": [
    "header_strings"
   ]
  },
  {
   "cell_type": "code",
   "execution_count": 60,
   "id": "3fa659f4",
   "metadata": {},
   "outputs": [],
   "source": [
    "# Vamos ajustar o nome da coluna\n",
    "header_strings[5] = \"state_address\""
   ]
  },
  {
   "cell_type": "code",
   "execution_count": 61,
   "id": "9212273f",
   "metadata": {},
   "outputs": [],
   "source": [
    "# Extrai e verifica nomes e contagens\n",
    "states_names, states_count = np.unique(arr_strings[:,5], return_counts = True)"
   ]
  },
  {
   "cell_type": "code",
   "execution_count": 62,
   "id": "269b89e4",
   "metadata": {},
   "outputs": [],
   "source": [
    "# Ordena em ordem descrescente\n",
    "states_count_sorted = np.argsort(-states_count)"
   ]
  },
  {
   "cell_type": "code",
   "execution_count": 63,
   "id": "887fc539",
   "metadata": {},
   "outputs": [
    {
     "name": "stdout",
     "output_type": "stream",
     "text": [
      "['CA' 'NY' 'TX' 'FL' '' 'IL' 'NJ' 'GA' 'PA' 'OH' 'MI' 'NC' 'VA' 'MD' 'AZ' 'WA' 'MA' 'CO' 'MO' 'MN' 'IN' 'WI' 'CT' 'TN' 'NV' 'AL' 'LA' 'OR' 'SC' 'KY' 'KS' 'OK' 'UT' 'AR' 'MS' 'NH' 'NM' 'WV' 'HI' 'RI'\n",
      " 'MT' 'DE' 'DC' 'WY' 'AK' 'NE' 'SD' 'VT' 'ND' 'ME']\n",
      "[1336  777  758  690  500  389  341  321  320  312  267  261  242  222  220  216  210  201  160  156  152  148  143  143  130  119  116  108  107   84   84   83   74   74   61   58   57   49   44\n",
      "   40   28   27   27   27   26   25   24   17   16   10]\n"
     ]
    }
   ],
   "source": [
    "# Imprime os resultados (todos os tipos de estado e suas respectivas quantidades)\n",
    "print(states_names[states_count_sorted]) \n",
    "print(states_count[states_count_sorted])"
   ]
  },
  {
   "cell_type": "code",
   "execution_count": 64,
   "id": "33169fdd",
   "metadata": {},
   "outputs": [],
   "source": [
    "# Substituímos valores ausentes por zero (necessário para transformar a variável em tipo numérico)\n",
    "arr_strings[:,5] = np.where(arr_strings[:,5] == '', 0, arr_strings[:,5])"
   ]
  },
  {
   "cell_type": "code",
   "execution_count": 65,
   "id": "aec8f3e0",
   "metadata": {},
   "outputs": [],
   "source": [
    "# Vamos separar os estados por regiões.\n",
    "# Referência: https://www2.census.gov/geo/pdfs/maps-data/maps/reference/us_regdiv.pdf\n",
    "\n",
    "# Criando Arrays Por Região\n",
    "states_west = np.array(['WA', 'OR','CA','NV','ID','MT', 'WY','UT','CO', 'AZ','NM','HI','AK'])\n",
    "states_south = np.array(['TX','OK','AR','LA','MS','AL','TN','KY','FL','GA','SC','NC','VA','WV','MD','DE','DC'])\n",
    "states_midwest = np.array(['ND','SD','NE','KS','MN','IA','MO','WI','IL','IN','MI','OH'])\n",
    "states_east = np.array(['PA','NY','NJ','CT','MA','VT','NH','ME','RI'])"
   ]
  },
  {
   "cell_type": "code",
   "execution_count": 66,
   "id": "2db0aeee",
   "metadata": {},
   "outputs": [],
   "source": [
    "# Agora substituímos cada estado pelo id da sua região\n",
    "arr_strings[:,5] = np.where(np.isin(arr_strings[:,5], states_west), 1, arr_strings[:,5])\n",
    "arr_strings[:,5] = np.where(np.isin(arr_strings[:,5], states_south), 2, arr_strings[:,5])\n",
    "arr_strings[:,5] = np.where(np.isin(arr_strings[:,5], states_midwest), 3, arr_strings[:,5])\n",
    "arr_strings[:,5] = np.where(np.isin(arr_strings[:,5], states_east), 4, arr_strings[:,5])"
   ]
  },
  {
   "cell_type": "code",
   "execution_count": 67,
   "id": "522eae6b",
   "metadata": {},
   "outputs": [
    {
     "data": {
      "text/plain": [
       "(array(['0', '1', '2', '3', '4'], dtype='<U69'),\n",
       " array([ 500, 2467, 3384, 1733, 1916]))"
      ]
     },
     "execution_count": 67,
     "metadata": {},
     "output_type": "execute_result"
    }
   ],
   "source": [
    "# Verifica novamente os valores únicos da variável\n",
    "np.unique(arr_strings[:,5], return_counts = True)"
   ]
  },
  {
   "cell_type": "markdown",
   "id": "290ea7bb",
   "metadata": {},
   "source": [
    "### Convertendo o Array\n",
    "#### Nosso array de strings agora é um array numérico. Vamos ajustar o tipo de dado.\n",
    "Diferente do R, devemos conveter nosso array com variáveis categóricas em numérica "
   ]
  },
  {
   "cell_type": "code",
   "execution_count": 68,
   "id": "652490af",
   "metadata": {},
   "outputs": [
    {
     "data": {
      "text/plain": [
       "array([['5', '1', '36', '13', '1', '1'],\n",
       "       ['0', '1', '36', '5', '1', '4'],\n",
       "       ['9', '1', '36', '10', '1', '4'],\n",
       "       ...,\n",
       "       ['6', '1', '36', '5', '1', '1'],\n",
       "       ['4', '1', '36', '17', '1', '3'],\n",
       "       ['12', '1', '36', '4', '0', '3']], dtype='<U69')"
      ]
     },
     "execution_count": 68,
     "metadata": {},
     "output_type": "execute_result"
    }
   ],
   "source": [
    "# Verificando com nosso array de variáveis categóricas contém somente números agora\n",
    "arr_strings"
   ]
  },
  {
   "cell_type": "code",
   "execution_count": 69,
   "id": "48dc9ea9",
   "metadata": {},
   "outputs": [
    {
     "data": {
      "text/plain": [
       "dtype('int64')"
      ]
     },
     "execution_count": 69,
     "metadata": {},
     "output_type": "execute_result"
    }
   ],
   "source": [
    "# Modificando para tipo inteiro\n",
    "arr_strings = arr_strings.astype(int)\n",
    "\n",
    "# Verificando novo tipo\n",
    "arr_strings.dtype"
   ]
  },
  {
   "cell_type": "markdown",
   "id": "d00a9a56",
   "metadata": {},
   "source": [
    "### Checkpoint com Variáveis do Tipo String Limpas e Pré-Processadas\n",
    "#### Checkpoint 2\n",
    "\n",
    "Concluída a primeira parte, vamos gravar o checkpooint."
   ]
  },
  {
   "cell_type": "code",
   "execution_count": 70,
   "id": "aad5e3ee",
   "metadata": {},
   "outputs": [],
   "source": [
    "checkpoint_strings = checkpoint(\"datasets/Checkpoint-Strings\", header_strings, arr_strings)"
   ]
  },
  {
   "cell_type": "code",
   "execution_count": 71,
   "id": "0f4c32fb",
   "metadata": {},
   "outputs": [
    {
     "name": "stdout",
     "output_type": "stream",
     "text": [
      "['issue_date' 'loan_status' 'term_months' 'sub_grade' 'verification_status' 'state_address']\n",
      "[[ 5  1 36 13  1  1]\n",
      " [ 0  1 36  5  1  4]\n",
      " [ 9  1 36 10  1  4]\n",
      " ...\n",
      " [ 6  1 36  5  1  1]\n",
      " [ 4  1 36 17  1  3]\n",
      " [12  1 36  4  0  3]]\n",
      "True\n"
     ]
    }
   ],
   "source": [
    "print(checkpoint_strings[\"header\"])\n",
    "print(checkpoint_strings[\"data\"])\n",
    "print(np.array_equal(checkpoint_strings['data'], arr_strings))"
   ]
  },
  {
   "cell_type": "markdown",
   "id": "2c601846",
   "metadata": {},
   "source": [
    "## Manipulando Colunas Numéricas\n",
    "\n",
    "#### 1. Substituição Inicial por Valor Coringa\n",
    "Definição do Valor Coringa: Inicialmente, é definido um \"valor coringa\" que é utilizado para preencher os valores ausentes no momento da carga dos dados. Esse valor é escolhido como sendo o maior valor encontrado no conjunto de dados (np.nanmax(dados)) acrescido de 1. Isso garante que o valor coringa seja único e não conflite com nenhum valor real dos dados.\n",
    "\n",
    "Substituição de Valores Ausentes: Ao carregar os dados, todos os valores ausentes são substituídos por esse valor coringa. Isso é feito para evitar a perda de informação e facilitar a manipulação subsequente dos dados.\n",
    "\n",
    "##### 2. Cálculo de Estatísticas Ignorando o Valor Coringa\n",
    "Cálculo da Média Ignorando Valores Ausentes: A média de cada coluna numérica é calculada ignorando os valores ausentes (e o valor coringa), resultando em media_ignorando_nan. Isso é crucial para obter medidas estatísticas precisas que serão usadas posteriormente para tratar os valores ausentes de maneira mais informada.\n",
    "\n",
    "Geração de Estatísticas Descritivas: Um array de estatísticas (arr_stats) é criado contendo o valor mínimo, a média e o valor máximo de cada variável, calculados de forma a ignorar tanto os valores NaN quanto o valor coringa. Esse array é fundamental para o tratamento subsequente dos valores ausentes, fornecendo uma base estatística para decisões de imputação.\n",
    "\n",
    "#### 3. Tratamento de Valores Ausentes com Estatísticas\n",
    "Verificação da Presença do Valor Coringa: Antes de proceder com a imputação, verifica-se a presença do valor coringa em cada coluna para confirmar quais colunas contêm esses placeholders.\n",
    "\n",
    "Imputação Baseada em Estatísticas: Para as colunas que foram preenchidas com o valor coringa, utilizam-se as estatísticas calculadas para substituir o valor coringa por um valor mais representativo. Por exemplo, pode-se substituir o valor coringa pelo valor mínimo da coluna, pela média ou por qualquer outro valor estatístico que seja considerado adequado para o contexto dos dados."
   ]
  },
  {
   "cell_type": "code",
   "execution_count": 72,
   "id": "8290036f",
   "metadata": {},
   "outputs": [
    {
     "data": {
      "text/plain": [
       "array([[48010226.  ,    35000.  ,    35000.  ,       13.33,     1184.86,     9452.96],\n",
       "       [57693261.  ,    30000.  ,    30000.  , 68616520.  ,      938.57,     4679.7 ],\n",
       "       [59432726.  ,    15000.  ,    15000.  , 68616520.  ,      494.86,     1969.83],\n",
       "       ...,\n",
       "       [50415990.  ,    10000.  ,    10000.  , 68616520.  , 68616520.  ,     2185.64],\n",
       "       [46154151.  , 68616520.  ,    10000.  ,       16.55,      354.3 ,     3199.4 ],\n",
       "       [66055249.  ,    10000.  ,    10000.  , 68616520.  ,      309.97,      301.9 ]])"
      ]
     },
     "execution_count": 72,
     "metadata": {},
     "output_type": "execute_result"
    }
   ],
   "source": [
    "# Visualiza os dados\n",
    "arr_numeric"
   ]
  },
  {
   "cell_type": "code",
   "execution_count": 73,
   "id": "677932de",
   "metadata": {},
   "outputs": [
    {
     "data": {
      "text/plain": [
       "array(['id', 'loan_amnt', 'funded_amnt', 'int_rate', 'installment', 'total_pymnt'], dtype='<U19')"
      ]
     },
     "execution_count": 73,
     "metadata": {},
     "output_type": "execute_result"
    }
   ],
   "source": [
    "# Nomes das colunas\n",
    "header_numeric"
   ]
  },
  {
   "cell_type": "code",
   "execution_count": 74,
   "id": "ef75172d",
   "metadata": {},
   "outputs": [
    {
     "name": "stdout",
     "output_type": "stream",
     "text": [
      "0\n",
      "68616520.0\n",
      "[False False False ... False False False]\n",
      "500\n"
     ]
    }
   ],
   "source": [
    "# Não temos valor ausente, pois ao carregar os dados substituímos por um valor arbitrário\n",
    "print(np.isnan(arr_numeric).sum())\n",
    "\n",
    "print(valor_coringa)\n",
    "\n",
    "# Podemos checar se uma coluna foi preenchida com o valor coringa (coluna ID não foi preenchida)\n",
    "print(np.isin(arr_numeric[:,0], valor_coringa))\n",
    "\n",
    "# Podemos checar se uma coluna foi preenchida com o valor coringac (coluna loan_amnt tem 500 valores coringas)\n",
    "print(np.isin(arr_numeric[:,1], valor_coringa).sum())\n"
   ]
  },
  {
   "cell_type": "markdown",
   "id": "e14bc0d7",
   "metadata": {},
   "source": [
    "Vamos criar um array de estatísticas, especificamente valor mínimo, máximo e média de cada variável. Usaremos isso noo tratamento de valores ausentes (preenchidos com o valor coringa)."
   ]
  },
  {
   "cell_type": "code",
   "execution_count": 75,
   "id": "caf70ac1",
   "metadata": {},
   "outputs": [
    {
     "name": "stdout",
     "output_type": "stream",
     "text": [
      "[[  373332.           nan     1000.           nan     1000.           nan        6.         31.42         nan         nan         nan         nan         nan        0.  ]\n",
      " [54015809.19         nan    15273.46         nan    15311.04         nan       16.62      440.92         nan         nan         nan         nan         nan     3143.85]\n",
      " [68616519.           nan    35000.           nan    35000.           nan       28.99     1372.97         nan         nan         nan         nan         nan    41913.62]]\n"
     ]
    }
   ],
   "source": [
    "# Criamos um array com valor mínimo, média e valor máximo das colunas, ignorando os valores tratados como NaN\n",
    "# e o valor_coringa durante o cálculo.\n",
    "# Isso permite identificar os verdadeiros valores estatísticos das variáveis numéricas e será utilizado para \n",
    "# o tratamento dos valores ausentes (originalmente substituídos pelo valor_coringa).\n",
    "\n",
    "arr_stats = np.array([np.nanmin(dados, axis = 0), media_ignorando_nan, np.nanmax(dados, axis = 0)])\n",
    "\n",
    "print(arr_stats)"
   ]
  },
  {
   "cell_type": "code",
   "execution_count": 76,
   "id": "eb9a2fc1",
   "metadata": {},
   "outputs": [
    {
     "data": {
      "text/html": [
       "<div>\n",
       "<style scoped>\n",
       "    .dataframe tbody tr th:only-of-type {\n",
       "        vertical-align: middle;\n",
       "    }\n",
       "\n",
       "    .dataframe tbody tr th {\n",
       "        vertical-align: top;\n",
       "    }\n",
       "\n",
       "    .dataframe thead th {\n",
       "        text-align: right;\n",
       "    }\n",
       "</style>\n",
       "<table border=\"1\" class=\"dataframe\">\n",
       "  <thead>\n",
       "    <tr style=\"text-align: right;\">\n",
       "      <th></th>\n",
       "      <th>id</th>\n",
       "      <th>loan_amnt</th>\n",
       "      <th>funded_amnt</th>\n",
       "      <th>int_rate</th>\n",
       "      <th>installment</th>\n",
       "      <th>total_pymnt</th>\n",
       "    </tr>\n",
       "  </thead>\n",
       "  <tbody>\n",
       "    <tr>\n",
       "      <th>Min</th>\n",
       "      <td>3.733320e+05</td>\n",
       "      <td>1000.000000</td>\n",
       "      <td>1000.000000</td>\n",
       "      <td>6.000000</td>\n",
       "      <td>31.420000</td>\n",
       "      <td>0.000000</td>\n",
       "    </tr>\n",
       "    <tr>\n",
       "      <th>Mean</th>\n",
       "      <td>5.401581e+07</td>\n",
       "      <td>15273.463158</td>\n",
       "      <td>15311.042105</td>\n",
       "      <td>16.617295</td>\n",
       "      <td>440.922179</td>\n",
       "      <td>3143.850941</td>\n",
       "    </tr>\n",
       "    <tr>\n",
       "      <th>Max</th>\n",
       "      <td>6.861652e+07</td>\n",
       "      <td>35000.000000</td>\n",
       "      <td>35000.000000</td>\n",
       "      <td>28.990000</td>\n",
       "      <td>1372.970000</td>\n",
       "      <td>41913.620000</td>\n",
       "    </tr>\n",
       "  </tbody>\n",
       "</table>\n",
       "</div>"
      ],
      "text/plain": [
       "                id     loan_amnt   funded_amnt   int_rate  installment  \\\n",
       "Min   3.733320e+05   1000.000000   1000.000000   6.000000    31.420000   \n",
       "Mean  5.401581e+07  15273.463158  15311.042105  16.617295   440.922179   \n",
       "Max   6.861652e+07  35000.000000  35000.000000  28.990000  1372.970000   \n",
       "\n",
       "       total_pymnt  \n",
       "Min       0.000000  \n",
       "Mean   3143.850941  \n",
       "Max   41913.620000  "
      ]
     },
     "execution_count": 76,
     "metadata": {},
     "output_type": "execute_result"
    }
   ],
   "source": [
    "# Convertendo o array de estatísticas para um DataFrame do Pandas 2 (visualizando dados carregados como string)\n",
    "df_stats = pd.DataFrame(arr_stats[:, colunas_numericas])\n",
    "\n",
    "# Renomeando colunas\n",
    "df_stats.columns = header_numeric\n",
    "\n",
    "# Renomeando as linhas\n",
    "df_stats.index = ['Min', 'Mean', 'Max']\n",
    "\n",
    "# Exibindo o DataFrame\n",
    "df_stats"
   ]
  },
  {
   "cell_type": "markdown",
   "id": "8796ec40",
   "metadata": {},
   "source": [
    "### Pré-Processamento da Variável funded_amnt\n",
    "#### (substituindo todos os valores coringas pelo valor mínimo)"
   ]
  },
  {
   "cell_type": "code",
   "execution_count": 77,
   "id": "b6cb1a7b",
   "metadata": {},
   "outputs": [],
   "source": [
    "# Ajustamos o conteúdo da coluna\n",
    "arr_numeric[:,2] = np.where(arr_numeric[:,2] == valor_coringa, arr_stats[0, colunas_numericas[2]], arr_numeric[:,2])"
   ]
  },
  {
   "cell_type": "markdown",
   "id": "bed7dbd2",
   "metadata": {},
   "source": [
    "### Pré-Processamento das Variáveis loan_amnt, int_rate, installment e total_pymnt \n",
    "#### (substituindo todos os valores coringas pelo valor máximo)"
   ]
  },
  {
   "cell_type": "code",
   "execution_count": 78,
   "id": "9e603917",
   "metadata": {},
   "outputs": [],
   "source": [
    "# Loop para substituir o valor ausente (valor_coringa) pelos valores do array de estatísticas\n",
    "for i in [1,3,4,5]:\n",
    "    arr_numeric[:,i] = np.where(arr_numeric[:,i] == valor_coringa, \n",
    "                                arr_stats[2, colunas_numericas[i]], \n",
    "                                arr_numeric[:,i])"
   ]
  },
  {
   "cell_type": "code",
   "execution_count": 79,
   "id": "6b90c245",
   "metadata": {},
   "outputs": [
    {
     "name": "stdout",
     "output_type": "stream",
     "text": [
      "[[48010226.      35000.      35000.         13.33     1184.86     9452.96]\n",
      " [57693261.      30000.      30000.         28.99      938.57     4679.7 ]\n",
      " [59432726.      15000.      15000.         28.99      494.86     1969.83]\n",
      " ...\n",
      " [50415990.      10000.      10000.         28.99     1372.97     2185.64]\n",
      " [46154151.      35000.      10000.         16.55      354.3      3199.4 ]\n",
      " [66055249.      10000.      10000.         28.99      309.97      301.9 ]]\n"
     ]
    }
   ],
   "source": [
    "# Visualizando dados numéricos\n",
    "\n",
    "print(arr_numeric)"
   ]
  },
  {
   "cell_type": "markdown",
   "id": "04f1b686",
   "metadata": {},
   "source": [
    "# Carregando o segundo Dataset"
   ]
  },
  {
   "cell_type": "markdown",
   "id": "2a0e4933",
   "metadata": {},
   "source": [
    "####  Este dataset contém a taxa de câmbio de dólar para euro. Cada coluna representa uma taxa de cambio de abertura (Open) a fechamento (Close)\n",
    "#### Vamos usar a coluna Close\n",
    "\n",
    "#### Iremos pegar estes dados, casar com os dados que estão em dólar, fazer os ajustes e preparar novas colunas.\n",
    "\n",
    "#### Vamos carregar os dados de cotação USD - EURO. Cada linha do dataset corresponde à taxa de câmbio para um mês em um ano."
   ]
  },
  {
   "cell_type": "code",
   "execution_count": 80,
   "id": "059d0376",
   "metadata": {},
   "outputs": [],
   "source": [
    "# Carrega o segundo dataset\n",
    "dados_cot = np.genfromtxt(\"datasets/dataset2.csv\", \n",
    "                          delimiter = ',', \n",
    "                          autostrip = True, \n",
    "                          skip_header = 1, \n",
    "                          usecols = 3)"
   ]
  },
  {
   "cell_type": "code",
   "execution_count": 81,
   "id": "acfb8c09",
   "metadata": {},
   "outputs": [
    {
     "name": "stdout",
     "output_type": "stream",
     "text": [
      "[1.13 1.12 1.08 1.11 1.1  1.12 1.09 1.13 1.13 1.1  1.06 1.09]\n"
     ]
    }
   ],
   "source": [
    "# Visualiza\n",
    "print(dados_cot)"
   ]
  },
  {
   "cell_type": "code",
   "execution_count": 82,
   "id": "a0f6e07f",
   "metadata": {},
   "outputs": [
    {
     "data": {
      "text/html": [
       "<div>\n",
       "<style scoped>\n",
       "    .dataframe tbody tr th:only-of-type {\n",
       "        vertical-align: middle;\n",
       "    }\n",
       "\n",
       "    .dataframe tbody tr th {\n",
       "        vertical-align: top;\n",
       "    }\n",
       "\n",
       "    .dataframe thead th {\n",
       "        text-align: right;\n",
       "    }\n",
       "</style>\n",
       "<table border=\"1\" class=\"dataframe\">\n",
       "  <thead>\n",
       "    <tr style=\"text-align: right;\">\n",
       "      <th></th>\n",
       "      <th>0</th>\n",
       "    </tr>\n",
       "  </thead>\n",
       "  <tbody>\n",
       "    <tr>\n",
       "      <th>0</th>\n",
       "      <td>1.128796</td>\n",
       "    </tr>\n",
       "    <tr>\n",
       "      <th>1</th>\n",
       "      <td>1.120536</td>\n",
       "    </tr>\n",
       "    <tr>\n",
       "      <th>2</th>\n",
       "      <td>1.083025</td>\n",
       "    </tr>\n",
       "    <tr>\n",
       "      <th>3</th>\n",
       "      <td>1.111432</td>\n",
       "    </tr>\n",
       "    <tr>\n",
       "      <th>4</th>\n",
       "      <td>1.096035</td>\n",
       "    </tr>\n",
       "    <tr>\n",
       "      <th>5</th>\n",
       "      <td>1.122297</td>\n",
       "    </tr>\n",
       "    <tr>\n",
       "      <th>6</th>\n",
       "      <td>1.093924</td>\n",
       "    </tr>\n",
       "    <tr>\n",
       "      <th>7</th>\n",
       "      <td>1.134005</td>\n",
       "    </tr>\n",
       "    <tr>\n",
       "      <th>8</th>\n",
       "      <td>1.125594</td>\n",
       "    </tr>\n",
       "    <tr>\n",
       "      <th>9</th>\n",
       "      <td>1.100897</td>\n",
       "    </tr>\n",
       "    <tr>\n",
       "      <th>10</th>\n",
       "      <td>1.058302</td>\n",
       "    </tr>\n",
       "    <tr>\n",
       "      <th>11</th>\n",
       "      <td>1.093398</td>\n",
       "    </tr>\n",
       "  </tbody>\n",
       "</table>\n",
       "</div>"
      ],
      "text/plain": [
       "           0\n",
       "0   1.128796\n",
       "1   1.120536\n",
       "2   1.083025\n",
       "3   1.111432\n",
       "4   1.096035\n",
       "5   1.122297\n",
       "6   1.093924\n",
       "7   1.134005\n",
       "8   1.125594\n",
       "9   1.100897\n",
       "10  1.058302\n",
       "11  1.093398"
      ]
     },
     "execution_count": 82,
     "metadata": {},
     "output_type": "execute_result"
    }
   ],
   "source": [
    "# Convertendo o dataset para um DataFrame do Pandas 2 (visualizando dados carregados como string)\n",
    "df_dados_cot = pd.DataFrame(dados_cot)\n",
    "\n",
    "# Exibindo o DataFrame\n",
    "df_dados_cot"
   ]
  },
  {
   "cell_type": "code",
   "execution_count": 83,
   "id": "79343b73",
   "metadata": {},
   "outputs": [
    {
     "data": {
      "text/plain": [
       "array([[ 5,  1, 36, 13,  1,  1],\n",
       "       [ 0,  1, 36,  5,  1,  4],\n",
       "       [ 9,  1, 36, 10,  1,  4],\n",
       "       ...,\n",
       "       [ 6,  1, 36,  5,  1,  1],\n",
       "       [ 4,  1, 36, 17,  1,  3],\n",
       "       [12,  1, 36,  4,  0,  3]])"
      ]
     },
     "execution_count": 83,
     "metadata": {},
     "output_type": "execute_result"
    }
   ],
   "source": [
    "# Visualizando o array de colunas string (que neste momento já está processado com todos valores numéricos)\n",
    "\n",
    "arr_strings"
   ]
  },
  {
   "cell_type": "code",
   "execution_count": 84,
   "id": "46033f53",
   "metadata": {},
   "outputs": [
    {
     "data": {
      "text/plain": [
       "array([ 5,  0,  9, ...,  6,  4, 12])"
      ]
     },
     "execution_count": 84,
     "metadata": {},
     "output_type": "execute_result"
    }
   ],
   "source": [
    "# Re-lembrando que a coluna 0 é o mês (issue_date)\n",
    "arr_strings[:, 0]"
   ]
  },
  {
   "cell_type": "code",
   "execution_count": 85,
   "id": "dc55e3cc",
   "metadata": {},
   "outputs": [],
   "source": [
    "# Vamos atribuir valores da coluna 0 a um novo objeto\n",
    "exchange_rate = arr_strings[:, 0]"
   ]
  },
  {
   "cell_type": "code",
   "execution_count": 86,
   "id": "8d3fd1e3",
   "metadata": {},
   "outputs": [],
   "source": [
    "# Precisamos agorar casar o mês (issue_date, dataset1) com a taxa de câmbio daquele mês (dataset2)\n",
    "\n",
    "# O código itera sobre a coluna issue_date (que contém os meses) do primeiro dataset.\n",
    "# Para cada valor dessa coluna (cada mês), ele busca a taxa de câmbio correspondente no array dados_cot\n",
    "# (que já contém as taxas de câmbio para cada mês) e atribui essa taxa a um novo array, baseando-se na posição\n",
    "# que corresponde ao mês (ajustado pelo fato de que os meses começam do índice 0 em Python).\n",
    "\n",
    "# Loop para preencher a variável exchange_rate com a taxa correspondente ao mês\n",
    "# Usamos dados_cot[i - 1] devido a forma como carregamos os meses para comportar o zero\n",
    "for i in range(1,13):\n",
    "    exchange_rate = np.where(exchange_rate == i, dados_cot[i - 1], exchange_rate)    "
   ]
  },
  {
   "cell_type": "code",
   "execution_count": 87,
   "id": "b996fa01",
   "metadata": {},
   "outputs": [
    {
     "data": {
      "text/plain": [
       "array([1.1 , 0.  , 1.13, ..., 1.12, 1.11, 1.09])"
      ]
     },
     "execution_count": 87,
     "metadata": {},
     "output_type": "execute_result"
    }
   ],
   "source": [
    "exchange_rate"
   ]
  },
  {
   "cell_type": "code",
   "execution_count": 88,
   "id": "1a54049b",
   "metadata": {},
   "outputs": [
    {
     "data": {
      "text/html": [
       "<div>\n",
       "<style scoped>\n",
       "    .dataframe tbody tr th:only-of-type {\n",
       "        vertical-align: middle;\n",
       "    }\n",
       "\n",
       "    .dataframe tbody tr th {\n",
       "        vertical-align: top;\n",
       "    }\n",
       "\n",
       "    .dataframe thead th {\n",
       "        text-align: right;\n",
       "    }\n",
       "</style>\n",
       "<table border=\"1\" class=\"dataframe\">\n",
       "  <thead>\n",
       "    <tr style=\"text-align: right;\">\n",
       "      <th></th>\n",
       "      <th>0</th>\n",
       "    </tr>\n",
       "  </thead>\n",
       "  <tbody>\n",
       "    <tr>\n",
       "      <th>0</th>\n",
       "      <td>1.096035</td>\n",
       "    </tr>\n",
       "    <tr>\n",
       "      <th>1</th>\n",
       "      <td>0.000000</td>\n",
       "    </tr>\n",
       "    <tr>\n",
       "      <th>2</th>\n",
       "      <td>1.125594</td>\n",
       "    </tr>\n",
       "    <tr>\n",
       "      <th>3</th>\n",
       "      <td>1.093924</td>\n",
       "    </tr>\n",
       "    <tr>\n",
       "      <th>4</th>\n",
       "      <td>1.134005</td>\n",
       "    </tr>\n",
       "    <tr>\n",
       "      <th>...</th>\n",
       "      <td>...</td>\n",
       "    </tr>\n",
       "    <tr>\n",
       "      <th>9995</th>\n",
       "      <td>1.083025</td>\n",
       "    </tr>\n",
       "    <tr>\n",
       "      <th>9996</th>\n",
       "      <td>1.111432</td>\n",
       "    </tr>\n",
       "    <tr>\n",
       "      <th>9997</th>\n",
       "      <td>1.122297</td>\n",
       "    </tr>\n",
       "    <tr>\n",
       "      <th>9998</th>\n",
       "      <td>1.111432</td>\n",
       "    </tr>\n",
       "    <tr>\n",
       "      <th>9999</th>\n",
       "      <td>1.093398</td>\n",
       "    </tr>\n",
       "  </tbody>\n",
       "</table>\n",
       "<p>10000 rows × 1 columns</p>\n",
       "</div>"
      ],
      "text/plain": [
       "             0\n",
       "0     1.096035\n",
       "1     0.000000\n",
       "2     1.125594\n",
       "3     1.093924\n",
       "4     1.134005\n",
       "...        ...\n",
       "9995  1.083025\n",
       "9996  1.111432\n",
       "9997  1.122297\n",
       "9998  1.111432\n",
       "9999  1.093398\n",
       "\n",
       "[10000 rows x 1 columns]"
      ]
     },
     "execution_count": 88,
     "metadata": {},
     "output_type": "execute_result"
    }
   ],
   "source": [
    "# Convertendo o dataset para um DataFrame do Pandas 2 (visualizando dados carregados como string)\n",
    "df_exchange_rate = pd.DataFrame(exchange_rate)\n",
    "df_exchange_rate"
   ]
  },
  {
   "cell_type": "code",
   "execution_count": 89,
   "id": "a5de39f5",
   "metadata": {},
   "outputs": [],
   "source": [
    "# Onde a taxa de câmbio estiver com zero substituímos pela média\n",
    "exchange_rate = np.where(exchange_rate == 0, np.mean(dados_cot), exchange_rate)"
   ]
  },
  {
   "cell_type": "code",
   "execution_count": 90,
   "id": "572732ef",
   "metadata": {},
   "outputs": [
    {
     "data": {
      "text/html": [
       "<div>\n",
       "<style scoped>\n",
       "    .dataframe tbody tr th:only-of-type {\n",
       "        vertical-align: middle;\n",
       "    }\n",
       "\n",
       "    .dataframe tbody tr th {\n",
       "        vertical-align: top;\n",
       "    }\n",
       "\n",
       "    .dataframe thead th {\n",
       "        text-align: right;\n",
       "    }\n",
       "</style>\n",
       "<table border=\"1\" class=\"dataframe\">\n",
       "  <thead>\n",
       "    <tr style=\"text-align: right;\">\n",
       "      <th></th>\n",
       "      <th>0</th>\n",
       "    </tr>\n",
       "  </thead>\n",
       "  <tbody>\n",
       "    <tr>\n",
       "      <th>0</th>\n",
       "      <td>1.096035</td>\n",
       "    </tr>\n",
       "    <tr>\n",
       "      <th>1</th>\n",
       "      <td>1.105687</td>\n",
       "    </tr>\n",
       "    <tr>\n",
       "      <th>2</th>\n",
       "      <td>1.125594</td>\n",
       "    </tr>\n",
       "    <tr>\n",
       "      <th>3</th>\n",
       "      <td>1.093924</td>\n",
       "    </tr>\n",
       "    <tr>\n",
       "      <th>4</th>\n",
       "      <td>1.134005</td>\n",
       "    </tr>\n",
       "    <tr>\n",
       "      <th>...</th>\n",
       "      <td>...</td>\n",
       "    </tr>\n",
       "    <tr>\n",
       "      <th>9995</th>\n",
       "      <td>1.083025</td>\n",
       "    </tr>\n",
       "    <tr>\n",
       "      <th>9996</th>\n",
       "      <td>1.111432</td>\n",
       "    </tr>\n",
       "    <tr>\n",
       "      <th>9997</th>\n",
       "      <td>1.122297</td>\n",
       "    </tr>\n",
       "    <tr>\n",
       "      <th>9998</th>\n",
       "      <td>1.111432</td>\n",
       "    </tr>\n",
       "    <tr>\n",
       "      <th>9999</th>\n",
       "      <td>1.093398</td>\n",
       "    </tr>\n",
       "  </tbody>\n",
       "</table>\n",
       "<p>10000 rows × 1 columns</p>\n",
       "</div>"
      ],
      "text/plain": [
       "             0\n",
       "0     1.096035\n",
       "1     1.105687\n",
       "2     1.125594\n",
       "3     1.093924\n",
       "4     1.134005\n",
       "...        ...\n",
       "9995  1.083025\n",
       "9996  1.111432\n",
       "9997  1.122297\n",
       "9998  1.111432\n",
       "9999  1.093398\n",
       "\n",
       "[10000 rows x 1 columns]"
      ]
     },
     "execution_count": 90,
     "metadata": {},
     "output_type": "execute_result"
    }
   ],
   "source": [
    "# Convertendo o dataset para um DataFrame do Pandas 2 (visualizando dados carregados como string)\n",
    "df_exchange_rate = pd.DataFrame(exchange_rate)\n",
    "df_exchange_rate"
   ]
  },
  {
   "cell_type": "markdown",
   "id": "87facb10",
   "metadata": {},
   "source": [
    "#### Casando valores de exchange_rate para nosso array de colunas numéricas"
   ]
  },
  {
   "cell_type": "code",
   "execution_count": 91,
   "id": "323195a6",
   "metadata": {},
   "outputs": [
    {
     "name": "stdout",
     "output_type": "stream",
     "text": [
      "[[1.1 ]\n",
      " [1.11]\n",
      " [1.13]\n",
      " ...\n",
      " [1.12]\n",
      " [1.11]\n",
      " [1.09]]\n"
     ]
    }
   ],
   "source": [
    "# Realizando Re-Shape necessário para concatenar os arrays\n",
    "exchange_rate = np.reshape(exchange_rate, (10000,1))\n",
    "print(exchange_rate)"
   ]
  },
  {
   "cell_type": "code",
   "execution_count": 92,
   "id": "9946f691",
   "metadata": {},
   "outputs": [],
   "source": [
    "# Concatenação dos arrays\n",
    "arr_numeric = np.hstack((arr_numeric, exchange_rate))"
   ]
  },
  {
   "cell_type": "code",
   "execution_count": 93,
   "id": "1a6c37cd",
   "metadata": {},
   "outputs": [],
   "source": [
    "# Inclui o nome da coluna no array de nomes de colunas\n",
    "header_numeric = np.concatenate((header_numeric, np.array(['exchange_rate'])))"
   ]
  },
  {
   "cell_type": "code",
   "execution_count": 94,
   "id": "b39b5f92",
   "metadata": {},
   "outputs": [
    {
     "data": {
      "text/plain": [
       "array(['id', 'loan_amnt', 'funded_amnt', 'int_rate', 'installment', 'total_pymnt', 'exchange_rate'], dtype='<U19')"
      ]
     },
     "execution_count": 94,
     "metadata": {},
     "output_type": "execute_result"
    }
   ],
   "source": [
    "header_numeric"
   ]
  },
  {
   "cell_type": "markdown",
   "id": "4441144d",
   "metadata": {},
   "source": [
    "### Criando colunas para as taxas de câmbio em USD e EURO."
   ]
  },
  {
   "cell_type": "code",
   "execution_count": 95,
   "id": "963e68ff",
   "metadata": {},
   "outputs": [
    {
     "data": {
      "text/plain": [
       "array([1, 2, 4, 5])"
      ]
     },
     "execution_count": 95,
     "metadata": {},
     "output_type": "execute_result"
    }
   ],
   "source": [
    "# Selecionando colunas que contém valores numéricos que estão em dólar (selecionando colunas 1, 2, 4 e 5)\n",
    "# Colunas em USD\n",
    "columns_dollar = np.array([1,2,4,5])\n",
    "columns_dollar"
   ]
  },
  {
   "cell_type": "markdown",
   "id": "75961bf8",
   "metadata": {},
   "source": [
    "#### Agora vamos criar 4 novas colunas onde pegaremos as colunas numéricas em dólares e iremos converter o valor para EURO"
   ]
  },
  {
   "cell_type": "code",
   "execution_count": 96,
   "id": "ebe720b0",
   "metadata": {},
   "outputs": [
    {
     "data": {
      "text/plain": [
       "(10000, 7)"
      ]
     },
     "execution_count": 96,
     "metadata": {},
     "output_type": "execute_result"
    }
   ],
   "source": [
    "# Verificando shape\n",
    "arr_numeric.shape"
   ]
  },
  {
   "cell_type": "code",
   "execution_count": 97,
   "id": "0ef7b71e",
   "metadata": {},
   "outputs": [],
   "source": [
    "# Loop pelas colunas USD para aplicar e criar novas colunas com a taxa de conversão para EURO\n",
    "for i in columns_dollar:\n",
    "    arr_numeric = np.hstack((arr_numeric, np.reshape(arr_numeric[:,i] / arr_numeric[:,6], (10000,1))))"
   ]
  },
  {
   "cell_type": "code",
   "execution_count": 98,
   "id": "d4a6a50e",
   "metadata": {},
   "outputs": [
    {
     "data": {
      "text/plain": [
       "(10000, 11)"
      ]
     },
     "execution_count": 98,
     "metadata": {},
     "output_type": "execute_result"
    }
   ],
   "source": [
    "# Verificando novamente shape\n",
    "arr_numeric.shape"
   ]
  },
  {
   "cell_type": "code",
   "execution_count": 99,
   "id": "3b9c317f",
   "metadata": {},
   "outputs": [
    {
     "data": {
      "text/plain": [
       "array(['loan_amnt_EUR', 'funded_amnt_EUR', 'installment_EUR', 'total_pymnt_EUR'], dtype='<U15')"
      ]
     },
     "execution_count": 99,
     "metadata": {},
     "output_type": "execute_result"
    }
   ],
   "source": [
    "# Criando um novo objeto contendo o ajuste com o nome das novas colunas\n",
    "header_additional = np.array([column_name + '_EUR' for column_name in header_numeric[columns_dollar]])\n",
    "header_additional"
   ]
  },
  {
   "cell_type": "code",
   "execution_count": 100,
   "id": "69a6e761",
   "metadata": {},
   "outputs": [
    {
     "data": {
      "text/plain": [
       "array(['id', 'loan_amnt', 'funded_amnt', 'int_rate', 'installment', 'total_pymnt', 'exchange_rate', 'loan_amnt_EUR', 'funded_amnt_EUR', 'installment_EUR', 'total_pymnt_EUR'], dtype='<U19')"
      ]
     },
     "execution_count": 100,
     "metadata": {},
     "output_type": "execute_result"
    }
   ],
   "source": [
    "# Concatenando novo objeto contendo o ajuste com novo das novas colunas com o atual\n",
    "header_numeric = np.concatenate((header_numeric, header_additional))\n",
    "header_numeric"
   ]
  },
  {
   "cell_type": "code",
   "execution_count": 101,
   "id": "00ad3e43",
   "metadata": {},
   "outputs": [
    {
     "data": {
      "text/plain": [
       "array(['id', 'loan_amnt_USD', 'funded_amnt_USD', 'int_rate', 'installment_USD', 'total_pymnt_USD', 'exchange_rate', 'loan_amnt_EUR', 'funded_amnt_EUR', 'installment_EUR', 'total_pymnt_EUR'],\n",
       "      dtype='<U19')"
      ]
     },
     "execution_count": 101,
     "metadata": {},
     "output_type": "execute_result"
    }
   ],
   "source": [
    "# Modificando nome das colunas originais para espeficiar que é Dólar (e ficar igual as novas colunas que tem EURO)\n",
    "header_numeric[columns_dollar] = np.array([column_name + '_USD' for column_name in header_numeric[columns_dollar]])\n",
    "header_numeric"
   ]
  },
  {
   "cell_type": "code",
   "execution_count": 102,
   "id": "d4799b09",
   "metadata": {},
   "outputs": [
    {
     "data": {
      "text/plain": [
       "array(['id', 'loan_amnt_USD', 'loan_amnt_EUR', 'funded_amnt_USD', 'funded_amnt_EUR', 'int_rate', 'installment_USD', 'installment_EUR', 'total_pymnt_USD', 'total_pymnt_EUR', 'exchange_rate'],\n",
       "      dtype='<U19')"
      ]
     },
     "execution_count": 102,
     "metadata": {},
     "output_type": "execute_result"
    }
   ],
   "source": [
    "# Ordenando o Array com Nome das Colunas\n",
    "columns_index_order = [0,1,7,2,8,3,4,9,5,10,6]\n",
    "header_numeric = header_numeric[columns_index_order]\n",
    "header_numeric"
   ]
  },
  {
   "cell_type": "code",
   "execution_count": 103,
   "id": "213bc190",
   "metadata": {},
   "outputs": [
    {
     "data": {
      "text/plain": [
       "array([[48010226.  ,    35000.  ,    31933.3 , ...,     9452.96,     8624.69,        1.1 ],\n",
       "       [57693261.  ,    30000.  ,    27132.46, ...,     4679.7 ,     4232.39,        1.11],\n",
       "       [59432726.  ,    15000.  ,    13326.3 , ...,     1969.83,     1750.04,        1.13],\n",
       "       ...,\n",
       "       [50415990.  ,    10000.  ,     8910.3 , ...,     2185.64,     1947.47,        1.12],\n",
       "       [46154151.  ,    35000.  ,    31490.9 , ...,     3199.4 ,     2878.63,        1.11],\n",
       "       [66055249.  ,    10000.  ,     9145.8 , ...,      301.9 ,      276.11,        1.09]])"
      ]
     },
     "execution_count": 103,
     "metadata": {},
     "output_type": "execute_result"
    }
   ],
   "source": [
    "# Ordenando o Array com dados numéricos igual ao Arra com Nome das Colunas\n",
    "arr_numeric = arr_numeric[:,columns_index_order]\n",
    "arr_numeric"
   ]
  },
  {
   "cell_type": "markdown",
   "id": "de2efc48",
   "metadata": {},
   "source": [
    "### Pré-Processamento da Variável int_rate (convertendo valor por 100)"
   ]
  },
  {
   "cell_type": "code",
   "execution_count": 104,
   "id": "448571aa",
   "metadata": {},
   "outputs": [
    {
     "data": {
      "text/plain": [
       "array(['id', 'loan_amnt_USD', 'loan_amnt_EUR', 'funded_amnt_USD', 'funded_amnt_EUR', 'int_rate', 'installment_USD', 'installment_EUR', 'total_pymnt_USD', 'total_pymnt_EUR', 'exchange_rate'],\n",
       "      dtype='<U19')"
      ]
     },
     "execution_count": 104,
     "metadata": {},
     "output_type": "execute_result"
    }
   ],
   "source": [
    "# Verificando posicao da variável (5)\n",
    "header_numeric"
   ]
  },
  {
   "cell_type": "code",
   "execution_count": 105,
   "id": "259380b9",
   "metadata": {},
   "outputs": [
    {
     "data": {
      "text/plain": [
       "array([0.13, 0.29, 0.29, ..., 0.29, 0.17, 0.29])"
      ]
     },
     "execution_count": 105,
     "metadata": {},
     "output_type": "execute_result"
    }
   ],
   "source": [
    "# Aplicando conversão (vamos apenas dividir por 100)\n",
    "arr_numeric[:,5] = arr_numeric[:,5] / 100\n",
    "\n",
    "arr_numeric[:, 5]"
   ]
  },
  {
   "cell_type": "code",
   "execution_count": 106,
   "id": "f2d864f0",
   "metadata": {},
   "outputs": [
    {
     "data": {
      "text/html": [
       "<div>\n",
       "<style scoped>\n",
       "    .dataframe tbody tr th:only-of-type {\n",
       "        vertical-align: middle;\n",
       "    }\n",
       "\n",
       "    .dataframe tbody tr th {\n",
       "        vertical-align: top;\n",
       "    }\n",
       "\n",
       "    .dataframe thead th {\n",
       "        text-align: right;\n",
       "    }\n",
       "</style>\n",
       "<table border=\"1\" class=\"dataframe\">\n",
       "  <thead>\n",
       "    <tr style=\"text-align: right;\">\n",
       "      <th></th>\n",
       "      <th>0</th>\n",
       "      <th>1</th>\n",
       "      <th>2</th>\n",
       "      <th>3</th>\n",
       "      <th>4</th>\n",
       "      <th>5</th>\n",
       "      <th>6</th>\n",
       "      <th>7</th>\n",
       "      <th>8</th>\n",
       "      <th>9</th>\n",
       "      <th>10</th>\n",
       "    </tr>\n",
       "  </thead>\n",
       "  <tbody>\n",
       "    <tr>\n",
       "      <th>0</th>\n",
       "      <td>48010226.0</td>\n",
       "      <td>35000.0</td>\n",
       "      <td>31933.300588</td>\n",
       "      <td>35000.0</td>\n",
       "      <td>31933.300588</td>\n",
       "      <td>0.1333</td>\n",
       "      <td>1184.86</td>\n",
       "      <td>1081.042587</td>\n",
       "      <td>9452.96</td>\n",
       "      <td>8624.691804</td>\n",
       "      <td>1.096035</td>\n",
       "    </tr>\n",
       "    <tr>\n",
       "      <th>1</th>\n",
       "      <td>57693261.0</td>\n",
       "      <td>30000.0</td>\n",
       "      <td>27132.459993</td>\n",
       "      <td>30000.0</td>\n",
       "      <td>27132.459993</td>\n",
       "      <td>0.2899</td>\n",
       "      <td>938.57</td>\n",
       "      <td>848.857099</td>\n",
       "      <td>4679.70</td>\n",
       "      <td>4232.392434</td>\n",
       "      <td>1.105687</td>\n",
       "    </tr>\n",
       "    <tr>\n",
       "      <th>2</th>\n",
       "      <td>59432726.0</td>\n",
       "      <td>15000.0</td>\n",
       "      <td>13326.299636</td>\n",
       "      <td>15000.0</td>\n",
       "      <td>13326.299636</td>\n",
       "      <td>0.2899</td>\n",
       "      <td>494.86</td>\n",
       "      <td>439.643509</td>\n",
       "      <td>1969.83</td>\n",
       "      <td>1750.036321</td>\n",
       "      <td>1.125594</td>\n",
       "    </tr>\n",
       "    <tr>\n",
       "      <th>3</th>\n",
       "      <td>53222800.0</td>\n",
       "      <td>9600.0</td>\n",
       "      <td>8775.743527</td>\n",
       "      <td>9600.0</td>\n",
       "      <td>8775.743527</td>\n",
       "      <td>0.2899</td>\n",
       "      <td>300.35</td>\n",
       "      <td>274.561934</td>\n",
       "      <td>1793.68</td>\n",
       "      <td>1639.674547</td>\n",
       "      <td>1.093924</td>\n",
       "    </tr>\n",
       "    <tr>\n",
       "      <th>4</th>\n",
       "      <td>57803010.0</td>\n",
       "      <td>8075.0</td>\n",
       "      <td>7120.777207</td>\n",
       "      <td>8075.0</td>\n",
       "      <td>7120.777207</td>\n",
       "      <td>0.1919</td>\n",
       "      <td>296.78</td>\n",
       "      <td>261.709506</td>\n",
       "      <td>1178.51</td>\n",
       "      <td>1039.245467</td>\n",
       "      <td>1.134005</td>\n",
       "    </tr>\n",
       "    <tr>\n",
       "      <th>...</th>\n",
       "      <td>...</td>\n",
       "      <td>...</td>\n",
       "      <td>...</td>\n",
       "      <td>...</td>\n",
       "      <td>...</td>\n",
       "      <td>...</td>\n",
       "      <td>...</td>\n",
       "      <td>...</td>\n",
       "      <td>...</td>\n",
       "      <td>...</td>\n",
       "      <td>...</td>\n",
       "    </tr>\n",
       "    <tr>\n",
       "      <th>9995</th>\n",
       "      <td>42974433.0</td>\n",
       "      <td>18000.0</td>\n",
       "      <td>16620.120772</td>\n",
       "      <td>18000.0</td>\n",
       "      <td>16620.120772</td>\n",
       "      <td>0.2899</td>\n",
       "      <td>565.56</td>\n",
       "      <td>522.204195</td>\n",
       "      <td>5639.24</td>\n",
       "      <td>5206.936103</td>\n",
       "      <td>1.083025</td>\n",
       "    </tr>\n",
       "    <tr>\n",
       "      <th>9996</th>\n",
       "      <td>45424654.0</td>\n",
       "      <td>11300.0</td>\n",
       "      <td>10167.061971</td>\n",
       "      <td>11300.0</td>\n",
       "      <td>10167.061971</td>\n",
       "      <td>0.2899</td>\n",
       "      <td>364.57</td>\n",
       "      <td>328.018211</td>\n",
       "      <td>3274.86</td>\n",
       "      <td>2946.522528</td>\n",
       "      <td>1.111432</td>\n",
       "    </tr>\n",
       "    <tr>\n",
       "      <th>9997</th>\n",
       "      <td>50415990.0</td>\n",
       "      <td>10000.0</td>\n",
       "      <td>8910.299817</td>\n",
       "      <td>10000.0</td>\n",
       "      <td>8910.299817</td>\n",
       "      <td>0.2899</td>\n",
       "      <td>1372.97</td>\n",
       "      <td>1223.357434</td>\n",
       "      <td>2185.64</td>\n",
       "      <td>1947.470769</td>\n",
       "      <td>1.122297</td>\n",
       "    </tr>\n",
       "    <tr>\n",
       "      <th>9998</th>\n",
       "      <td>46154151.0</td>\n",
       "      <td>35000.0</td>\n",
       "      <td>31490.899910</td>\n",
       "      <td>10000.0</td>\n",
       "      <td>8997.399974</td>\n",
       "      <td>0.1655</td>\n",
       "      <td>354.30</td>\n",
       "      <td>318.777881</td>\n",
       "      <td>3199.40</td>\n",
       "      <td>2878.628148</td>\n",
       "      <td>1.111432</td>\n",
       "    </tr>\n",
       "    <tr>\n",
       "      <th>9999</th>\n",
       "      <td>66055249.0</td>\n",
       "      <td>10000.0</td>\n",
       "      <td>9145.799735</td>\n",
       "      <td>10000.0</td>\n",
       "      <td>9145.799735</td>\n",
       "      <td>0.2899</td>\n",
       "      <td>309.97</td>\n",
       "      <td>283.492354</td>\n",
       "      <td>301.90</td>\n",
       "      <td>276.111694</td>\n",
       "      <td>1.093398</td>\n",
       "    </tr>\n",
       "  </tbody>\n",
       "</table>\n",
       "<p>10000 rows × 11 columns</p>\n",
       "</div>"
      ],
      "text/plain": [
       "              0        1             2        3             4       5   \\\n",
       "0     48010226.0  35000.0  31933.300588  35000.0  31933.300588  0.1333   \n",
       "1     57693261.0  30000.0  27132.459993  30000.0  27132.459993  0.2899   \n",
       "2     59432726.0  15000.0  13326.299636  15000.0  13326.299636  0.2899   \n",
       "3     53222800.0   9600.0   8775.743527   9600.0   8775.743527  0.2899   \n",
       "4     57803010.0   8075.0   7120.777207   8075.0   7120.777207  0.1919   \n",
       "...          ...      ...           ...      ...           ...     ...   \n",
       "9995  42974433.0  18000.0  16620.120772  18000.0  16620.120772  0.2899   \n",
       "9996  45424654.0  11300.0  10167.061971  11300.0  10167.061971  0.2899   \n",
       "9997  50415990.0  10000.0   8910.299817  10000.0   8910.299817  0.2899   \n",
       "9998  46154151.0  35000.0  31490.899910  10000.0   8997.399974  0.1655   \n",
       "9999  66055249.0  10000.0   9145.799735  10000.0   9145.799735  0.2899   \n",
       "\n",
       "           6            7        8            9         10  \n",
       "0     1184.86  1081.042587  9452.96  8624.691804  1.096035  \n",
       "1      938.57   848.857099  4679.70  4232.392434  1.105687  \n",
       "2      494.86   439.643509  1969.83  1750.036321  1.125594  \n",
       "3      300.35   274.561934  1793.68  1639.674547  1.093924  \n",
       "4      296.78   261.709506  1178.51  1039.245467  1.134005  \n",
       "...       ...          ...      ...          ...       ...  \n",
       "9995   565.56   522.204195  5639.24  5206.936103  1.083025  \n",
       "9996   364.57   328.018211  3274.86  2946.522528  1.111432  \n",
       "9997  1372.97  1223.357434  2185.64  1947.470769  1.122297  \n",
       "9998   354.30   318.777881  3199.40  2878.628148  1.111432  \n",
       "9999   309.97   283.492354   301.90   276.111694  1.093398  \n",
       "\n",
       "[10000 rows x 11 columns]"
      ]
     },
     "execution_count": 106,
     "metadata": {},
     "output_type": "execute_result"
    }
   ],
   "source": [
    "# Convertendo o dataset para um DataFrame do Pandas 2 (visualizando dados carregados como string)\n",
    "df_arr_numeric = pd.DataFrame(arr_numeric)\n",
    "df_arr_numeric"
   ]
  },
  {
   "cell_type": "markdown",
   "id": "357a280c",
   "metadata": {},
   "source": [
    "### Checkpoint com Variáveis Numéricas Limpas e Pré-Processadas\n",
    "#### Checkpoint 3"
   ]
  },
  {
   "cell_type": "code",
   "execution_count": 107,
   "id": "245f2167",
   "metadata": {},
   "outputs": [],
   "source": [
    "checkpoint_numeric = checkpoint(\"datasets/Checkpoint-Numeric\", header_numeric, arr_numeric)"
   ]
  },
  {
   "cell_type": "code",
   "execution_count": 108,
   "id": "5b17236a",
   "metadata": {},
   "outputs": [
    {
     "data": {
      "text/plain": [
       "(array(['id', 'loan_amnt_USD', 'loan_amnt_EUR', 'funded_amnt_USD', 'funded_amnt_EUR', 'int_rate', 'installment_USD', 'installment_EUR', 'total_pymnt_USD', 'total_pymnt_EUR', 'exchange_rate'],\n",
       "       dtype='<U19'),\n",
       " array([[48010226.  ,    35000.  ,    31933.3 , ...,     9452.96,     8624.69,        1.1 ],\n",
       "        [57693261.  ,    30000.  ,    27132.46, ...,     4679.7 ,     4232.39,        1.11],\n",
       "        [59432726.  ,    15000.  ,    13326.3 , ...,     1969.83,     1750.04,        1.13],\n",
       "        ...,\n",
       "        [50415990.  ,    10000.  ,     8910.3 , ...,     2185.64,     1947.47,        1.12],\n",
       "        [46154151.  ,    35000.  ,    31490.9 , ...,     3199.4 ,     2878.63,        1.11],\n",
       "        [66055249.  ,    10000.  ,     9145.8 , ...,      301.9 ,      276.11,        1.09]]))"
      ]
     },
     "execution_count": 108,
     "metadata": {},
     "output_type": "execute_result"
    }
   ],
   "source": [
    "checkpoint_numeric['header'], checkpoint_numeric['data']"
   ]
  },
  {
   "cell_type": "markdown",
   "id": "25c96e12",
   "metadata": {},
   "source": [
    "# Construindo o Dataset Final"
   ]
  },
  {
   "cell_type": "code",
   "execution_count": 109,
   "id": "0b39065e",
   "metadata": {},
   "outputs": [
    {
     "data": {
      "text/plain": [
       "(10000, 6)"
      ]
     },
     "execution_count": 109,
     "metadata": {},
     "output_type": "execute_result"
    }
   ],
   "source": [
    "checkpoint_strings['data'].shape"
   ]
  },
  {
   "cell_type": "code",
   "execution_count": 110,
   "id": "db9aa4da",
   "metadata": {},
   "outputs": [
    {
     "data": {
      "text/plain": [
       "(10000, 11)"
      ]
     },
     "execution_count": 110,
     "metadata": {},
     "output_type": "execute_result"
    }
   ],
   "source": [
    "checkpoint_numeric['data'].shape"
   ]
  },
  {
   "cell_type": "code",
   "execution_count": 111,
   "id": "6cf40e99",
   "metadata": {},
   "outputs": [],
   "source": [
    "# Concatena os arrays\n",
    "df_final = np.hstack((checkpoint_numeric['data'], checkpoint_strings['data']))"
   ]
  },
  {
   "cell_type": "code",
   "execution_count": 112,
   "id": "7efdd780",
   "metadata": {},
   "outputs": [
    {
     "data": {
      "text/plain": [
       "array([[48010226.  ,    35000.  ,    31933.3 , ...,       13.  ,        1.  ,        1.  ],\n",
       "       [57693261.  ,    30000.  ,    27132.46, ...,        5.  ,        1.  ,        4.  ],\n",
       "       [59432726.  ,    15000.  ,    13326.3 , ...,       10.  ,        1.  ,        4.  ],\n",
       "       ...,\n",
       "       [50415990.  ,    10000.  ,     8910.3 , ...,        5.  ,        1.  ,        1.  ],\n",
       "       [46154151.  ,    35000.  ,    31490.9 , ...,       17.  ,        1.  ,        3.  ],\n",
       "       [66055249.  ,    10000.  ,     9145.8 , ...,        4.  ,        0.  ,        3.  ]])"
      ]
     },
     "execution_count": 112,
     "metadata": {},
     "output_type": "execute_result"
    }
   ],
   "source": [
    "df_final"
   ]
  },
  {
   "cell_type": "code",
   "execution_count": 113,
   "id": "7bc50220",
   "metadata": {},
   "outputs": [
    {
     "data": {
      "text/plain": [
       "0"
      ]
     },
     "execution_count": 113,
     "metadata": {},
     "output_type": "execute_result"
    }
   ],
   "source": [
    "# Verifica se tem valor ausente\n",
    "np.isnan(df_final).sum()"
   ]
  },
  {
   "cell_type": "code",
   "execution_count": 114,
   "id": "1a3ba15a",
   "metadata": {},
   "outputs": [],
   "source": [
    "# Concatena os arrays de nomes de colunas\n",
    "header_full = np.concatenate((checkpoint_numeric['header'], checkpoint_strings['header']))"
   ]
  },
  {
   "cell_type": "code",
   "execution_count": 115,
   "id": "37192b41",
   "metadata": {},
   "outputs": [],
   "source": [
    "# Ordenando o dataset\n",
    "df_final = df_final[np.argsort(df_final[:,0])]"
   ]
  },
  {
   "cell_type": "code",
   "execution_count": 116,
   "id": "ee728bba",
   "metadata": {},
   "outputs": [
    {
     "data": {
      "text/html": [
       "<div>\n",
       "<style scoped>\n",
       "    .dataframe tbody tr th:only-of-type {\n",
       "        vertical-align: middle;\n",
       "    }\n",
       "\n",
       "    .dataframe tbody tr th {\n",
       "        vertical-align: top;\n",
       "    }\n",
       "\n",
       "    .dataframe thead th {\n",
       "        text-align: right;\n",
       "    }\n",
       "</style>\n",
       "<table border=\"1\" class=\"dataframe\">\n",
       "  <thead>\n",
       "    <tr style=\"text-align: right;\">\n",
       "      <th></th>\n",
       "      <th>0</th>\n",
       "      <th>1</th>\n",
       "      <th>2</th>\n",
       "      <th>3</th>\n",
       "      <th>4</th>\n",
       "      <th>5</th>\n",
       "      <th>6</th>\n",
       "      <th>7</th>\n",
       "      <th>8</th>\n",
       "      <th>9</th>\n",
       "      <th>10</th>\n",
       "      <th>11</th>\n",
       "      <th>12</th>\n",
       "      <th>13</th>\n",
       "      <th>14</th>\n",
       "      <th>15</th>\n",
       "      <th>16</th>\n",
       "    </tr>\n",
       "  </thead>\n",
       "  <tbody>\n",
       "    <tr>\n",
       "      <th>0</th>\n",
       "      <td>373332.0</td>\n",
       "      <td>9950.0</td>\n",
       "      <td>9038.082814</td>\n",
       "      <td>1000.0</td>\n",
       "      <td>908.350032</td>\n",
       "      <td>0.1825</td>\n",
       "      <td>360.97</td>\n",
       "      <td>327.887111</td>\n",
       "      <td>1072.82</td>\n",
       "      <td>974.496081</td>\n",
       "      <td>1.100897</td>\n",
       "      <td>10.0</td>\n",
       "      <td>1.0</td>\n",
       "      <td>36.0</td>\n",
       "      <td>21.0</td>\n",
       "      <td>0.0</td>\n",
       "      <td>1.0</td>\n",
       "    </tr>\n",
       "    <tr>\n",
       "      <th>1</th>\n",
       "      <td>575239.0</td>\n",
       "      <td>12000.0</td>\n",
       "      <td>10900.200379</td>\n",
       "      <td>12000.0</td>\n",
       "      <td>10900.200379</td>\n",
       "      <td>0.2099</td>\n",
       "      <td>324.58</td>\n",
       "      <td>294.832253</td>\n",
       "      <td>959.75</td>\n",
       "      <td>871.788943</td>\n",
       "      <td>1.100897</td>\n",
       "      <td>10.0</td>\n",
       "      <td>1.0</td>\n",
       "      <td>60.0</td>\n",
       "      <td>25.0</td>\n",
       "      <td>1.0</td>\n",
       "      <td>2.0</td>\n",
       "    </tr>\n",
       "    <tr>\n",
       "      <th>2</th>\n",
       "      <td>707689.0</td>\n",
       "      <td>10000.0</td>\n",
       "      <td>8924.299805</td>\n",
       "      <td>10000.0</td>\n",
       "      <td>8924.299805</td>\n",
       "      <td>0.1366</td>\n",
       "      <td>340.13</td>\n",
       "      <td>303.542209</td>\n",
       "      <td>3726.25</td>\n",
       "      <td>3325.417215</td>\n",
       "      <td>1.120536</td>\n",
       "      <td>2.0</td>\n",
       "      <td>1.0</td>\n",
       "      <td>36.0</td>\n",
       "      <td>13.0</td>\n",
       "      <td>1.0</td>\n",
       "      <td>0.0</td>\n",
       "    </tr>\n",
       "    <tr>\n",
       "      <th>3</th>\n",
       "      <td>709828.0</td>\n",
       "      <td>27200.0</td>\n",
       "      <td>24707.120859</td>\n",
       "      <td>27200.0</td>\n",
       "      <td>24707.120859</td>\n",
       "      <td>0.2899</td>\n",
       "      <td>553.87</td>\n",
       "      <td>503.107832</td>\n",
       "      <td>41913.62</td>\n",
       "      <td>38072.238051</td>\n",
       "      <td>1.100897</td>\n",
       "      <td>10.0</td>\n",
       "      <td>1.0</td>\n",
       "      <td>60.0</td>\n",
       "      <td>6.0</td>\n",
       "      <td>0.0</td>\n",
       "      <td>4.0</td>\n",
       "    </tr>\n",
       "    <tr>\n",
       "      <th>4</th>\n",
       "      <td>849994.0</td>\n",
       "      <td>11400.0</td>\n",
       "      <td>10526.076489</td>\n",
       "      <td>11400.0</td>\n",
       "      <td>10526.076489</td>\n",
       "      <td>0.2899</td>\n",
       "      <td>376.09</td>\n",
       "      <td>347.258957</td>\n",
       "      <td>3753.60</td>\n",
       "      <td>3465.849185</td>\n",
       "      <td>1.083025</td>\n",
       "      <td>3.0</td>\n",
       "      <td>0.0</td>\n",
       "      <td>36.0</td>\n",
       "      <td>10.0</td>\n",
       "      <td>0.0</td>\n",
       "      <td>1.0</td>\n",
       "    </tr>\n",
       "    <tr>\n",
       "      <th>...</th>\n",
       "      <td>...</td>\n",
       "      <td>...</td>\n",
       "      <td>...</td>\n",
       "      <td>...</td>\n",
       "      <td>...</td>\n",
       "      <td>...</td>\n",
       "      <td>...</td>\n",
       "      <td>...</td>\n",
       "      <td>...</td>\n",
       "      <td>...</td>\n",
       "      <td>...</td>\n",
       "      <td>...</td>\n",
       "      <td>...</td>\n",
       "      <td>...</td>\n",
       "      <td>...</td>\n",
       "      <td>...</td>\n",
       "      <td>...</td>\n",
       "    </tr>\n",
       "    <tr>\n",
       "      <th>9995</th>\n",
       "      <td>68603178.0</td>\n",
       "      <td>14000.0</td>\n",
       "      <td>12804.119629</td>\n",
       "      <td>14000.0</td>\n",
       "      <td>12804.119629</td>\n",
       "      <td>0.2899</td>\n",
       "      <td>421.61</td>\n",
       "      <td>385.596063</td>\n",
       "      <td>41913.62</td>\n",
       "      <td>38333.357469</td>\n",
       "      <td>1.093398</td>\n",
       "      <td>12.0</td>\n",
       "      <td>1.0</td>\n",
       "      <td>36.0</td>\n",
       "      <td>1.0</td>\n",
       "      <td>0.0</td>\n",
       "      <td>1.0</td>\n",
       "    </tr>\n",
       "    <tr>\n",
       "      <th>9996</th>\n",
       "      <td>68604253.0</td>\n",
       "      <td>20000.0</td>\n",
       "      <td>18291.599470</td>\n",
       "      <td>20000.0</td>\n",
       "      <td>18291.599470</td>\n",
       "      <td>0.2899</td>\n",
       "      <td>631.26</td>\n",
       "      <td>577.337754</td>\n",
       "      <td>0.00</td>\n",
       "      <td>0.000000</td>\n",
       "      <td>1.093398</td>\n",
       "      <td>12.0</td>\n",
       "      <td>1.0</td>\n",
       "      <td>36.0</td>\n",
       "      <td>6.0</td>\n",
       "      <td>0.0</td>\n",
       "      <td>2.0</td>\n",
       "    </tr>\n",
       "    <tr>\n",
       "      <th>9997</th>\n",
       "      <td>68614880.0</td>\n",
       "      <td>5600.0</td>\n",
       "      <td>5121.647852</td>\n",
       "      <td>5600.0</td>\n",
       "      <td>5121.647852</td>\n",
       "      <td>0.2899</td>\n",
       "      <td>180.18</td>\n",
       "      <td>164.789020</td>\n",
       "      <td>0.00</td>\n",
       "      <td>0.000000</td>\n",
       "      <td>1.093398</td>\n",
       "      <td>12.0</td>\n",
       "      <td>1.0</td>\n",
       "      <td>36.0</td>\n",
       "      <td>8.0</td>\n",
       "      <td>1.0</td>\n",
       "      <td>1.0</td>\n",
       "    </tr>\n",
       "    <tr>\n",
       "      <th>9998</th>\n",
       "      <td>68615915.0</td>\n",
       "      <td>4000.0</td>\n",
       "      <td>3658.319894</td>\n",
       "      <td>4000.0</td>\n",
       "      <td>3658.319894</td>\n",
       "      <td>0.2899</td>\n",
       "      <td>131.87</td>\n",
       "      <td>120.605661</td>\n",
       "      <td>0.00</td>\n",
       "      <td>0.000000</td>\n",
       "      <td>1.093398</td>\n",
       "      <td>12.0</td>\n",
       "      <td>1.0</td>\n",
       "      <td>36.0</td>\n",
       "      <td>10.0</td>\n",
       "      <td>1.0</td>\n",
       "      <td>2.0</td>\n",
       "    </tr>\n",
       "    <tr>\n",
       "      <th>9999</th>\n",
       "      <td>68616519.0</td>\n",
       "      <td>21600.0</td>\n",
       "      <td>19754.927428</td>\n",
       "      <td>21600.0</td>\n",
       "      <td>19754.927428</td>\n",
       "      <td>0.2899</td>\n",
       "      <td>666.85</td>\n",
       "      <td>609.887655</td>\n",
       "      <td>0.00</td>\n",
       "      <td>0.000000</td>\n",
       "      <td>1.093398</td>\n",
       "      <td>12.0</td>\n",
       "      <td>1.0</td>\n",
       "      <td>36.0</td>\n",
       "      <td>3.0</td>\n",
       "      <td>0.0</td>\n",
       "      <td>2.0</td>\n",
       "    </tr>\n",
       "  </tbody>\n",
       "</table>\n",
       "<p>10000 rows × 17 columns</p>\n",
       "</div>"
      ],
      "text/plain": [
       "              0        1             2        3             4       5   \\\n",
       "0       373332.0   9950.0   9038.082814   1000.0    908.350032  0.1825   \n",
       "1       575239.0  12000.0  10900.200379  12000.0  10900.200379  0.2099   \n",
       "2       707689.0  10000.0   8924.299805  10000.0   8924.299805  0.1366   \n",
       "3       709828.0  27200.0  24707.120859  27200.0  24707.120859  0.2899   \n",
       "4       849994.0  11400.0  10526.076489  11400.0  10526.076489  0.2899   \n",
       "...          ...      ...           ...      ...           ...     ...   \n",
       "9995  68603178.0  14000.0  12804.119629  14000.0  12804.119629  0.2899   \n",
       "9996  68604253.0  20000.0  18291.599470  20000.0  18291.599470  0.2899   \n",
       "9997  68614880.0   5600.0   5121.647852   5600.0   5121.647852  0.2899   \n",
       "9998  68615915.0   4000.0   3658.319894   4000.0   3658.319894  0.2899   \n",
       "9999  68616519.0  21600.0  19754.927428  21600.0  19754.927428  0.2899   \n",
       "\n",
       "          6           7         8             9         10    11   12    13  \\\n",
       "0     360.97  327.887111   1072.82    974.496081  1.100897  10.0  1.0  36.0   \n",
       "1     324.58  294.832253    959.75    871.788943  1.100897  10.0  1.0  60.0   \n",
       "2     340.13  303.542209   3726.25   3325.417215  1.120536   2.0  1.0  36.0   \n",
       "3     553.87  503.107832  41913.62  38072.238051  1.100897  10.0  1.0  60.0   \n",
       "4     376.09  347.258957   3753.60   3465.849185  1.083025   3.0  0.0  36.0   \n",
       "...      ...         ...       ...           ...       ...   ...  ...   ...   \n",
       "9995  421.61  385.596063  41913.62  38333.357469  1.093398  12.0  1.0  36.0   \n",
       "9996  631.26  577.337754      0.00      0.000000  1.093398  12.0  1.0  36.0   \n",
       "9997  180.18  164.789020      0.00      0.000000  1.093398  12.0  1.0  36.0   \n",
       "9998  131.87  120.605661      0.00      0.000000  1.093398  12.0  1.0  36.0   \n",
       "9999  666.85  609.887655      0.00      0.000000  1.093398  12.0  1.0  36.0   \n",
       "\n",
       "        14   15   16  \n",
       "0     21.0  0.0  1.0  \n",
       "1     25.0  1.0  2.0  \n",
       "2     13.0  1.0  0.0  \n",
       "3      6.0  0.0  4.0  \n",
       "4     10.0  0.0  1.0  \n",
       "...    ...  ...  ...  \n",
       "9995   1.0  0.0  1.0  \n",
       "9996   6.0  0.0  2.0  \n",
       "9997   8.0  1.0  1.0  \n",
       "9998  10.0  1.0  2.0  \n",
       "9999   3.0  0.0  2.0  \n",
       "\n",
       "[10000 rows x 17 columns]"
      ]
     },
     "execution_count": 116,
     "metadata": {},
     "output_type": "execute_result"
    }
   ],
   "source": [
    "# Convertendo o dataset para um DataFrame do Pandas 2 (visualizando dados carregados como string)\n",
    "df_final_pd = pd.DataFrame(df_final)\n",
    "df_final_pd"
   ]
  },
  {
   "cell_type": "code",
   "execution_count": 117,
   "id": "ca0c656d",
   "metadata": {},
   "outputs": [
    {
     "data": {
      "text/plain": [
       "array(['id', 'loan_amnt_USD', 'loan_amnt_EUR', 'funded_amnt_USD', 'funded_amnt_EUR', 'int_rate', 'installment_USD', 'installment_EUR', 'total_pymnt_USD', 'total_pymnt_EUR', 'exchange_rate',\n",
       "       'issue_date', 'loan_status', 'term_months', 'sub_grade', 'verification_status', 'state_address'], dtype='<U19')"
      ]
     },
     "execution_count": 117,
     "metadata": {},
     "output_type": "execute_result"
    }
   ],
   "source": [
    "header_full"
   ]
  },
  {
   "cell_type": "code",
   "execution_count": 118,
   "id": "4381e17d",
   "metadata": {},
   "outputs": [],
   "source": [
    "# Atribuindo os nomes das colunas ao DataFrame (objeto em pandas)\n",
    "df_final_pd.columns = header_full"
   ]
  },
  {
   "cell_type": "code",
   "execution_count": 119,
   "id": "b874f714",
   "metadata": {},
   "outputs": [
    {
     "data": {
      "text/html": [
       "<div>\n",
       "<style scoped>\n",
       "    .dataframe tbody tr th:only-of-type {\n",
       "        vertical-align: middle;\n",
       "    }\n",
       "\n",
       "    .dataframe tbody tr th {\n",
       "        vertical-align: top;\n",
       "    }\n",
       "\n",
       "    .dataframe thead th {\n",
       "        text-align: right;\n",
       "    }\n",
       "</style>\n",
       "<table border=\"1\" class=\"dataframe\">\n",
       "  <thead>\n",
       "    <tr style=\"text-align: right;\">\n",
       "      <th></th>\n",
       "      <th>id</th>\n",
       "      <th>loan_amnt_USD</th>\n",
       "      <th>loan_amnt_EUR</th>\n",
       "      <th>funded_amnt_USD</th>\n",
       "      <th>funded_amnt_EUR</th>\n",
       "      <th>int_rate</th>\n",
       "      <th>installment_USD</th>\n",
       "      <th>installment_EUR</th>\n",
       "      <th>total_pymnt_USD</th>\n",
       "      <th>total_pymnt_EUR</th>\n",
       "      <th>exchange_rate</th>\n",
       "      <th>issue_date</th>\n",
       "      <th>loan_status</th>\n",
       "      <th>term_months</th>\n",
       "      <th>sub_grade</th>\n",
       "      <th>verification_status</th>\n",
       "      <th>state_address</th>\n",
       "    </tr>\n",
       "  </thead>\n",
       "  <tbody>\n",
       "    <tr>\n",
       "      <th>0</th>\n",
       "      <td>373332.0</td>\n",
       "      <td>9950.0</td>\n",
       "      <td>9038.082814</td>\n",
       "      <td>1000.0</td>\n",
       "      <td>908.350032</td>\n",
       "      <td>0.1825</td>\n",
       "      <td>360.97</td>\n",
       "      <td>327.887111</td>\n",
       "      <td>1072.82</td>\n",
       "      <td>974.496081</td>\n",
       "      <td>1.100897</td>\n",
       "      <td>10.0</td>\n",
       "      <td>1.0</td>\n",
       "      <td>36.0</td>\n",
       "      <td>21.0</td>\n",
       "      <td>0.0</td>\n",
       "      <td>1.0</td>\n",
       "    </tr>\n",
       "    <tr>\n",
       "      <th>1</th>\n",
       "      <td>575239.0</td>\n",
       "      <td>12000.0</td>\n",
       "      <td>10900.200379</td>\n",
       "      <td>12000.0</td>\n",
       "      <td>10900.200379</td>\n",
       "      <td>0.2099</td>\n",
       "      <td>324.58</td>\n",
       "      <td>294.832253</td>\n",
       "      <td>959.75</td>\n",
       "      <td>871.788943</td>\n",
       "      <td>1.100897</td>\n",
       "      <td>10.0</td>\n",
       "      <td>1.0</td>\n",
       "      <td>60.0</td>\n",
       "      <td>25.0</td>\n",
       "      <td>1.0</td>\n",
       "      <td>2.0</td>\n",
       "    </tr>\n",
       "    <tr>\n",
       "      <th>2</th>\n",
       "      <td>707689.0</td>\n",
       "      <td>10000.0</td>\n",
       "      <td>8924.299805</td>\n",
       "      <td>10000.0</td>\n",
       "      <td>8924.299805</td>\n",
       "      <td>0.1366</td>\n",
       "      <td>340.13</td>\n",
       "      <td>303.542209</td>\n",
       "      <td>3726.25</td>\n",
       "      <td>3325.417215</td>\n",
       "      <td>1.120536</td>\n",
       "      <td>2.0</td>\n",
       "      <td>1.0</td>\n",
       "      <td>36.0</td>\n",
       "      <td>13.0</td>\n",
       "      <td>1.0</td>\n",
       "      <td>0.0</td>\n",
       "    </tr>\n",
       "    <tr>\n",
       "      <th>3</th>\n",
       "      <td>709828.0</td>\n",
       "      <td>27200.0</td>\n",
       "      <td>24707.120859</td>\n",
       "      <td>27200.0</td>\n",
       "      <td>24707.120859</td>\n",
       "      <td>0.2899</td>\n",
       "      <td>553.87</td>\n",
       "      <td>503.107832</td>\n",
       "      <td>41913.62</td>\n",
       "      <td>38072.238051</td>\n",
       "      <td>1.100897</td>\n",
       "      <td>10.0</td>\n",
       "      <td>1.0</td>\n",
       "      <td>60.0</td>\n",
       "      <td>6.0</td>\n",
       "      <td>0.0</td>\n",
       "      <td>4.0</td>\n",
       "    </tr>\n",
       "    <tr>\n",
       "      <th>4</th>\n",
       "      <td>849994.0</td>\n",
       "      <td>11400.0</td>\n",
       "      <td>10526.076489</td>\n",
       "      <td>11400.0</td>\n",
       "      <td>10526.076489</td>\n",
       "      <td>0.2899</td>\n",
       "      <td>376.09</td>\n",
       "      <td>347.258957</td>\n",
       "      <td>3753.60</td>\n",
       "      <td>3465.849185</td>\n",
       "      <td>1.083025</td>\n",
       "      <td>3.0</td>\n",
       "      <td>0.0</td>\n",
       "      <td>36.0</td>\n",
       "      <td>10.0</td>\n",
       "      <td>0.0</td>\n",
       "      <td>1.0</td>\n",
       "    </tr>\n",
       "    <tr>\n",
       "      <th>...</th>\n",
       "      <td>...</td>\n",
       "      <td>...</td>\n",
       "      <td>...</td>\n",
       "      <td>...</td>\n",
       "      <td>...</td>\n",
       "      <td>...</td>\n",
       "      <td>...</td>\n",
       "      <td>...</td>\n",
       "      <td>...</td>\n",
       "      <td>...</td>\n",
       "      <td>...</td>\n",
       "      <td>...</td>\n",
       "      <td>...</td>\n",
       "      <td>...</td>\n",
       "      <td>...</td>\n",
       "      <td>...</td>\n",
       "      <td>...</td>\n",
       "    </tr>\n",
       "    <tr>\n",
       "      <th>9995</th>\n",
       "      <td>68603178.0</td>\n",
       "      <td>14000.0</td>\n",
       "      <td>12804.119629</td>\n",
       "      <td>14000.0</td>\n",
       "      <td>12804.119629</td>\n",
       "      <td>0.2899</td>\n",
       "      <td>421.61</td>\n",
       "      <td>385.596063</td>\n",
       "      <td>41913.62</td>\n",
       "      <td>38333.357469</td>\n",
       "      <td>1.093398</td>\n",
       "      <td>12.0</td>\n",
       "      <td>1.0</td>\n",
       "      <td>36.0</td>\n",
       "      <td>1.0</td>\n",
       "      <td>0.0</td>\n",
       "      <td>1.0</td>\n",
       "    </tr>\n",
       "    <tr>\n",
       "      <th>9996</th>\n",
       "      <td>68604253.0</td>\n",
       "      <td>20000.0</td>\n",
       "      <td>18291.599470</td>\n",
       "      <td>20000.0</td>\n",
       "      <td>18291.599470</td>\n",
       "      <td>0.2899</td>\n",
       "      <td>631.26</td>\n",
       "      <td>577.337754</td>\n",
       "      <td>0.00</td>\n",
       "      <td>0.000000</td>\n",
       "      <td>1.093398</td>\n",
       "      <td>12.0</td>\n",
       "      <td>1.0</td>\n",
       "      <td>36.0</td>\n",
       "      <td>6.0</td>\n",
       "      <td>0.0</td>\n",
       "      <td>2.0</td>\n",
       "    </tr>\n",
       "    <tr>\n",
       "      <th>9997</th>\n",
       "      <td>68614880.0</td>\n",
       "      <td>5600.0</td>\n",
       "      <td>5121.647852</td>\n",
       "      <td>5600.0</td>\n",
       "      <td>5121.647852</td>\n",
       "      <td>0.2899</td>\n",
       "      <td>180.18</td>\n",
       "      <td>164.789020</td>\n",
       "      <td>0.00</td>\n",
       "      <td>0.000000</td>\n",
       "      <td>1.093398</td>\n",
       "      <td>12.0</td>\n",
       "      <td>1.0</td>\n",
       "      <td>36.0</td>\n",
       "      <td>8.0</td>\n",
       "      <td>1.0</td>\n",
       "      <td>1.0</td>\n",
       "    </tr>\n",
       "    <tr>\n",
       "      <th>9998</th>\n",
       "      <td>68615915.0</td>\n",
       "      <td>4000.0</td>\n",
       "      <td>3658.319894</td>\n",
       "      <td>4000.0</td>\n",
       "      <td>3658.319894</td>\n",
       "      <td>0.2899</td>\n",
       "      <td>131.87</td>\n",
       "      <td>120.605661</td>\n",
       "      <td>0.00</td>\n",
       "      <td>0.000000</td>\n",
       "      <td>1.093398</td>\n",
       "      <td>12.0</td>\n",
       "      <td>1.0</td>\n",
       "      <td>36.0</td>\n",
       "      <td>10.0</td>\n",
       "      <td>1.0</td>\n",
       "      <td>2.0</td>\n",
       "    </tr>\n",
       "    <tr>\n",
       "      <th>9999</th>\n",
       "      <td>68616519.0</td>\n",
       "      <td>21600.0</td>\n",
       "      <td>19754.927428</td>\n",
       "      <td>21600.0</td>\n",
       "      <td>19754.927428</td>\n",
       "      <td>0.2899</td>\n",
       "      <td>666.85</td>\n",
       "      <td>609.887655</td>\n",
       "      <td>0.00</td>\n",
       "      <td>0.000000</td>\n",
       "      <td>1.093398</td>\n",
       "      <td>12.0</td>\n",
       "      <td>1.0</td>\n",
       "      <td>36.0</td>\n",
       "      <td>3.0</td>\n",
       "      <td>0.0</td>\n",
       "      <td>2.0</td>\n",
       "    </tr>\n",
       "  </tbody>\n",
       "</table>\n",
       "<p>10000 rows × 17 columns</p>\n",
       "</div>"
      ],
      "text/plain": [
       "              id  loan_amnt_USD  loan_amnt_EUR  funded_amnt_USD  \\\n",
       "0       373332.0         9950.0    9038.082814           1000.0   \n",
       "1       575239.0        12000.0   10900.200379          12000.0   \n",
       "2       707689.0        10000.0    8924.299805          10000.0   \n",
       "3       709828.0        27200.0   24707.120859          27200.0   \n",
       "4       849994.0        11400.0   10526.076489          11400.0   \n",
       "...          ...            ...            ...              ...   \n",
       "9995  68603178.0        14000.0   12804.119629          14000.0   \n",
       "9996  68604253.0        20000.0   18291.599470          20000.0   \n",
       "9997  68614880.0         5600.0    5121.647852           5600.0   \n",
       "9998  68615915.0         4000.0    3658.319894           4000.0   \n",
       "9999  68616519.0        21600.0   19754.927428          21600.0   \n",
       "\n",
       "      funded_amnt_EUR  int_rate  installment_USD  installment_EUR  \\\n",
       "0          908.350032    0.1825           360.97       327.887111   \n",
       "1        10900.200379    0.2099           324.58       294.832253   \n",
       "2         8924.299805    0.1366           340.13       303.542209   \n",
       "3        24707.120859    0.2899           553.87       503.107832   \n",
       "4        10526.076489    0.2899           376.09       347.258957   \n",
       "...               ...       ...              ...              ...   \n",
       "9995     12804.119629    0.2899           421.61       385.596063   \n",
       "9996     18291.599470    0.2899           631.26       577.337754   \n",
       "9997      5121.647852    0.2899           180.18       164.789020   \n",
       "9998      3658.319894    0.2899           131.87       120.605661   \n",
       "9999     19754.927428    0.2899           666.85       609.887655   \n",
       "\n",
       "      total_pymnt_USD  total_pymnt_EUR  exchange_rate  issue_date  \\\n",
       "0             1072.82       974.496081       1.100897        10.0   \n",
       "1              959.75       871.788943       1.100897        10.0   \n",
       "2             3726.25      3325.417215       1.120536         2.0   \n",
       "3            41913.62     38072.238051       1.100897        10.0   \n",
       "4             3753.60      3465.849185       1.083025         3.0   \n",
       "...               ...              ...            ...         ...   \n",
       "9995         41913.62     38333.357469       1.093398        12.0   \n",
       "9996             0.00         0.000000       1.093398        12.0   \n",
       "9997             0.00         0.000000       1.093398        12.0   \n",
       "9998             0.00         0.000000       1.093398        12.0   \n",
       "9999             0.00         0.000000       1.093398        12.0   \n",
       "\n",
       "      loan_status  term_months  sub_grade  verification_status  state_address  \n",
       "0             1.0         36.0       21.0                  0.0            1.0  \n",
       "1             1.0         60.0       25.0                  1.0            2.0  \n",
       "2             1.0         36.0       13.0                  1.0            0.0  \n",
       "3             1.0         60.0        6.0                  0.0            4.0  \n",
       "4             0.0         36.0       10.0                  0.0            1.0  \n",
       "...           ...          ...        ...                  ...            ...  \n",
       "9995          1.0         36.0        1.0                  0.0            1.0  \n",
       "9996          1.0         36.0        6.0                  0.0            2.0  \n",
       "9997          1.0         36.0        8.0                  1.0            1.0  \n",
       "9998          1.0         36.0       10.0                  1.0            2.0  \n",
       "9999          1.0         36.0        3.0                  0.0            2.0  \n",
       "\n",
       "[10000 rows x 17 columns]"
      ]
     },
     "execution_count": 119,
     "metadata": {},
     "output_type": "execute_result"
    }
   ],
   "source": [
    "# Visualizando resultado final (com pandas)\n",
    "df_final_pd"
   ]
  },
  {
   "cell_type": "markdown",
   "id": "72a945e9",
   "metadata": {},
   "source": [
    "# Gravando o Dataset Final Limpo e Pré-Processado"
   ]
  },
  {
   "cell_type": "code",
   "execution_count": 120,
   "id": "37249904",
   "metadata": {},
   "outputs": [
    {
     "data": {
      "text/plain": [
       "array([['id', 'loan_amnt_USD', 'loan_amnt_EUR', ..., 'sub_grade', 'verification_status', 'state_address'],\n",
       "       ['373332.0', '9950.0', '9038.082814338286', ..., '21.0', '0.0', '1.0'],\n",
       "       ['575239.0', '12000.0', '10900.20037910145', ..., '25.0', '1.0', '2.0'],\n",
       "       ...,\n",
       "       ['68614880.0', '5600.0', '5121.647851612413', ..., '8.0', '1.0', '1.0'],\n",
       "       ['68615915.0', '4000.0', '3658.319894008867', ..., '10.0', '1.0', '2.0'],\n",
       "       ['68616519.0', '21600.0', '19754.927427647883', ..., '3.0', '0.0', '2.0']], dtype='<U32')"
      ]
     },
     "execution_count": 120,
     "metadata": {},
     "output_type": "execute_result"
    }
   ],
   "source": [
    "# Concatena o array de nomes de colunas com o array de dados\n",
    "df_final = np.vstack((header_full, df_final))\n",
    "df_final"
   ]
  },
  {
   "cell_type": "code",
   "execution_count": 121,
   "id": "368ae7d3",
   "metadata": {},
   "outputs": [],
   "source": [
    "# Salva em disco\n",
    "np.savetxt(\"datasets/dataset_limpo_preprocessado.csv\", \n",
    "           df_final, \n",
    "           fmt = '%s',\n",
    "           delimiter = ',')"
   ]
  },
  {
   "cell_type": "markdown",
   "id": "589b0a4e",
   "metadata": {},
   "source": [
    "# Fim"
   ]
  }
 ],
 "metadata": {
  "kernelspec": {
   "display_name": "Python 3 (ipykernel)",
   "language": "python",
   "name": "python3"
  },
  "language_info": {
   "codemirror_mode": {
    "name": "ipython",
    "version": 3
   },
   "file_extension": ".py",
   "mimetype": "text/x-python",
   "name": "python",
   "nbconvert_exporter": "python",
   "pygments_lexer": "ipython3",
   "version": "3.9.7"
  }
 },
 "nbformat": 4,
 "nbformat_minor": 5
}
