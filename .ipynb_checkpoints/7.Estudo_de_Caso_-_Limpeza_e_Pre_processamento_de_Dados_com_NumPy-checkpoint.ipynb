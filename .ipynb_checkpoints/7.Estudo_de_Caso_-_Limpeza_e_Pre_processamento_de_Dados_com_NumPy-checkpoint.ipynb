{
 "cells": [
  {
   "cell_type": "markdown",
   "id": "826347b9",
   "metadata": {},
   "source": [
    "# Estudo de Caso - Limpeza e Pré-Processamento de Dados com NumPy"
   ]
  },
  {
   "cell_type": "markdown",
   "id": "efb20ea5",
   "metadata": {},
   "source": [
    "### Contexto:\n",
    "\n",
    "Imagine que em um determinado projeto de Ciência de Dados você receba um dataset extremamente complicado, contendo dados com muitas strings, caracteres especiais, problemas de encoding, datas  mal  formatadas,  números  e  textos  na  mesma  coluna,  url’s  contendo  Ids importantes para análise, valores ausentes, coluna que contém informação que deveria estar distribuída  em três ou  mais  colunas. E  como  se  não  bastasse  tudo  isso,  parte  dos  dados necessários para análise está em outro dataset, que deve ser combinado com o primeiro.\n",
    "\n",
    "Seu trabalho seria limpar e pré-processar esse dataset, preparando-o para a sequência do processo de análise.\n",
    "\n",
    "É exatamente este cenário que estamos reproduzindo no Estudo de Caso 1. A partir de dados complexos e com diversos problemas, iremos fazer um extenso trabalho de limpeza e pré-processamento. E tudo isso usando apenas o NumPy,  poderoso pacote da Linguagem Python para computação e processamento de dados.\n",
    "\n",
    "#### Este Estudo de Caso traz uma quantidade incrível de conhecimento sobre manipulação de dados em Python."
   ]
  },
  {
   "cell_type": "markdown",
   "id": "a08526c1",
   "metadata": {},
   "source": [
    "## Definição do Problema e Fonte de Dados\n",
    "\n",
    "#### Para este Estudo de Caso trabalharemos com dado reais disponíveis publicamente no link abaixo:\n",
    "    \n",
    "    https://www.openintro.org/data/index.php?data=loans_full_schema\n",
    "\n",
    "Esse conjunto de dados representa milhares de empréstimos feitos por meio da plataforma Lending Club, que é uma\n",
    "plataforma que permite que indivíduos emprestem para outros indivíduos.\n",
    "\n",
    "Claro, nem todos os empréstimos são iguais. Alguém que fornece um baixo risco e que provavelmente vai pagar um\n",
    "empréstimo terá mais facilidade em obter um empréstimo com uma taxa de juros baixa do que alguém que parece ser\n",
    "mais arriscado.\n",
    "\n",
    "E para as pessoas com alto risco de não pagar o empréstimo? Essas pessoas podem nem receber uma oferta de empréstimo, ou podem não aceitar uma oferta de empréstimo devido a uma alta taxa de juros. É importante ter em mente essa última parte, pois esse conjunto de dados representa  apenas  empréstimos  efetivamente  feitos,  ou  seja,  não  confunda  esses  dados  com pedidos de empréstimo!\n",
    "\n",
    "Usamos como fonte de dados o dataset disponível no link acima, mas fizemos modificações nos dados para deixá-los ainda mais problemáticos. O dataset será fornecido a você junto com os demais arquivos do capítulo.\n",
    "\n",
    "Além  disso  usaremos  um  dataset  com  cotação  do  dólar  em  relação  ao  Euro.  Extraímos uma pequena amostra de dados do site: https://finance.yahoo.com. O dataset será fornecido a você junto com os demais arquivos do capítulo."
   ]
  },
  {
   "cell_type": "markdown",
   "id": "6a101d0c",
   "metadata": {},
   "source": [
    "## Objetivo:\n",
    "\n",
    "Nosso trabalho é limpar e pré-processar os dados, deixando-os no formato ideal para um processo de análise posterior e várias decisões terão que ser tomadas no meio do caminho. Ao final do trabalho devemos salvar o dataset com os dados limpos e pré-processados"
   ]
  },
  {
   "cell_type": "markdown",
   "id": "93753a82",
   "metadata": {},
   "source": [
    "## Importando Pacotes e Configurando Impressão do NumPy"
   ]
  },
  {
   "cell_type": "code",
   "execution_count": 179,
   "id": "351b2a8e",
   "metadata": {},
   "outputs": [],
   "source": [
    "import numpy as np\n",
    "import warnings\n",
    "warnings.filterwarnings('ignore')\n",
    "np.set_printoptions(suppress = True, linewidth = 200, precision = 2)"
   ]
  },
  {
   "cell_type": "markdown",
   "id": "a3c21207",
   "metadata": {},
   "source": [
    "## Verificando a Codificação do Arquivo"
   ]
  },
  {
   "cell_type": "code",
   "execution_count": 180,
   "id": "8ba043a0",
   "metadata": {},
   "outputs": [
    {
     "name": "stdout",
     "output_type": "stream",
     "text": [
      "windows-1251\n"
     ]
    }
   ],
   "source": [
    "import chardet\n",
    "\n",
    "with open('datasets/dataset1.csv', 'rb') as f:\n",
    "    result = chardet.detect(f.read())  # Lê uma amostra do arquivo\n",
    "    print(result['encoding'])"
   ]
  },
  {
   "cell_type": "markdown",
   "id": "aace5cbd",
   "metadata": {},
   "source": [
    "## Carregando e Visualizando o Dataset"
   ]
  },
  {
   "cell_type": "code",
   "execution_count": 181,
   "id": "4c12cd4e",
   "metadata": {
    "scrolled": false
   },
   "outputs": [
    {
     "name": "stdout",
     "output_type": "stream",
     "text": [
      "[[48010226.           nan    35000.   ...         nan         nan     9452.96]\n",
      " [57693261.           nan    30000.   ...         nan         nan     4679.7 ]\n",
      " [59432726.           nan    15000.   ...         nan         nan     1969.83]\n",
      " ...\n",
      " [50415990.           nan    10000.   ...         nan         nan     2185.64]\n",
      " [46154151.           nan         nan ...         nan         nan     3199.4 ]\n",
      " [66055249.           nan    10000.   ...         nan         nan      301.9 ]]\n"
     ]
    }
   ],
   "source": [
    "# Forma 1 (se não justificar o att dtype pois np.genfromtxt por padrão trata todo o arquivo como dados numéricos)\n",
    "\n",
    "dados = np.genfromtxt(\"datasets/dataset1.csv\",\n",
    "                     delimiter = ';',\n",
    "                     skip_header = 1,              # não carrega cabeçalho \n",
    "                     autostrip = True,\n",
    "                     encoding = 'windows-1251'     # 'cp1252'\n",
    "                     )\n",
    "print(dados)\n"
   ]
  },
  {
   "cell_type": "code",
   "execution_count": 182,
   "id": "11d3f875",
   "metadata": {},
   "outputs": [
    {
     "name": "stdout",
     "output_type": "stream",
     "text": [
      "[['id' 'issue_d' 'loan_amnt' ... 'url' 'addr_state' 'total_pymnt']\n",
      " ['48010226' 'May-15' '35000.0' ... 'https://www.lendingclub.com/browse/loanDetail.action?loan_id=48010226' 'CA' '9452.96']\n",
      " ['57693261' '' '30000.0' ... 'https://www.lendingclub.com/browse/loanDetail.action?loan_id=57693261' 'NY' '4679.7']\n",
      " ...\n",
      " ['50415990' 'Jun-15' '10000.0' ... 'https://www.lendingclub.com/browse/loanDetail.action?loan_id=50415990' 'CA' '2185.64']\n",
      " ['46154151' 'Apr-15' '' ... 'https://www.lendingclub.com/browse/loanDetail.action?loan_id=46154151' 'OH' '3199.4']\n",
      " ['66055249' 'Dec-15' '10000.0' ... 'https://www.lendingclub.com/browse/loanDetail.action?loan_id=66055249' 'IL' '301.9']]\n"
     ]
    }
   ],
   "source": [
    "# Forma 2 (atribuindo valor ao atributo dtype para tratar todo o arquivo como dados string)\n",
    "\n",
    "\n",
    "dados2 = np.genfromtxt(\"datasets/dataset1.csv\",\n",
    "                     delimiter = ';',\n",
    "                     dtype=str,              \n",
    "                     autostrip = True,\n",
    "                     encoding = 'windows-1251'     # 'cp1252'\n",
    "                     )\n",
    "print(dados2)"
   ]
  },
  {
   "cell_type": "markdown",
   "id": "a6088138",
   "metadata": {},
   "source": [
    "### Utilizando Pandas Apenas Para Visualizar o Dataset"
   ]
  },
  {
   "cell_type": "code",
   "execution_count": 183,
   "id": "533c3469",
   "metadata": {},
   "outputs": [
    {
     "data": {
      "text/html": [
       "<div>\n",
       "<style scoped>\n",
       "    .dataframe tbody tr th:only-of-type {\n",
       "        vertical-align: middle;\n",
       "    }\n",
       "\n",
       "    .dataframe tbody tr th {\n",
       "        vertical-align: top;\n",
       "    }\n",
       "\n",
       "    .dataframe thead th {\n",
       "        text-align: right;\n",
       "    }\n",
       "</style>\n",
       "<table border=\"1\" class=\"dataframe\">\n",
       "  <thead>\n",
       "    <tr style=\"text-align: right;\">\n",
       "      <th></th>\n",
       "      <th>0</th>\n",
       "      <th>1</th>\n",
       "      <th>2</th>\n",
       "      <th>3</th>\n",
       "      <th>4</th>\n",
       "      <th>5</th>\n",
       "      <th>6</th>\n",
       "      <th>7</th>\n",
       "      <th>8</th>\n",
       "      <th>9</th>\n",
       "      <th>10</th>\n",
       "      <th>11</th>\n",
       "      <th>12</th>\n",
       "      <th>13</th>\n",
       "    </tr>\n",
       "  </thead>\n",
       "  <tbody>\n",
       "    <tr>\n",
       "      <th>0</th>\n",
       "      <td>48010226.0</td>\n",
       "      <td>NaN</td>\n",
       "      <td>35000.0</td>\n",
       "      <td>NaN</td>\n",
       "      <td>35000.0</td>\n",
       "      <td>NaN</td>\n",
       "      <td>13.33</td>\n",
       "      <td>1184.86</td>\n",
       "      <td>NaN</td>\n",
       "      <td>NaN</td>\n",
       "      <td>NaN</td>\n",
       "      <td>NaN</td>\n",
       "      <td>NaN</td>\n",
       "      <td>9452.96</td>\n",
       "    </tr>\n",
       "    <tr>\n",
       "      <th>1</th>\n",
       "      <td>57693261.0</td>\n",
       "      <td>NaN</td>\n",
       "      <td>30000.0</td>\n",
       "      <td>NaN</td>\n",
       "      <td>30000.0</td>\n",
       "      <td>NaN</td>\n",
       "      <td>NaN</td>\n",
       "      <td>938.57</td>\n",
       "      <td>NaN</td>\n",
       "      <td>NaN</td>\n",
       "      <td>NaN</td>\n",
       "      <td>NaN</td>\n",
       "      <td>NaN</td>\n",
       "      <td>4679.70</td>\n",
       "    </tr>\n",
       "    <tr>\n",
       "      <th>2</th>\n",
       "      <td>59432726.0</td>\n",
       "      <td>NaN</td>\n",
       "      <td>15000.0</td>\n",
       "      <td>NaN</td>\n",
       "      <td>15000.0</td>\n",
       "      <td>NaN</td>\n",
       "      <td>NaN</td>\n",
       "      <td>494.86</td>\n",
       "      <td>NaN</td>\n",
       "      <td>NaN</td>\n",
       "      <td>NaN</td>\n",
       "      <td>NaN</td>\n",
       "      <td>NaN</td>\n",
       "      <td>1969.83</td>\n",
       "    </tr>\n",
       "    <tr>\n",
       "      <th>3</th>\n",
       "      <td>53222800.0</td>\n",
       "      <td>NaN</td>\n",
       "      <td>9600.0</td>\n",
       "      <td>NaN</td>\n",
       "      <td>9600.0</td>\n",
       "      <td>NaN</td>\n",
       "      <td>NaN</td>\n",
       "      <td>300.35</td>\n",
       "      <td>NaN</td>\n",
       "      <td>NaN</td>\n",
       "      <td>NaN</td>\n",
       "      <td>NaN</td>\n",
       "      <td>NaN</td>\n",
       "      <td>1793.68</td>\n",
       "    </tr>\n",
       "    <tr>\n",
       "      <th>4</th>\n",
       "      <td>57803010.0</td>\n",
       "      <td>NaN</td>\n",
       "      <td>8075.0</td>\n",
       "      <td>NaN</td>\n",
       "      <td>8075.0</td>\n",
       "      <td>NaN</td>\n",
       "      <td>19.19</td>\n",
       "      <td>296.78</td>\n",
       "      <td>NaN</td>\n",
       "      <td>NaN</td>\n",
       "      <td>NaN</td>\n",
       "      <td>NaN</td>\n",
       "      <td>NaN</td>\n",
       "      <td>1178.51</td>\n",
       "    </tr>\n",
       "    <tr>\n",
       "      <th>5</th>\n",
       "      <td>63398019.0</td>\n",
       "      <td>NaN</td>\n",
       "      <td>14400.0</td>\n",
       "      <td>NaN</td>\n",
       "      <td>14400.0</td>\n",
       "      <td>NaN</td>\n",
       "      <td>13.99</td>\n",
       "      <td>334.99</td>\n",
       "      <td>NaN</td>\n",
       "      <td>NaN</td>\n",
       "      <td>NaN</td>\n",
       "      <td>NaN</td>\n",
       "      <td>NaN</td>\n",
       "      <td>681.17</td>\n",
       "    </tr>\n",
       "    <tr>\n",
       "      <th>6</th>\n",
       "      <td>60850626.0</td>\n",
       "      <td>NaN</td>\n",
       "      <td>NaN</td>\n",
       "      <td>NaN</td>\n",
       "      <td>13000.0</td>\n",
       "      <td>NaN</td>\n",
       "      <td>24.99</td>\n",
       "      <td>381.50</td>\n",
       "      <td>NaN</td>\n",
       "      <td>NaN</td>\n",
       "      <td>NaN</td>\n",
       "      <td>NaN</td>\n",
       "      <td>NaN</td>\n",
       "      <td>1126.45</td>\n",
       "    </tr>\n",
       "    <tr>\n",
       "      <th>7</th>\n",
       "      <td>46816139.0</td>\n",
       "      <td>NaN</td>\n",
       "      <td>7500.0</td>\n",
       "      <td>NaN</td>\n",
       "      <td>7500.0</td>\n",
       "      <td>NaN</td>\n",
       "      <td>13.33</td>\n",
       "      <td>253.90</td>\n",
       "      <td>NaN</td>\n",
       "      <td>NaN</td>\n",
       "      <td>NaN</td>\n",
       "      <td>NaN</td>\n",
       "      <td>NaN</td>\n",
       "      <td>2025.65</td>\n",
       "    </tr>\n",
       "    <tr>\n",
       "      <th>8</th>\n",
       "      <td>63918356.0</td>\n",
       "      <td>NaN</td>\n",
       "      <td>8000.0</td>\n",
       "      <td>NaN</td>\n",
       "      <td>8000.0</td>\n",
       "      <td>NaN</td>\n",
       "      <td>NaN</td>\n",
       "      <td>250.29</td>\n",
       "      <td>NaN</td>\n",
       "      <td>NaN</td>\n",
       "      <td>NaN</td>\n",
       "      <td>NaN</td>\n",
       "      <td>NaN</td>\n",
       "      <td>497.07</td>\n",
       "    </tr>\n",
       "    <tr>\n",
       "      <th>9</th>\n",
       "      <td>63651616.0</td>\n",
       "      <td>NaN</td>\n",
       "      <td>7200.0</td>\n",
       "      <td>NaN</td>\n",
       "      <td>7200.0</td>\n",
       "      <td>NaN</td>\n",
       "      <td>NaN</td>\n",
       "      <td>241.18</td>\n",
       "      <td>NaN</td>\n",
       "      <td>NaN</td>\n",
       "      <td>NaN</td>\n",
       "      <td>NaN</td>\n",
       "      <td>NaN</td>\n",
       "      <td>512.57</td>\n",
       "    </tr>\n",
       "  </tbody>\n",
       "</table>\n",
       "</div>"
      ],
      "text/plain": [
       "           0   1        2   3        4   5      6        7   8   9   10  11  \\\n",
       "0  48010226.0 NaN  35000.0 NaN  35000.0 NaN  13.33  1184.86 NaN NaN NaN NaN   \n",
       "1  57693261.0 NaN  30000.0 NaN  30000.0 NaN    NaN   938.57 NaN NaN NaN NaN   \n",
       "2  59432726.0 NaN  15000.0 NaN  15000.0 NaN    NaN   494.86 NaN NaN NaN NaN   \n",
       "3  53222800.0 NaN   9600.0 NaN   9600.0 NaN    NaN   300.35 NaN NaN NaN NaN   \n",
       "4  57803010.0 NaN   8075.0 NaN   8075.0 NaN  19.19   296.78 NaN NaN NaN NaN   \n",
       "5  63398019.0 NaN  14400.0 NaN  14400.0 NaN  13.99   334.99 NaN NaN NaN NaN   \n",
       "6  60850626.0 NaN      NaN NaN  13000.0 NaN  24.99   381.50 NaN NaN NaN NaN   \n",
       "7  46816139.0 NaN   7500.0 NaN   7500.0 NaN  13.33   253.90 NaN NaN NaN NaN   \n",
       "8  63918356.0 NaN   8000.0 NaN   8000.0 NaN    NaN   250.29 NaN NaN NaN NaN   \n",
       "9  63651616.0 NaN   7200.0 NaN   7200.0 NaN    NaN   241.18 NaN NaN NaN NaN   \n",
       "\n",
       "   12       13  \n",
       "0 NaN  9452.96  \n",
       "1 NaN  4679.70  \n",
       "2 NaN  1969.83  \n",
       "3 NaN  1793.68  \n",
       "4 NaN  1178.51  \n",
       "5 NaN   681.17  \n",
       "6 NaN  1126.45  \n",
       "7 NaN  2025.65  \n",
       "8 NaN   497.07  \n",
       "9 NaN   512.57  "
      ]
     },
     "execution_count": 183,
     "metadata": {},
     "output_type": "execute_result"
    }
   ],
   "source": [
    "import pandas as pd\n",
    "\n",
    "# Convertendo o array NumPy para um DataFrame do Pandas\n",
    "df = pd.DataFrame(dados)\n",
    "\n",
    "# Exibindo o DataFrame\n",
    "df.head(10)"
   ]
  },
  {
   "cell_type": "markdown",
   "id": "59777df6",
   "metadata": {},
   "source": [
    "Observe como várias colunas estão com o tipo NaN. Isso se deve a caracteres especiais no conjunto de dados e a forma como o NumPy carrega dados numéricos e do tipo string. Iremos resolver isso"
   ]
  },
  {
   "cell_type": "code",
   "execution_count": 184,
   "id": "23a58050",
   "metadata": {},
   "outputs": [
    {
     "data": {
      "text/html": [
       "<div>\n",
       "<style scoped>\n",
       "    .dataframe tbody tr th:only-of-type {\n",
       "        vertical-align: middle;\n",
       "    }\n",
       "\n",
       "    .dataframe tbody tr th {\n",
       "        vertical-align: top;\n",
       "    }\n",
       "\n",
       "    .dataframe thead th {\n",
       "        text-align: right;\n",
       "    }\n",
       "</style>\n",
       "<table border=\"1\" class=\"dataframe\">\n",
       "  <thead>\n",
       "    <tr style=\"text-align: right;\">\n",
       "      <th></th>\n",
       "      <th>0</th>\n",
       "      <th>1</th>\n",
       "      <th>2</th>\n",
       "      <th>3</th>\n",
       "      <th>4</th>\n",
       "      <th>5</th>\n",
       "      <th>6</th>\n",
       "      <th>7</th>\n",
       "      <th>8</th>\n",
       "      <th>9</th>\n",
       "      <th>10</th>\n",
       "      <th>11</th>\n",
       "      <th>12</th>\n",
       "      <th>13</th>\n",
       "    </tr>\n",
       "  </thead>\n",
       "  <tbody>\n",
       "    <tr>\n",
       "      <th>0</th>\n",
       "      <td>id</td>\n",
       "      <td>issue_d</td>\n",
       "      <td>loan_amnt</td>\n",
       "      <td>loan_status</td>\n",
       "      <td>funded_amnt</td>\n",
       "      <td>term</td>\n",
       "      <td>int_rate</td>\n",
       "      <td>installment</td>\n",
       "      <td>grade</td>\n",
       "      <td>sub_grade</td>\n",
       "      <td>verification_status</td>\n",
       "      <td>url</td>\n",
       "      <td>addr_state</td>\n",
       "      <td>total_pymnt</td>\n",
       "    </tr>\n",
       "    <tr>\n",
       "      <th>1</th>\n",
       "      <td>48010226</td>\n",
       "      <td>May-15</td>\n",
       "      <td>35000.0</td>\n",
       "      <td>Current</td>\n",
       "      <td>35000.0</td>\n",
       "      <td>36 months</td>\n",
       "      <td>13.33</td>\n",
       "      <td>1184.86</td>\n",
       "      <td>C</td>\n",
       "      <td>C3</td>\n",
       "      <td>Verified</td>\n",
       "      <td>https://www.lendingclub.com/browse/loanDetail....</td>\n",
       "      <td>CA</td>\n",
       "      <td>9452.96</td>\n",
       "    </tr>\n",
       "    <tr>\n",
       "      <th>2</th>\n",
       "      <td>57693261</td>\n",
       "      <td></td>\n",
       "      <td>30000.0</td>\n",
       "      <td>Current</td>\n",
       "      <td>30000.0</td>\n",
       "      <td>36 months</td>\n",
       "      <td>юли.89</td>\n",
       "      <td>938.57</td>\n",
       "      <td>A</td>\n",
       "      <td>A5</td>\n",
       "      <td>Source Verified</td>\n",
       "      <td>https://www.lendingclub.com/browse/loanDetail....</td>\n",
       "      <td>NY</td>\n",
       "      <td>4679.7</td>\n",
       "    </tr>\n",
       "    <tr>\n",
       "      <th>3</th>\n",
       "      <td>59432726</td>\n",
       "      <td>Sep-15</td>\n",
       "      <td>15000.0</td>\n",
       "      <td>Current</td>\n",
       "      <td>15000.0</td>\n",
       "      <td>36 months</td>\n",
       "      <td>ное.53</td>\n",
       "      <td>494.86</td>\n",
       "      <td>B</td>\n",
       "      <td>B5</td>\n",
       "      <td>Verified</td>\n",
       "      <td>https://www.lendingclub.com/browse/loanDetail....</td>\n",
       "      <td>PA</td>\n",
       "      <td>1969.83</td>\n",
       "    </tr>\n",
       "    <tr>\n",
       "      <th>4</th>\n",
       "      <td>53222800</td>\n",
       "      <td>Jul-15</td>\n",
       "      <td>9600.0</td>\n",
       "      <td>Current</td>\n",
       "      <td>9600.0</td>\n",
       "      <td>36 months</td>\n",
       "      <td>юли.89</td>\n",
       "      <td>300.35</td>\n",
       "      <td>A</td>\n",
       "      <td>A5</td>\n",
       "      <td>Not Verified</td>\n",
       "      <td>https://www.lendingclub.com/browse/loanDetail....</td>\n",
       "      <td>OH</td>\n",
       "      <td>1793.68</td>\n",
       "    </tr>\n",
       "    <tr>\n",
       "      <th>5</th>\n",
       "      <td>57803010</td>\n",
       "      <td>Aug-15</td>\n",
       "      <td>8075.0</td>\n",
       "      <td>Current</td>\n",
       "      <td>8075.0</td>\n",
       "      <td>36 months</td>\n",
       "      <td>19.19</td>\n",
       "      <td>296.78</td>\n",
       "      <td></td>\n",
       "      <td>E3</td>\n",
       "      <td>Source Verified</td>\n",
       "      <td>https://www.lendingclub.com/browse/loanDetail....</td>\n",
       "      <td>TX</td>\n",
       "      <td>1178.51</td>\n",
       "    </tr>\n",
       "    <tr>\n",
       "      <th>6</th>\n",
       "      <td>63398019</td>\n",
       "      <td>Oct-15</td>\n",
       "      <td>14400.0</td>\n",
       "      <td>Current</td>\n",
       "      <td>14400.0</td>\n",
       "      <td>60 months</td>\n",
       "      <td>13.99</td>\n",
       "      <td>334.99</td>\n",
       "      <td></td>\n",
       "      <td>C4</td>\n",
       "      <td>Not Verified</td>\n",
       "      <td>https://www.lendingclub.com/browse/loanDetail....</td>\n",
       "      <td>AL</td>\n",
       "      <td>681.17</td>\n",
       "    </tr>\n",
       "    <tr>\n",
       "      <th>7</th>\n",
       "      <td>60850626</td>\n",
       "      <td>Sep-15</td>\n",
       "      <td></td>\n",
       "      <td>Current</td>\n",
       "      <td>13000.0</td>\n",
       "      <td>60 months</td>\n",
       "      <td>24.99</td>\n",
       "      <td>381.5</td>\n",
       "      <td>F</td>\n",
       "      <td>F4</td>\n",
       "      <td>Source Verified</td>\n",
       "      <td>https://www.lendingclub.com/browse/loanDetail....</td>\n",
       "      <td>CA</td>\n",
       "      <td>1126.45</td>\n",
       "    </tr>\n",
       "    <tr>\n",
       "      <th>8</th>\n",
       "      <td>46816139</td>\n",
       "      <td>Apr-15</td>\n",
       "      <td>7500.0</td>\n",
       "      <td>Current</td>\n",
       "      <td>7500.0</td>\n",
       "      <td>36 months</td>\n",
       "      <td>13.33</td>\n",
       "      <td>253.9</td>\n",
       "      <td>C</td>\n",
       "      <td>C3</td>\n",
       "      <td></td>\n",
       "      <td>https://www.lendingclub.com/browse/loanDetail....</td>\n",
       "      <td>GA</td>\n",
       "      <td>2025.65</td>\n",
       "    </tr>\n",
       "    <tr>\n",
       "      <th>9</th>\n",
       "      <td>63918356</td>\n",
       "      <td>Nov-15</td>\n",
       "      <td>8000.0</td>\n",
       "      <td>Current</td>\n",
       "      <td>8000.0</td>\n",
       "      <td>36 months</td>\n",
       "      <td>юли.89</td>\n",
       "      <td>250.29</td>\n",
       "      <td>A</td>\n",
       "      <td>A5</td>\n",
       "      <td>Source Verified</td>\n",
       "      <td>https://www.lendingclub.com/browse/loanDetail....</td>\n",
       "      <td>MA</td>\n",
       "      <td>497.07</td>\n",
       "    </tr>\n",
       "  </tbody>\n",
       "</table>\n",
       "</div>"
      ],
      "text/plain": [
       "         0        1          2            3            4          5   \\\n",
       "0        id  issue_d  loan_amnt  loan_status  funded_amnt       term   \n",
       "1  48010226   May-15    35000.0      Current      35000.0  36 months   \n",
       "2  57693261             30000.0      Current      30000.0  36 months   \n",
       "3  59432726   Sep-15    15000.0      Current      15000.0  36 months   \n",
       "4  53222800   Jul-15     9600.0      Current       9600.0  36 months   \n",
       "5  57803010   Aug-15     8075.0      Current       8075.0  36 months   \n",
       "6  63398019   Oct-15    14400.0      Current      14400.0  60 months   \n",
       "7  60850626   Sep-15                 Current      13000.0  60 months   \n",
       "8  46816139   Apr-15     7500.0      Current       7500.0  36 months   \n",
       "9  63918356   Nov-15     8000.0      Current       8000.0  36 months   \n",
       "\n",
       "         6            7      8          9                    10  \\\n",
       "0  int_rate  installment  grade  sub_grade  verification_status   \n",
       "1     13.33      1184.86      C         C3             Verified   \n",
       "2    юли.89       938.57      A         A5      Source Verified   \n",
       "3    ное.53       494.86      B         B5             Verified   \n",
       "4    юли.89       300.35      A         A5         Not Verified   \n",
       "5     19.19       296.78                E3      Source Verified   \n",
       "6     13.99       334.99                C4         Not Verified   \n",
       "7     24.99        381.5      F         F4      Source Verified   \n",
       "8     13.33        253.9      C         C3                        \n",
       "9    юли.89       250.29      A         A5      Source Verified   \n",
       "\n",
       "                                                  11          12           13  \n",
       "0                                                url  addr_state  total_pymnt  \n",
       "1  https://www.lendingclub.com/browse/loanDetail....          CA      9452.96  \n",
       "2  https://www.lendingclub.com/browse/loanDetail....          NY       4679.7  \n",
       "3  https://www.lendingclub.com/browse/loanDetail....          PA      1969.83  \n",
       "4  https://www.lendingclub.com/browse/loanDetail....          OH      1793.68  \n",
       "5  https://www.lendingclub.com/browse/loanDetail....          TX      1178.51  \n",
       "6  https://www.lendingclub.com/browse/loanDetail....          AL       681.17  \n",
       "7  https://www.lendingclub.com/browse/loanDetail....          CA      1126.45  \n",
       "8  https://www.lendingclub.com/browse/loanDetail....          GA      2025.65  \n",
       "9  https://www.lendingclub.com/browse/loanDetail....          MA       497.07  "
      ]
     },
     "execution_count": 184,
     "metadata": {},
     "output_type": "execute_result"
    }
   ],
   "source": [
    "# Convertendo o array NumPy para um DataFrame do Pandas 2 (visualizando dados carregados como string)\n",
    "df2 = pd.DataFrame(dados2)\n",
    "\n",
    "# Exibindo o DataFrame\n",
    "df2.head(10)"
   ]
  },
  {
   "cell_type": "markdown",
   "id": "4935188d",
   "metadata": {},
   "source": [
    "### Tipo de Dados"
   ]
  },
  {
   "cell_type": "code",
   "execution_count": 185,
   "id": "64775a85",
   "metadata": {},
   "outputs": [
    {
     "name": "stdout",
     "output_type": "stream",
     "text": [
      "<class 'numpy.ndarray'>\n",
      "<class 'pandas.core.frame.DataFrame'>\n",
      "(10000, 14)\n",
      "(10000, 14)\n"
     ]
    }
   ],
   "source": [
    "print(type(dados))\n",
    "print(type(df))\n",
    "\n",
    "print(dados.shape)\n",
    "print(df.shape)"
   ]
  },
  {
   "cell_type": "markdown",
   "id": "59a3dd49",
   "metadata": {},
   "source": [
    "## Verificando Valores Ausentes"
   ]
  },
  {
   "cell_type": "code",
   "execution_count": 186,
   "id": "8aa7e752",
   "metadata": {},
   "outputs": [
    {
     "data": {
      "text/plain": [
       "array([[48010226.  ,         nan,    35000.  , ...,         nan,         nan,     9452.96],\n",
       "       [57693261.  ,         nan,    30000.  , ...,         nan,         nan,     4679.7 ],\n",
       "       [59432726.  ,         nan,    15000.  , ...,         nan,         nan,     1969.83],\n",
       "       ...,\n",
       "       [50415990.  ,         nan,    10000.  , ...,         nan,         nan,     2185.64],\n",
       "       [46154151.  ,         nan,         nan, ...,         nan,         nan,     3199.4 ],\n",
       "       [66055249.  ,         nan,    10000.  , ...,         nan,         nan,      301.9 ]])"
      ]
     },
     "execution_count": 186,
     "metadata": {},
     "output_type": "execute_result"
    }
   ],
   "source": [
    "# Visualizando novamente dataset e dados ausentes\n",
    "\n",
    "dados.view()"
   ]
  },
  {
   "cell_type": "markdown",
   "id": "ecf485d6",
   "metadata": {},
   "source": [
    "Observe como várias colunas estão com o tipo NaN. Isso se deve a caracteres especiais no conjunto de dados e a forma como o NumPy carrega dados numéricos e do tipo string. Iremos resolver isso"
   ]
  },
  {
   "cell_type": "code",
   "execution_count": 187,
   "id": "64955287",
   "metadata": {},
   "outputs": [
    {
     "data": {
      "text/plain": [
       "88005"
      ]
     },
     "execution_count": 187,
     "metadata": {},
     "output_type": "execute_result"
    }
   ],
   "source": [
    "# Total de Valores Ausentes\n",
    "\n",
    "np.isnan(dados).sum()"
   ]
  },
  {
   "cell_type": "markdown",
   "id": "10dacf88",
   "metadata": {},
   "source": [
    "## Tratando Valores Ausentes"
   ]
  },
  {
   "cell_type": "code",
   "execution_count": 188,
   "id": "49028641",
   "metadata": {},
   "outputs": [
    {
     "name": "stdout",
     "output_type": "stream",
     "text": [
      "68616520.0\n"
     ]
    }
   ],
   "source": [
    "# Vamos primeiramente retornar o maior valor + 1 ignorando valores NaN do dataset\n",
    "# Usaremos este valor arbitrário para preencher os valores ausentes no momento da carga de dados de variáveis\n",
    "# numéricas e depois tratamos esse valor como ausente\n",
    "\n",
    "# Portanto pegamos o maior valor do conjunto de dados (sem considerar NaN), somamos 1 e gravamos em valor_coringa\n",
    "# Vamos usar este valor para preeencher valores ausentes na hora de carregar variáveis numéricas\n",
    "\n",
    "# Através do NumPy conseguimos passar por todo o conjunto de dados (memso que tenham outros tipos como chr) e ainda\n",
    "# assim achar o maior valor numérico\n",
    "\n",
    "valor_coringa = np.nanmax(dados) + 1\n",
    "print(valor_coringa)"
   ]
  },
  {
   "cell_type": "code",
   "execution_count": 189,
   "id": "1bc569c5",
   "metadata": {},
   "outputs": [
    {
     "name": "stdout",
     "output_type": "stream",
     "text": [
      "[54015809.19         nan    15273.46         nan    15311.04         nan       16.62      440.92         nan         nan         nan         nan         nan     3143.85]\n"
     ]
    }
   ],
   "source": [
    "# Calculamos a média (variáveis numéricas) ignorando valores NaN por coluna\n",
    "# Iremos usar isso para separar variáveis do tipo numéricas de variáveis do tipo string\n",
    "\n",
    "media_ignorando_nan = np.nanmean(dados, axis = 0)\n",
    "print(media_ignorando_nan)"
   ]
  },
  {
   "cell_type": "code",
   "execution_count": 190,
   "id": "9c7419c1",
   "metadata": {},
   "outputs": [
    {
     "data": {
      "text/plain": [
       "array([ 1,  3,  5,  8,  9, 10, 11, 12])"
      ]
     },
     "execution_count": 190,
     "metadata": {},
     "output_type": "execute_result"
    }
   ],
   "source": [
    "# Colunas do tipo Strings com valores ausentes\n",
    "\n",
    "colunas_strings = np.argwhere(np.isnan(media_ignorando_nan)).squeeze()\n",
    "colunas_strings"
   ]
  },
  {
   "cell_type": "code",
   "execution_count": 191,
   "id": "7b3dfae0",
   "metadata": {},
   "outputs": [
    {
     "data": {
      "text/plain": [
       "array([ 0,  2,  4,  6,  7, 13])"
      ]
     },
     "execution_count": 191,
     "metadata": {},
     "output_type": "execute_result"
    }
   ],
   "source": [
    "# Colunas do tipo Numérica com valores ausentes\n",
    "\n",
    "colunas_numericas = np.argwhere(np.isnan(media_ignorando_nan) == False).squeeze()\n",
    "colunas_numericas"
   ]
  },
  {
   "cell_type": "markdown",
   "id": "5d3c0c48",
   "metadata": {},
   "source": [
    "#### Importando novamente o dataset, agora separando colunas do tipo String e colunas do tipo Numérica"
   ]
  },
  {
   "cell_type": "code",
   "execution_count": 192,
   "id": "ef3760dc",
   "metadata": {},
   "outputs": [
    {
     "data": {
      "text/plain": [
       "array([['May-15', 'Current', '36 months', ..., 'Verified', 'https://www.lendingclub.com/browse/loanDetail.action?loan_id=48010226', 'CA'],\n",
       "       ['', 'Current', '36 months', ..., 'Source Verified', 'https://www.lendingclub.com/browse/loanDetail.action?loan_id=57693261', 'NY'],\n",
       "       ['Sep-15', 'Current', '36 months', ..., 'Verified', 'https://www.lendingclub.com/browse/loanDetail.action?loan_id=59432726', 'PA'],\n",
       "       ...,\n",
       "       ['Jun-15', 'Current', '36 months', ..., 'Source Verified', 'https://www.lendingclub.com/browse/loanDetail.action?loan_id=50415990', 'CA'],\n",
       "       ['Apr-15', 'Current', '36 months', ..., 'Source Verified', 'https://www.lendingclub.com/browse/loanDetail.action?loan_id=46154151', 'OH'],\n",
       "       ['Dec-15', 'Current', '36 months', ..., '', 'https://www.lendingclub.com/browse/loanDetail.action?loan_id=66055249', 'IL']], dtype='<U69')"
      ]
     },
     "execution_count": 192,
     "metadata": {},
     "output_type": "execute_result"
    }
   ],
   "source": [
    "# Carregando somente Colunas do Tipo String\n",
    "\n",
    "arr_strings = np.genfromtxt(\"datasets/dataset1.csv\",\n",
    "                           delimiter = ';',\n",
    "                           skip_header = 1,               # não carrega o cabeçalho\n",
    "                           autostrip = True,\n",
    "                           usecols = colunas_strings,\n",
    "                           dtype = str,\n",
    "                           encoding = 'windows-1251'\n",
    "                           )\n",
    "\n",
    "arr_strings"
   ]
  },
  {
   "cell_type": "code",
   "execution_count": 193,
   "id": "e44e300e",
   "metadata": {},
   "outputs": [
    {
     "data": {
      "text/plain": [
       "array([[48010226.  ,    35000.  ,    35000.  ,       13.33,     1184.86,     9452.96],\n",
       "       [57693261.  ,    30000.  ,    30000.  , 68616520.  ,      938.57,     4679.7 ],\n",
       "       [59432726.  ,    15000.  ,    15000.  , 68616520.  ,      494.86,     1969.83],\n",
       "       ...,\n",
       "       [50415990.  ,    10000.  ,    10000.  , 68616520.  , 68616520.  ,     2185.64],\n",
       "       [46154151.  , 68616520.  ,    10000.  ,       16.55,      354.3 ,     3199.4 ],\n",
       "       [66055249.  ,    10000.  ,    10000.  , 68616520.  ,      309.97,      301.9 ]])"
      ]
     },
     "execution_count": 193,
     "metadata": {},
     "output_type": "execute_result"
    }
   ],
   "source": [
    "# Carregando somente Colunas do Tipo Numérica\n",
    "\n",
    "arr_numeric = np.genfromtxt(\"datasets/dataset1.csv\",\n",
    "                           delimiter = ';',\n",
    "                           skip_header = 1,                      # não carrega o cabeçalho\n",
    "                           autostrip = True,\n",
    "                           usecols = colunas_numericas,\n",
    "                           filling_values = valor_coringa,       # caso tenha valores NaN, ele substitui pelo \n",
    "                           encoding = 'windows-1251'             # valor_coringa\n",
    "                           )\n",
    "\n",
    "arr_numeric"
   ]
  },
  {
   "cell_type": "markdown",
   "id": "a7319584",
   "metadata": {},
   "source": [
    "#### Importando novamente o dataset, agora carregando apenas o nome das colunas"
   ]
  },
  {
   "cell_type": "code",
   "execution_count": 194,
   "id": "fe8e9689",
   "metadata": {},
   "outputs": [
    {
     "data": {
      "text/plain": [
       "array(['id', 'issue_d', 'loan_amnt', 'loan_status', 'funded_amnt', 'term', 'int_rate', 'installment', 'grade', 'sub_grade', 'verification_status', 'url', 'addr_state', 'total_pymnt'], dtype='<U19')"
      ]
     },
     "execution_count": 194,
     "metadata": {},
     "output_type": "execute_result"
    }
   ],
   "source": [
    "# Carrega nome das colunas\n",
    "\n",
    "arr_nomes_colunas = np.genfromtxt(\"datasets/dataset1.csv\",\n",
    "                    delimiter = ';',\n",
    "                    autostrip = True,\n",
    "                    skip_footer = dados.shape[0],\n",
    "                    dtype = str,\n",
    "                    encoding = 'windows-1251' \n",
    "                    )\n",
    "\n",
    "arr_nomes_colunas"
   ]
  },
  {
   "cell_type": "code",
   "execution_count": 195,
   "id": "d76c45ef",
   "metadata": {},
   "outputs": [
    {
     "name": "stdout",
     "output_type": "stream",
     "text": [
      "['issue_d' 'loan_status' 'term' 'grade' 'sub_grade' 'verification_status' 'url' 'addr_state']\n",
      "['id' 'loan_amnt' 'funded_amnt' 'int_rate' 'installment' 'total_pymnt']\n"
     ]
    }
   ],
   "source": [
    "# Separa cabeçalho de colunas numéricas e string\n",
    "\n",
    "header_strings, header_numeric = arr_nomes_colunas[colunas_strings], arr_nomes_colunas[colunas_numericas]\n",
    "\n",
    "print(header_strings)\n",
    "print(header_numeric)"
   ]
  },
  {
   "cell_type": "markdown",
   "id": "d3b631aa",
   "metadata": {},
   "source": [
    "## Explicação Sobre o Processo de Tratamento de Valores ausentes\n",
    "\n",
    "#### Verificando Valores Ausentes\n",
    "Inicialmente, foi observado que o dataset contém uma quantidade significativa de valores NaN, indicando a presença de valores ausentes. Isso pode ser devido a várias razões, incluindo caracteres especiais, mistura de tipos de dados (numéricos e strings) em colunas, ou simplesmente dados faltantes.\n",
    "\n",
    "#### Total de Valores Ausentes\n",
    "A quantidade total de valores ausentes foi calculada usando np.isnan(dados).sum(), que forneceu uma visão geral da magnitude do problema.\n",
    "\n",
    "### Estratégia para Tratar Valores Ausentes\n",
    "A abordagem adotada para tratar valores ausentes consistiu em várias etapas:\n",
    "\n",
    "#### Identificação de um Valor Coringa\n",
    "Foi escolhido um valor coringa, definido como o maior valor no dataset mais um (np.nanmax(dados) + 1). Esse valor coringa foi utilizado para preencher temporariamente os valores ausentes nas colunas numéricas durante a carga do dataset, permitindo uma diferenciação clara entre os dados originalmente ausentes e outros valores numéricos.\n",
    "\n",
    "#### Cálculo da Média Ignorando NaN\n",
    "Para cada coluna, foi calculada a média, ignorando valores NaN (np.nanmean(dados, axis=0)). Isso ajudou a identificar quais colunas são puramente numéricas (pois a média de colunas contendo strings ou totalmente ausentes resultaria em NaN).\n",
    "\n",
    "#### Separação de Colunas Numéricas e Strings\n",
    "Com base na etapa anterior, as colunas foram classificadas como numéricas ou strings:\n",
    "\n",
    "#### Colunas Strings:\n",
    "Identificadas como aquelas cuja média resultou em NaN, indicando que não são puramente numéricas.\n",
    "\n",
    "#### Colunas Numéricas\n",
    "Colunas para as quais foi possível calcular uma média, indicando que são puramente numéricas.\n",
    "\n",
    "#### Carregamento Separado de Dados Numéricos e Strings\n",
    "Para tratar adequadamente os diferentes tipos de dados, o dataset foi carregado separadamente para colunas numéricas e strings:\n",
    "\n",
    "#### Dados Numéricos\n",
    "Carregados especificando usecols para selecionar apenas as colunas numéricas e filling_values para preencher valores ausentes com o valor coringa.\n",
    "\n",
    "#### Dados de Strings\n",
    "Carregados especificando usecols para selecionar apenas as colunas de strings, garantindo que o texto seja preservado corretamente.\n",
    "\n",
    "#### Importação dos Nomes das Colunas\n",
    "Os nomes das colunas foram importados separadamente, usando np.genfromtxt com parâmetros ajustados para carregar apenas o cabeçalho, fornecendo uma referência clara de quais dados cada coluna contém.\n",
    "\n",
    "#### Separação dos Nomes das Colunas\n",
    "Os nomes das colunas foram então divididos em dois grupos, correspondendo às colunas numéricas e de strings, com base na classificação feita anteriormente. Isso facilita a referência e a manipulação de colunas específicas nas etapas subsequentes.\n",
    "\n",
    "#### Conclusão\n",
    "Essas etapas formam a base para o tratamento de valores ausentes e a preparação dos dados para análise posterior. A diferenciação entre tipos de dados e o tratamento cuidadoso de valores ausentes são cruciais para garantir a integridade e a usabilidade dos dados em análises futuras."
   ]
  },
  {
   "cell_type": "markdown",
   "id": "db6a5bfd",
   "metadata": {},
   "source": [
    "# Função de Checkpoint\n",
    "\n",
    "#### Checkpoint 1\n",
    "\n",
    "Criação de uma função de Checkpoint para salvar os resultados feitos até aqui."
   ]
  },
  {
   "cell_type": "code",
   "execution_count": 196,
   "id": "4fb6353e",
   "metadata": {},
   "outputs": [],
   "source": [
    "# Função\n",
    "def checkpoint(file_name, checkpoint_header, checkpoint_data):\n",
    "    np.savez(file_name, header = checkpoint_header, data = checkpoint_data)\n",
    "    checkpoint_variable = np.load(file_name + \".npz\")\n",
    "    return(checkpoint_variable)"
   ]
  },
  {
   "cell_type": "code",
   "execution_count": 197,
   "id": "b12cb3dc",
   "metadata": {},
   "outputs": [],
   "source": [
    "checkpoint_inicial = checkpoint(\"datasets/Checkpoint-Inicial\", header_strings, arr_strings)"
   ]
  },
  {
   "cell_type": "code",
   "execution_count": 198,
   "id": "1ea7a939",
   "metadata": {},
   "outputs": [
    {
     "data": {
      "text/plain": [
       "array([['May-15', 'Current', '36 months', ..., 'Verified', 'https://www.lendingclub.com/browse/loanDetail.action?loan_id=48010226', 'CA'],\n",
       "       ['', 'Current', '36 months', ..., 'Source Verified', 'https://www.lendingclub.com/browse/loanDetail.action?loan_id=57693261', 'NY'],\n",
       "       ['Sep-15', 'Current', '36 months', ..., 'Verified', 'https://www.lendingclub.com/browse/loanDetail.action?loan_id=59432726', 'PA'],\n",
       "       ...,\n",
       "       ['Jun-15', 'Current', '36 months', ..., 'Source Verified', 'https://www.lendingclub.com/browse/loanDetail.action?loan_id=50415990', 'CA'],\n",
       "       ['Apr-15', 'Current', '36 months', ..., 'Source Verified', 'https://www.lendingclub.com/browse/loanDetail.action?loan_id=46154151', 'OH'],\n",
       "       ['Dec-15', 'Current', '36 months', ..., '', 'https://www.lendingclub.com/browse/loanDetail.action?loan_id=66055249', 'IL']], dtype='<U69')"
      ]
     },
     "execution_count": 198,
     "metadata": {},
     "output_type": "execute_result"
    }
   ],
   "source": [
    "checkpoint_inicial['data']"
   ]
  },
  {
   "cell_type": "markdown",
   "id": "e1c43504",
   "metadata": {},
   "source": [
    "# Manipulando Colunas do Tipo String"
   ]
  },
  {
   "cell_type": "code",
   "execution_count": 199,
   "id": "771d34e4",
   "metadata": {},
   "outputs": [
    {
     "name": "stdout",
     "output_type": "stream",
     "text": [
      "['issue_d' 'loan_status' 'term' 'grade' 'sub_grade' 'verification_status' 'url' 'addr_state']\n"
     ]
    }
   ],
   "source": [
    "# Verificando novamente nome das colunas do Tipo String (iremos tratar cada uma delas)\n",
    "print(header_strings)"
   ]
  },
  {
   "cell_type": "markdown",
   "id": "4bcaaf5d",
   "metadata": {},
   "source": [
    "#### Renomeando coluna issue_d"
   ]
  },
  {
   "cell_type": "code",
   "execution_count": 200,
   "id": "a1939609",
   "metadata": {},
   "outputs": [
    {
     "name": "stdout",
     "output_type": "stream",
     "text": [
      "['issue_date' 'loan_status' 'term' 'grade' 'sub_grade' 'verification_status' 'url' 'addr_state']\n"
     ]
    }
   ],
   "source": [
    "# Renomeando coluna\n",
    "header_strings[0] = \"issue_date\"\n",
    "print(header_strings)"
   ]
  },
  {
   "cell_type": "markdown",
   "id": "ee2f9a76",
   "metadata": {},
   "source": [
    "### Pré-Processamento da Variável issue_date com Label Encoding"
   ]
  },
  {
   "cell_type": "code",
   "execution_count": 201,
   "id": "65002aaf",
   "metadata": {},
   "outputs": [
    {
     "data": {
      "text/plain": [
       "array(['', 'Apr-15', 'Aug-15', 'Dec-15', 'Feb-15', 'Jan-15', 'Jul-15', 'Jun-15', 'Mar-15', 'May-15', 'Nov-15', 'Oct-15', 'Sep-15'], dtype='<U69')"
      ]
     },
     "execution_count": 201,
     "metadata": {},
     "output_type": "execute_result"
    }
   ],
   "source": [
    "# Extrai os valores únicos\n",
    "np.unique(arr_strings[:, 0])"
   ]
  },
  {
   "cell_type": "code",
   "execution_count": 202,
   "id": "3849cb4c",
   "metadata": {},
   "outputs": [
    {
     "name": "stdout",
     "output_type": "stream",
     "text": [
      "['' 'Apr' 'Aug' 'Dec' 'Feb' 'Jan' 'Jul' 'Jun' 'Mar' 'May' 'Nov' 'Oct' 'Sep']\n",
      "<class 'numpy.ndarray'>\n"
     ]
    }
   ],
   "source": [
    "# Remove o sufico \"-15\" \n",
    "arr_strings[:, 0] = np.chararray.strip(arr_strings[:, 0], \"-15\")\n",
    "\n",
    "# Extrai os valores únicos\n",
    "print(np.unique(arr_strings[:, 0]))\n",
    "\n",
    "# Tipo\n",
    "print(type(arr_strings[:, 0]))"
   ]
  },
  {
   "cell_type": "code",
   "execution_count": 203,
   "id": "e431e8a7",
   "metadata": {},
   "outputs": [
    {
     "data": {
      "text/plain": [
       "array(['0', '1', '10', '11', '12', '2', '3', '4', '5', '6', '7', '8', '9'], dtype='<U69')"
      ]
     },
     "execution_count": 203,
     "metadata": {},
     "output_type": "execute_result"
    }
   ],
   "source": [
    "# Criamos um array com os meses (incluindo um elemento como vazio para o que estiver em branco)\n",
    "meses = np.array(['', 'Jan', 'Feb', 'Mar', 'Apr', 'May', 'Jun', 'Jul', 'Aug', 'Sep', 'Oct', 'Nov', 'Dec'])\n",
    "\n",
    "# Loop para converter os nomes dos meses em valores numéricos\n",
    "# Chamamos isso de label encoding\n",
    "for i in range(13):\n",
    "        arr_strings[:,0] = np.where(arr_strings[:,0] == meses[i], i, arr_strings[:,0])\n",
    "        \n",
    "np.unique(arr_strings[:,0])"
   ]
  },
  {
   "cell_type": "markdown",
   "id": "9bb5be1c",
   "metadata": {},
   "source": [
    "### Pré-Processamento da Variável loan_status com Binarização"
   ]
  },
  {
   "cell_type": "code",
   "execution_count": 204,
   "id": "1793c575",
   "metadata": {},
   "outputs": [
    {
     "data": {
      "text/plain": [
       "array(['', 'Charged Off', 'Current', 'Default', 'Fully Paid', 'In Grace Period', 'Issued', 'Late (16-30 days)', 'Late (31-120 days)'], dtype='<U69')"
      ]
     },
     "execution_count": 204,
     "metadata": {},
     "output_type": "execute_result"
    }
   ],
   "source": [
    " # Extrai os valores únicos da variável\n",
    "np.unique(arr_strings[:,1])"
   ]
  },
  {
   "cell_type": "markdown",
   "id": "57d69d33",
   "metadata": {},
   "source": [
    "Após tomada de decisão decidimos resumir a informação da variável em dois grupos (0 mal pagador e 1 bom pagador)"
   ]
  },
  {
   "cell_type": "code",
   "execution_count": 205,
   "id": "11daef8c",
   "metadata": {},
   "outputs": [],
   "source": [
    "# Criamos um array com apenas 3 status para mau pagador (0)\n",
    "status_bad = np.array(['', 'Charged Off', 'Default', 'Late (31-120 days)'])"
   ]
  },
  {
   "cell_type": "code",
   "execution_count": 206,
   "id": "a556c2f4",
   "metadata": {},
   "outputs": [],
   "source": [
    "# Checamos agora os valores da variável e comparamos com o array anterior convertendo a variável para\n",
    "# valores binários\n",
    "# Chamamos isso de binarização\n",
    "arr_strings[:,1] = np.where(np.isin(arr_strings[:,1], status_bad),0,1)"
   ]
  },
  {
   "cell_type": "code",
   "execution_count": 207,
   "id": "682493d0",
   "metadata": {},
   "outputs": [
    {
     "data": {
      "text/plain": [
       "array(['0', '1'], dtype='<U69')"
      ]
     },
     "execution_count": 207,
     "metadata": {},
     "output_type": "execute_result"
    }
   ],
   "source": [
    "# Extrai os valores únicos da variável\n",
    "np.unique(arr_strings[:,1])"
   ]
  },
  {
   "cell_type": "markdown",
   "id": "67a864c7",
   "metadata": {},
   "source": [
    "### Pré-Processamento da Variável term com Limpeza de String"
   ]
  },
  {
   "cell_type": "code",
   "execution_count": 208,
   "id": "16b1e89e",
   "metadata": {},
   "outputs": [
    {
     "data": {
      "text/plain": [
       "array(['', '36 months', '60 months'], dtype='<U69')"
      ]
     },
     "execution_count": 208,
     "metadata": {},
     "output_type": "execute_result"
    }
   ],
   "source": [
    "# Extrai os valores únicos da variável\n",
    "np.unique(arr_strings[:,2])"
   ]
  },
  {
   "cell_type": "code",
   "execution_count": 209,
   "id": "2db71965",
   "metadata": {},
   "outputs": [],
   "source": [
    "# Mudamos o título da variável\n",
    "header_strings[2] = \"term_months\""
   ]
  },
  {
   "cell_type": "code",
   "execution_count": 210,
   "id": "f9c09e21",
   "metadata": {},
   "outputs": [
    {
     "data": {
      "text/plain": [
       "array(['', '36', '60'], dtype='<U69')"
      ]
     },
     "execution_count": 210,
     "metadata": {},
     "output_type": "execute_result"
    }
   ],
   "source": [
    "# Removemos a palavra months (observe o espaço antes da palavra)\n",
    "arr_strings[:,2] = np.chararray.strip(arr_strings[:,2], \" months\")\n",
    "\n",
    "# Extrai os valores únicos da variável\n",
    "np.unique(arr_strings[:,2])"
   ]
  },
  {
   "cell_type": "code",
   "execution_count": 211,
   "id": "5c26dd52",
   "metadata": {},
   "outputs": [],
   "source": [
    "# Substituímos os valores ausentes pelo maior valor, em nosso caso 60\n",
    "arr_strings[:,2] = np.where(arr_strings[:,2] == '', '60', arr_strings[:,2])"
   ]
  },
  {
   "cell_type": "code",
   "execution_count": 212,
   "id": "d2b85367",
   "metadata": {},
   "outputs": [
    {
     "data": {
      "text/plain": [
       "array(['36', '60'], dtype='<U69')"
      ]
     },
     "execution_count": 212,
     "metadata": {},
     "output_type": "execute_result"
    }
   ],
   "source": [
    "# Extrai os valores únicos da variável\n",
    "np.unique(arr_strings[:,2])"
   ]
  },
  {
   "cell_type": "markdown",
   "id": "8d324466",
   "metadata": {},
   "source": [
    "### Pré-Processamento das Variáveis grade e sub_grade com Dicionário (É um Tipo de Label Encoding)"
   ]
  },
  {
   "cell_type": "code",
   "execution_count": 213,
   "id": "3957f2d9",
   "metadata": {},
   "outputs": [
    {
     "data": {
      "text/plain": [
       "array(['', 'A', 'B', 'C', 'D', 'E', 'F', 'G'], dtype='<U69')"
      ]
     },
     "execution_count": 213,
     "metadata": {},
     "output_type": "execute_result"
    }
   ],
   "source": [
    "# Extrai os valores únicos da variável grade\n",
    "np.unique(arr_strings[:,3])"
   ]
  },
  {
   "cell_type": "code",
   "execution_count": 214,
   "id": "28242cc5",
   "metadata": {
    "scrolled": true
   },
   "outputs": [
    {
     "data": {
      "text/plain": [
       "array(['', 'A1', 'A2', 'A3', 'A4', 'A5', 'B1', 'B2', 'B3', 'B4', 'B5', 'C1', 'C2', 'C3', 'C4', 'C5', 'D1', 'D2', 'D3', 'D4', 'D5', 'E1', 'E2', 'E3', 'E4', 'E5', 'F1', 'F2', 'F3', 'F4', 'F5', 'G1',\n",
       "       'G2', 'G3', 'G4', 'G5'], dtype='<U69')"
      ]
     },
     "execution_count": 214,
     "metadata": {},
     "output_type": "execute_result"
    }
   ],
   "source": [
    "# Extrai os valores únicos da variável sub_grade\n",
    "np.unique(arr_strings[:,4])"
   ]
  },
  {
   "cell_type": "code",
   "execution_count": 215,
   "id": "2b9f33b2",
   "metadata": {},
   "outputs": [
    {
     "data": {
      "text/plain": [
       "array(['A', 'B', 'C', 'D', 'E', 'F', 'G'], dtype='<U69')"
      ]
     },
     "execution_count": 215,
     "metadata": {},
     "output_type": "execute_result"
    }
   ],
   "source": [
    "# Visualiza os valores únicos da variável grade sem NA (será usado no loop)\n",
    "np.unique(arr_strings[:,3])[1:]"
   ]
  },
  {
   "cell_type": "code",
   "execution_count": 216,
   "id": "ef3bbb3e",
   "metadata": {},
   "outputs": [],
   "source": [
    "# Loop para ajuste da variável sub_grade\n",
    "# O loop identifica casos em que a sub_grade está vazia (''), mas a variavel grade correspondente tem um valor.\n",
    "# Nesses casos, atribui-se à sub_grade o valor da grade com um '5' adicionado ao final. \n",
    "\n",
    "for i in np.unique(arr_strings[:,3])[1:]:\n",
    "    arr_strings[:,4] = np.where((arr_strings[:,4] == '') & (arr_strings[:,3] == i), i + '5', arr_strings[:,4])"
   ]
  },
  {
   "cell_type": "code",
   "execution_count": 217,
   "id": "687daec8",
   "metadata": {},
   "outputs": [
    {
     "data": {
      "text/plain": [
       "(array(['', 'A1', 'A2', 'A3', 'A4', 'A5', 'B1', 'B2', 'B3', 'B4', 'B5', 'C1', 'C2', 'C3', 'C4', 'C5', 'D1', 'D2', 'D3', 'D4', 'D5', 'E1', 'E2', 'E3', 'E4', 'E5', 'F1', 'F2', 'F3', 'F4', 'F5', 'G1',\n",
       "        'G2', 'G3', 'G4', 'G5'], dtype='<U69'),\n",
       " array([  9, 285, 278, 239, 323, 592, 509, 517, 530, 553, 633, 629, 567, 586, 564, 577, 391, 267, 250, 255, 288, 235, 162, 171, 139, 160,  94,  52,  34,  43,  24,  19,  10,   3,   7,   5]))"
      ]
     },
     "execution_count": 217,
     "metadata": {},
     "output_type": "execute_result"
    }
   ],
   "source": [
    "# Retorna categorias e suas respectivas contagens\n",
    "np.unique(arr_strings[:,4], return_counts = True)"
   ]
  },
  {
   "cell_type": "code",
   "execution_count": 218,
   "id": "c0619271",
   "metadata": {},
   "outputs": [
    {
     "data": {
      "text/plain": [
       "array(['A1', 'A2', 'A3', 'A4', 'A5', 'B1', 'B2', 'B3', 'B4', 'B5', 'C1', 'C2', 'C3', 'C4', 'C5', 'D1', 'D2', 'D3', 'D4', 'D5', 'E1', 'E2', 'E3', 'E4', 'E5', 'F1', 'F2', 'F3', 'F4', 'F5', 'G1', 'G2',\n",
       "       'G3', 'G4', 'G5', 'H1'], dtype='<U69')"
      ]
     },
     "execution_count": 218,
     "metadata": {},
     "output_type": "execute_result"
    }
   ],
   "source": [
    "# Substituímos valores ausentes de sub_grade por uma nova categoria (H1)\n",
    "arr_strings[:,4] = np.where(arr_strings[:,4] == '', 'H1', arr_strings[:,4])\n",
    "\n",
    "# Extrai os valores únicos da variável\n",
    "np.unique(arr_strings[:,4])"
   ]
  },
  {
   "cell_type": "code",
   "execution_count": 219,
   "id": "e8cf440c",
   "metadata": {},
   "outputs": [],
   "source": [
    "# Removendo variável grade (não precisamos mais dela)\n",
    "\n",
    "arr_strings = np.delete(arr_strings, 3, axis = 1)"
   ]
  },
  {
   "cell_type": "code",
   "execution_count": 220,
   "id": "5f18d3e8",
   "metadata": {},
   "outputs": [
    {
     "data": {
      "text/plain": [
       "array(['C3', 'A5', 'B5', ..., 'A5', 'D2', 'A4'], dtype='<U69')"
      ]
     },
     "execution_count": 220,
     "metadata": {},
     "output_type": "execute_result"
    }
   ],
   "source": [
    "# Visualizando a nova variável na coluna de índice 3 (antiga grade)\n",
    "\n",
    "arr_strings[:,3]"
   ]
  },
  {
   "cell_type": "code",
   "execution_count": 221,
   "id": "33926086",
   "metadata": {},
   "outputs": [
    {
     "data": {
      "text/plain": [
       "'sub_grade'"
      ]
     },
     "execution_count": 221,
     "metadata": {},
     "output_type": "execute_result"
    }
   ],
   "source": [
    "# Remover a coluna grade também do conjunto de array com nome dsa colunas\n",
    "header_strings = np.delete(header_strings, 3)\n",
    "\n",
    "# Visualizando a nova variável na coluna de índice 3 (antiga grade)\n",
    "header_strings[3]"
   ]
  },
  {
   "cell_type": "markdown",
   "id": "fa254402",
   "metadata": {},
   "source": [
    "#### Por fim, convertemos a variável sub_grade para sua representação numérica (através de um dicionário)"
   ]
  },
  {
   "cell_type": "code",
   "execution_count": 222,
   "id": "99748a6d",
   "metadata": {},
   "outputs": [
    {
     "name": "stdout",
     "output_type": "stream",
     "text": [
      "['A1' 'A2' 'A3' 'A4' 'A5' 'B1' 'B2' 'B3' 'B4' 'B5' 'C1' 'C2' 'C3' 'C4' 'C5' 'D1' 'D2' 'D3' 'D4' 'D5' 'E1' 'E2' 'E3' 'E4' 'E5' 'F1' 'F2' 'F3' 'F4' 'F5' 'G1' 'G2' 'G3' 'G4' 'G5' 'H1']\n"
     ]
    }
   ],
   "source": [
    "# Visualiza como estão os valores únicos da variável sub_grade\n",
    "print(np.unique(arr_strings[:,3]))"
   ]
  },
  {
   "cell_type": "code",
   "execution_count": 223,
   "id": "8e0ee995",
   "metadata": {},
   "outputs": [
    {
     "name": "stdout",
     "output_type": "stream",
     "text": [
      "A1\n"
     ]
    }
   ],
   "source": [
    "# Cria uma lista de chaves (com valores da categoria)\n",
    "keys = list(np.unique(arr_strings[:,3]))     \n",
    "print(keys[0])"
   ]
  },
  {
   "cell_type": "code",
   "execution_count": 224,
   "id": "1ddde445",
   "metadata": {},
   "outputs": [
    {
     "name": "stdout",
     "output_type": "stream",
     "text": [
      "1\n"
     ]
    }
   ],
   "source": [
    "# Cria uma lista de valores (números)\n",
    "values = list(range(1, np.unique(arr_strings[:,3]).shape[0] + 1)) \n",
    "print(values[0])\n"
   ]
  },
  {
   "cell_type": "code",
   "execution_count": 225,
   "id": "098d2a6c",
   "metadata": {},
   "outputs": [
    {
     "data": {
      "text/plain": [
       "{'A1': 1,\n",
       " 'A2': 2,\n",
       " 'A3': 3,\n",
       " 'A4': 4,\n",
       " 'A5': 5,\n",
       " 'B1': 6,\n",
       " 'B2': 7,\n",
       " 'B3': 8,\n",
       " 'B4': 9,\n",
       " 'B5': 10,\n",
       " 'C1': 11,\n",
       " 'C2': 12,\n",
       " 'C3': 13,\n",
       " 'C4': 14,\n",
       " 'C5': 15,\n",
       " 'D1': 16,\n",
       " 'D2': 17,\n",
       " 'D3': 18,\n",
       " 'D4': 19,\n",
       " 'D5': 20,\n",
       " 'E1': 21,\n",
       " 'E2': 22,\n",
       " 'E3': 23,\n",
       " 'E4': 24,\n",
       " 'E5': 25,\n",
       " 'F1': 26,\n",
       " 'F2': 27,\n",
       " 'F3': 28,\n",
       " 'F4': 29,\n",
       " 'F5': 30,\n",
       " 'G1': 31,\n",
       " 'G2': 32,\n",
       " 'G3': 33,\n",
       " 'G4': 34,\n",
       " 'G5': 35,\n",
       " 'H1': 36}"
      ]
     },
     "execution_count": 225,
     "metadata": {},
     "output_type": "execute_result"
    }
   ],
   "source": [
    "# Criamos então o dicionário (cada categoria tem seu valor numérico)\n",
    "dict_sub_grade = dict(zip(keys, values))\n",
    "\n",
    "dict_sub_grade"
   ]
  },
  {
   "cell_type": "code",
   "execution_count": 226,
   "id": "c11b75b4",
   "metadata": {},
   "outputs": [
    {
     "data": {
      "text/plain": [
       "array(['1', '10', '11', '12', '13', '14', '15', '16', '17', '18', '19', '2', '20', '21', '22', '23', '24', '25', '26', '27', '28', '29', '3', '30', '31', '32', '33', '34', '35', '36', '4', '5', '6',\n",
       "       '7', '8', '9'], dtype='<U69')"
      ]
     },
     "execution_count": 226,
     "metadata": {},
     "output_type": "execute_result"
    }
   ],
   "source": [
    "# Loop para substituir a string com as categorias pela representação numérica (frequência)\n",
    "\n",
    "for i in np.unique(arr_strings[:,3]):\n",
    "        arr_strings[:,3] = np.where(arr_strings[:,3] == i, dict_sub_grade[i], arr_strings[:,3])\n",
    "        \n",
    "# Verifica os valores únicos da variável\n",
    "np.unique(arr_strings[:,3])"
   ]
  },
  {
   "cell_type": "markdown",
   "id": "4aac2b08",
   "metadata": {},
   "source": [
    "### Pré-Processamento da Variável verification_status com Binarização (processo similar a variável loan_status)"
   ]
  },
  {
   "cell_type": "code",
   "execution_count": 227,
   "id": "72442dbc",
   "metadata": {},
   "outputs": [
    {
     "data": {
      "text/plain": [
       "array(['', 'Not Verified', 'Source Verified', 'Verified'], dtype='<U69')"
      ]
     },
     "execution_count": 227,
     "metadata": {},
     "output_type": "execute_result"
    }
   ],
   "source": [
    " # Extrai os valores únicos da variável\n",
    "np.unique(arr_strings[:,4])"
   ]
  },
  {
   "cell_type": "code",
   "execution_count": 228,
   "id": "db9d3e95",
   "metadata": {},
   "outputs": [],
   "source": [
    "# Usamos a binarização nesta variável (0 para valores NA e \"Not Verified\")\n",
    "arr_strings[:,4] = np.where((arr_strings[:,4] == '') | (arr_strings[:,4] == 'Not Verified'), 0, 1)"
   ]
  },
  {
   "cell_type": "code",
   "execution_count": 229,
   "id": "aa461ddd",
   "metadata": {},
   "outputs": [
    {
     "data": {
      "text/plain": [
       "(array(['0', '1'], dtype='<U69'), array([3173, 6827]))"
      ]
     },
     "execution_count": 229,
     "metadata": {},
     "output_type": "execute_result"
    }
   ],
   "source": [
    "# Verifica novamente os valores únicos da variável\n",
    "np.unique(arr_strings[:,4], return_counts = True)"
   ]
  },
  {
   "cell_type": "markdown",
   "id": "49f87766",
   "metadata": {},
   "source": [
    "### Pré-Processamento da Variável url com Extração de ID"
   ]
  },
  {
   "cell_type": "code",
   "execution_count": 230,
   "id": "b546b409",
   "metadata": {},
   "outputs": [
    {
     "data": {
      "text/plain": [
       "array(['https://www.lendingclub.com/browse/loanDetail.action?loan_id=48010226', 'https://www.lendingclub.com/browse/loanDetail.action?loan_id=57693261',\n",
       "       'https://www.lendingclub.com/browse/loanDetail.action?loan_id=59432726', ..., 'https://www.lendingclub.com/browse/loanDetail.action?loan_id=50415990',\n",
       "       'https://www.lendingclub.com/browse/loanDetail.action?loan_id=46154151', 'https://www.lendingclub.com/browse/loanDetail.action?loan_id=66055249'], dtype='<U69')"
      ]
     },
     "execution_count": 230,
     "metadata": {},
     "output_type": "execute_result"
    }
   ],
   "source": [
    "# Visualiza amostra dos dados\n",
    "arr_strings[:,5]"
   ]
  },
  {
   "cell_type": "code",
   "execution_count": 231,
   "id": "19f7ed2c",
   "metadata": {},
   "outputs": [
    {
     "data": {
      "text/plain": [
       "chararray(['48010226', '57693261', '59432726', ..., '50415990', '46154151', '66055249'], dtype='<U69')"
      ]
     },
     "execution_count": 231,
     "metadata": {},
     "output_type": "execute_result"
    }
   ],
   "source": [
    "# Verificamos que ao final de cada url temos um ID\n",
    "# Vamos extrair esse ID\n",
    "np.chararray.strip(arr_strings[:,5], \"https://www.lendingclub.com/browse/loanDetail.action?loan_id=\")"
   ]
  },
  {
   "cell_type": "code",
   "execution_count": 232,
   "id": "484f93e4",
   "metadata": {},
   "outputs": [],
   "source": [
    "# Agora vamos remover valor da url e deixar apenas o ID na variável\n",
    "arr_strings[:,5] = np.chararray.strip(arr_strings[:,5], \n",
    "                                      \"https://www.lendingclub.com/browse/loanDetail.action?loan_id=\")"
   ]
  },
  {
   "cell_type": "code",
   "execution_count": 233,
   "id": "7555c17a",
   "metadata": {},
   "outputs": [
    {
     "name": "stdout",
     "output_type": "stream",
     "text": [
      "[48010226 57693261 59432726 ... 50415990 46154151 66055249]\n"
     ]
    }
   ],
   "source": [
    "# Parece que esse id está presente na primeira coluna do conjunto de dados.\n",
    "# Vamos converter para int 32 para comparação\n",
    "\n",
    "print(arr_numeric[:,0].astype(dtype = np.int32))"
   ]
  },
  {
   "cell_type": "code",
   "execution_count": 234,
   "id": "3e65ce20",
   "metadata": {},
   "outputs": [
    {
     "data": {
      "text/plain": [
       "True"
      ]
     },
     "execution_count": 234,
     "metadata": {},
     "output_type": "execute_result"
    }
   ],
   "source": [
    "# Agora vamos comparar com o resultado da primeira coluna\n",
    "np.array_equal(arr_numeric[:,0].astype(dtype = np.int32), arr_strings[:,5].astype(dtype = np.int32))"
   ]
  },
  {
   "cell_type": "code",
   "execution_count": 237,
   "id": "94ec1278",
   "metadata": {},
   "outputs": [],
   "source": [
    "# Constatamos que é a mesma informação\n",
    "# Vamos então apagar a variável url\n",
    "arr_strings = np.delete(arr_strings, 5, axis = 1)\n",
    "\n",
    "# Removendo também do array de cabeçalho\n",
    "header_strings = np.delete(header_strings, 5)"
   ]
  },
  {
   "cell_type": "code",
   "execution_count": 239,
   "id": "750bd2ca",
   "metadata": {},
   "outputs": [
    {
     "name": "stdout",
     "output_type": "stream",
     "text": [
      "['issue_date' 'loan_status' 'term_months' 'sub_grade' 'verification_status' 'addr_state']\n",
      "['id' 'loan_amnt' 'funded_amnt' 'int_rate' 'installment' 'total_pymnt']\n"
     ]
    }
   ],
   "source": [
    "# Verificando Nova lista de colunas (constatando que a coluna ID ja era numérica)\n",
    "print(header_strings)\n",
    "print(header_numeric)"
   ]
  },
  {
   "cell_type": "markdown",
   "id": "e9037dba",
   "metadata": {},
   "source": [
    "### Pré-Processamento da Variável address com Categorização"
   ]
  },
  {
   "cell_type": "code",
   "execution_count": 240,
   "id": "ee5685d7",
   "metadata": {},
   "outputs": [
    {
     "data": {
      "text/plain": [
       "array(['issue_date', 'loan_status', 'term_months', 'sub_grade', 'verification_status', 'addr_state'], dtype='<U19')"
      ]
     },
     "execution_count": 240,
     "metadata": {},
     "output_type": "execute_result"
    }
   ],
   "source": [
    "header_strings"
   ]
  },
  {
   "cell_type": "code",
   "execution_count": 241,
   "id": "3180b7b5",
   "metadata": {},
   "outputs": [],
   "source": [
    "# Vamos ajustar o nome da coluna\n",
    "header_strings[5] = \"state_address\""
   ]
  },
  {
   "cell_type": "code",
   "execution_count": 242,
   "id": "4e1b89b9",
   "metadata": {},
   "outputs": [],
   "source": [
    "# Extrai e verifica nomes e contagens\n",
    "states_names, states_count = np.unique(arr_strings[:,5], return_counts = True)"
   ]
  },
  {
   "cell_type": "code",
   "execution_count": 243,
   "id": "0fe34822",
   "metadata": {},
   "outputs": [],
   "source": [
    "# Ordena em ordem descrescente\n",
    "states_count_sorted = np.argsort(-states_count)"
   ]
  },
  {
   "cell_type": "code",
   "execution_count": 245,
   "id": "69284fc8",
   "metadata": {},
   "outputs": [
    {
     "name": "stdout",
     "output_type": "stream",
     "text": [
      "['CA' 'NY' 'TX' 'FL' '' 'IL' 'NJ' 'GA' 'PA' 'OH' 'MI' 'NC' 'VA' 'MD' 'AZ' 'WA' 'MA' 'CO' 'MO' 'MN' 'IN' 'WI' 'CT' 'TN' 'NV' 'AL' 'LA' 'OR' 'SC' 'KY' 'KS' 'OK' 'UT' 'AR' 'MS' 'NH' 'NM' 'WV' 'HI' 'RI'\n",
      " 'MT' 'DE' 'DC' 'WY' 'AK' 'NE' 'SD' 'VT' 'ND' 'ME']\n",
      "[1336  777  758  690  500  389  341  321  320  312  267  261  242  222  220  216  210  201  160  156  152  148  143  143  130  119  116  108  107   84   84   83   74   74   61   58   57   49   44\n",
      "   40   28   27   27   27   26   25   24   17   16   10]\n"
     ]
    }
   ],
   "source": [
    "# Imprime os resultados (todos os tipos de estado e suas respectivas quantidades)\n",
    "print(states_names[states_count_sorted]) \n",
    "print(states_count[states_count_sorted])"
   ]
  },
  {
   "cell_type": "code",
   "execution_count": 246,
   "id": "8cc414ac",
   "metadata": {},
   "outputs": [],
   "source": [
    "# Substituímos valores ausentes por zero (necessário para transformar a variável em tipo numérico)\n",
    "arr_strings[:,5] = np.where(arr_strings[:,5] == '', 0, arr_strings[:,5])"
   ]
  },
  {
   "cell_type": "code",
   "execution_count": 247,
   "id": "6bdd1d36",
   "metadata": {},
   "outputs": [],
   "source": [
    "# Vamos separar os estados por regiões.\n",
    "# Referência: https://www2.census.gov/geo/pdfs/maps-data/maps/reference/us_regdiv.pdf\n",
    "\n",
    "# Criando Arrays Por Região\n",
    "states_west = np.array(['WA', 'OR','CA','NV','ID','MT', 'WY','UT','CO', 'AZ','NM','HI','AK'])\n",
    "states_south = np.array(['TX','OK','AR','LA','MS','AL','TN','KY','FL','GA','SC','NC','VA','WV','MD','DE','DC'])\n",
    "states_midwest = np.array(['ND','SD','NE','KS','MN','IA','MO','WI','IL','IN','MI','OH'])\n",
    "states_east = np.array(['PA','NY','NJ','CT','MA','VT','NH','ME','RI'])"
   ]
  },
  {
   "cell_type": "code",
   "execution_count": 248,
   "id": "3ed34f6a",
   "metadata": {},
   "outputs": [],
   "source": [
    "# Agora substituímos cada estado pelo id da sua região\n",
    "arr_strings[:,5] = np.where(np.isin(arr_strings[:,5], states_west), 1, arr_strings[:,5])\n",
    "arr_strings[:,5] = np.where(np.isin(arr_strings[:,5], states_south), 2, arr_strings[:,5])\n",
    "arr_strings[:,5] = np.where(np.isin(arr_strings[:,5], states_midwest), 3, arr_strings[:,5])\n",
    "arr_strings[:,5] = np.where(np.isin(arr_strings[:,5], states_east), 4, arr_strings[:,5])"
   ]
  },
  {
   "cell_type": "code",
   "execution_count": 249,
   "id": "8f9706b7",
   "metadata": {},
   "outputs": [
    {
     "data": {
      "text/plain": [
       "(array(['0', '1', '2', '3', '4'], dtype='<U69'),\n",
       " array([ 500, 2467, 3384, 1733, 1916]))"
      ]
     },
     "execution_count": 249,
     "metadata": {},
     "output_type": "execute_result"
    }
   ],
   "source": [
    "# Verifica novamente os valores únicos da variável\n",
    "np.unique(arr_strings[:,5], return_counts = True)"
   ]
  },
  {
   "cell_type": "markdown",
   "id": "dcaa4ea7",
   "metadata": {},
   "source": [
    "### Convertendo o Array\n",
    "#### Nosso array de strings agora é um array numérico. Vamos ajustar o tipo de dado.\n",
    "Diferente do R, devemos conveter nosso array com variáveis categóricas em numérica "
   ]
  },
  {
   "cell_type": "code",
   "execution_count": 250,
   "id": "62d4bf71",
   "metadata": {},
   "outputs": [
    {
     "data": {
      "text/plain": [
       "array([['5', '1', '36', '13', '1', '1'],\n",
       "       ['0', '1', '36', '5', '1', '4'],\n",
       "       ['9', '1', '36', '10', '1', '4'],\n",
       "       ...,\n",
       "       ['6', '1', '36', '5', '1', '1'],\n",
       "       ['4', '1', '36', '17', '1', '3'],\n",
       "       ['12', '1', '36', '4', '0', '3']], dtype='<U69')"
      ]
     },
     "execution_count": 250,
     "metadata": {},
     "output_type": "execute_result"
    }
   ],
   "source": [
    "# Verificando com nosso array de variáveis categóricas contém somente números agora\n",
    "arr_strings"
   ]
  },
  {
   "cell_type": "code",
   "execution_count": 251,
   "id": "2ee2b307",
   "metadata": {},
   "outputs": [
    {
     "data": {
      "text/plain": [
       "dtype('int64')"
      ]
     },
     "execution_count": 251,
     "metadata": {},
     "output_type": "execute_result"
    }
   ],
   "source": [
    "# Modificando para tipo inteiro\n",
    "arr_strings = arr_strings.astype(int)\n",
    "\n",
    "# Verificando novo tipo\n",
    "arr_strings.dtype"
   ]
  },
  {
   "cell_type": "markdown",
   "id": "f0037540",
   "metadata": {},
   "source": [
    "### Checkpoint com Variáveis do Tipo String Limpas e Pré-Processadas\n",
    "#### Checkpoint 2\n",
    "\n",
    "Concluída a primeira parte, vamos gravar o checkpooint."
   ]
  },
  {
   "cell_type": "code",
   "execution_count": 253,
   "id": "84b1f2fc",
   "metadata": {},
   "outputs": [],
   "source": [
    "checkpoint_strings = checkpoint(\"datasets/Checkpoint-Strings\", header_strings, arr_strings)"
   ]
  },
  {
   "cell_type": "code",
   "execution_count": 254,
   "id": "3f371b55",
   "metadata": {},
   "outputs": [
    {
     "name": "stdout",
     "output_type": "stream",
     "text": [
      "['issue_date' 'loan_status' 'term_months' 'sub_grade' 'verification_status' 'state_address']\n",
      "[[ 5  1 36 13  1  1]\n",
      " [ 0  1 36  5  1  4]\n",
      " [ 9  1 36 10  1  4]\n",
      " ...\n",
      " [ 6  1 36  5  1  1]\n",
      " [ 4  1 36 17  1  3]\n",
      " [12  1 36  4  0  3]]\n",
      "True\n"
     ]
    }
   ],
   "source": [
    "print(checkpoint_strings[\"header\"])\n",
    "print(checkpoint_strings[\"data\"])\n",
    "print(np.array_equal(checkpoint_strings['data'], arr_strings))"
   ]
  },
  {
   "cell_type": "code",
   "execution_count": null,
   "id": "8d161647",
   "metadata": {},
   "outputs": [],
   "source": []
  }
 ],
 "metadata": {
  "kernelspec": {
   "display_name": "Python 3 (ipykernel)",
   "language": "python",
   "name": "python3"
  },
  "language_info": {
   "codemirror_mode": {
    "name": "ipython",
    "version": 3
   },
   "file_extension": ".py",
   "mimetype": "text/x-python",
   "name": "python",
   "nbconvert_exporter": "python",
   "pygments_lexer": "ipython3",
   "version": "3.9.7"
  }
 },
 "nbformat": 4,
 "nbformat_minor": 5
}
