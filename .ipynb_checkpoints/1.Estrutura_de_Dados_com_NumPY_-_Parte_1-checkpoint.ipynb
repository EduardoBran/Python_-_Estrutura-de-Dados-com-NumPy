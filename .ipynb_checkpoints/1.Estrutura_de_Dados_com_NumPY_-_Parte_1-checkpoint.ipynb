{
 "cells": [
  {
   "cell_type": "code",
   "execution_count": 8,
   "id": "f9f7eda3",
   "metadata": {},
   "outputs": [
    {
     "name": "stdout",
     "output_type": "stream",
     "text": [
      "Versão da Linguagem Python Usada Neste Jupyter Notebook:  3.9.7\n"
     ]
    }
   ],
   "source": [
    "# Versão da Linguagem Python\n",
    "from platform import python_version\n",
    "print('Versão da Linguagem Python Usada Neste Jupyter Notebook: ', python_version())"
   ]
  },
  {
   "cell_type": "code",
   "execution_count": 9,
   "id": "4201ab2a",
   "metadata": {},
   "outputs": [],
   "source": [
    "# Para instalar um pacote, execute o comando abaixo no terminal ou prompt de comando:\n",
    "# pip install -U nome_pacote\n",
    "\n",
    "# Para instalar a versão exata de um pacote, execute o comando abaixo no terminal ou prompt de comando:\n",
    "# !pip install nome_pacote==versao_desejada\n",
    "\n",
    "# Depois de instalar ou atualizar o pacote, reinicie o jupyter notebook\n",
    "\n",
    "# Instala o pacote watermark.\n",
    "!pip install -q -U watermark"
   ]
  },
  {
   "cell_type": "code",
   "execution_count": 10,
   "id": "37c22fc8",
   "metadata": {},
   "outputs": [],
   "source": [
    "# Importando o módulo/pacote NumPy\n",
    "import numpy as np"
   ]
  },
  {
   "cell_type": "code",
   "execution_count": 11,
   "id": "cf5f6065",
   "metadata": {},
   "outputs": [
    {
     "name": "stdout",
     "output_type": "stream",
     "text": [
      "Requirement already satisfied: numpy==1.22.3 in /home/eduardo/anaconda3/lib/python3.9/site-packages (1.22.3)\r\n"
     ]
    }
   ],
   "source": [
    "# Instalando Mesma Versão do NumPy do Curso\n",
    "# !pip install numpy==1.22.3"
   ]
  },
  {
   "cell_type": "code",
   "execution_count": 12,
   "id": "550a7f5f",
   "metadata": {
    "scrolled": true
   },
   "outputs": [
    {
     "name": "stdout",
     "output_type": "stream",
     "text": [
      "Author: Data Science Academy\n",
      "\n",
      "numpy: 1.22.3\n",
      "\n"
     ]
    }
   ],
   "source": [
    "# Versões dos pacotes usados neste jupyter notebook\n",
    "%reload_ext watermark\n",
    "%watermark -a \"Data Science Academy\" --iversions"
   ]
  },
  {
   "cell_type": "markdown",
   "id": "7dce029f",
   "metadata": {},
   "source": [
    "# Criando Estruturas de Dados NumPy"
   ]
  },
  {
   "cell_type": "code",
   "execution_count": 18,
   "id": "241ca4f7",
   "metadata": {},
   "outputs": [
    {
     "name": "stdout",
     "output_type": "stream",
     "text": [
      "[10 20 30 40]\n",
      "(4,)\n",
      "1\n"
     ]
    }
   ],
   "source": [
    "# Criando Array Unidimensional\n",
    "array1 = np.array([10, 20, 30, 40])\n",
    "print(array1)\n",
    "\n",
    "# Verificando formato (shape) do array\n",
    "print(array1.shape)\n",
    "\n",
    "# Verificando o número de dimensões\n",
    "print(array1.ndim)"
   ]
  },
  {
   "cell_type": "code",
   "execution_count": 19,
   "id": "2d2ae3a0",
   "metadata": {},
   "outputs": [
    {
     "name": "stdout",
     "output_type": "stream",
     "text": [
      "[[100  83  15]\n",
      " [ 42  78   0]]\n",
      "(2, 3)\n",
      "2\n"
     ]
    }
   ],
   "source": [
    "# Criando Array Bidimensional\n",
    "array2 = np.array([[100, 83, 15], [42, 78, 0]])\n",
    "print(array2)\n",
    "\n",
    "# Verificando formato (shape) do array\n",
    "print(array2.shape)\n",
    "\n",
    "# Verificando o número de dimensões\n",
    "print(array2.ndim)"
   ]
  },
  {
   "cell_type": "code",
   "execution_count": null,
   "id": "485b5e5c",
   "metadata": {},
   "outputs": [],
   "source": []
  }
 ],
 "metadata": {
  "kernelspec": {
   "display_name": "Python 3 (ipykernel)",
   "language": "python",
   "name": "python3"
  },
  "language_info": {
   "codemirror_mode": {
    "name": "ipython",
    "version": 3
   },
   "file_extension": ".py",
   "mimetype": "text/x-python",
   "name": "python",
   "nbconvert_exporter": "python",
   "pygments_lexer": "ipython3",
   "version": "3.9.7"
  }
 },
 "nbformat": 4,
 "nbformat_minor": 5
}
