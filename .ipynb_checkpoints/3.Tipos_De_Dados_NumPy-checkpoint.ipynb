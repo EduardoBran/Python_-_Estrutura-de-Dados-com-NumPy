{
 "cells": [
  {
   "cell_type": "code",
   "execution_count": 5,
   "id": "b1c45199",
   "metadata": {},
   "outputs": [],
   "source": [
    "# Importando o módulo/pacote NumPy\n",
    "import numpy as np"
   ]
  },
  {
   "cell_type": "markdown",
   "id": "9a894f15",
   "metadata": {},
   "source": [
    "# Tipos de Dados NumPy"
   ]
  },
  {
   "cell_type": "code",
   "execution_count": 9,
   "id": "5e824c51",
   "metadata": {},
   "outputs": [
    {
     "name": "stdout",
     "output_type": "stream",
     "text": [
      "[2 4 6 8]\n",
      "int64\n"
     ]
    }
   ],
   "source": [
    "# Exemplo 1\n",
    "\n",
    "array1 = np.array([2, 4, 6, 8])\n",
    "print(array1)\n",
    "print(array1.dtype)"
   ]
  },
  {
   "cell_type": "code",
   "execution_count": 10,
   "id": "78ef1305",
   "metadata": {},
   "outputs": [
    {
     "name": "stdout",
     "output_type": "stream",
     "text": [
      "[ 8. -3.  5.  9.]\n",
      "float64\n"
     ]
    }
   ],
   "source": [
    "# Exemplo 2\n",
    "\n",
    "array2 = np.array([8, -3, 5, 9], dtype = 'float')\n",
    "print(array2)\n",
    "print(array2.dtype)"
   ]
  },
  {
   "cell_type": "code",
   "execution_count": 11,
   "id": "745d1c5d",
   "metadata": {},
   "outputs": [
    {
     "name": "stdout",
     "output_type": "stream",
     "text": [
      "[2. 4. 6. 8.]\n",
      "float64\n"
     ]
    }
   ],
   "source": [
    "# Exemplo 3\n",
    "\n",
    "array3 = np.array([2.0, 4, 6, 8])\n",
    "print(array3)\n",
    "print(array3.dtype)"
   ]
  },
  {
   "cell_type": "code",
   "execution_count": 12,
   "id": "f4874fd6",
   "metadata": {},
   "outputs": [
    {
     "name": "stdout",
     "output_type": "stream",
     "text": [
      "['Data' 'Science' 'Academy']\n",
      "<U7\n"
     ]
    }
   ],
   "source": [
    "# Exemplo 4\n",
    "\n",
    "array4 = np.array(['Data', 'Science', 'Academy'])\n",
    "print(array4)\n",
    "print(array4.dtype)"
   ]
  },
  {
   "cell_type": "code",
   "execution_count": 13,
   "id": "e58b6293",
   "metadata": {},
   "outputs": [
    {
     "name": "stdout",
     "output_type": "stream",
     "text": [
      "[ True False  True]\n",
      "bool\n"
     ]
    }
   ],
   "source": [
    "# Exemplo 5\n",
    "\n",
    "array5 = np.array([True, False, True])\n",
    "print(array5)\n",
    "print(array5.dtype)"
   ]
  },
  {
   "cell_type": "code",
   "execution_count": 14,
   "id": "2a695ddb",
   "metadata": {},
   "outputs": [
    {
     "name": "stdout",
     "output_type": "stream",
     "text": [
      "[ 7.   -3.    5.24]\n",
      "float64\n"
     ]
    }
   ],
   "source": [
    "# Exemplo 6\n",
    "\n",
    "array6 = np.array([7, -3, 5.24])\n",
    "print(array6)\n",
    "print(array6.dtype)"
   ]
  },
  {
   "cell_type": "code",
   "execution_count": 16,
   "id": "7283fd52",
   "metadata": {},
   "outputs": [
    {
     "data": {
      "text/plain": [
       "array([ 7, -3,  5])"
      ]
     },
     "execution_count": 16,
     "metadata": {},
     "output_type": "execute_result"
    }
   ],
   "source": [
    "# Modificando Exemplo 6 Para Tipo Inteiro\n",
    "\n",
    "array6.astype(int)"
   ]
  },
  {
   "cell_type": "code",
   "execution_count": null,
   "id": "8c6c7b37",
   "metadata": {},
   "outputs": [],
   "source": []
  }
 ],
 "metadata": {
  "kernelspec": {
   "display_name": "Python 3 (ipykernel)",
   "language": "python",
   "name": "python3"
  },
  "language_info": {
   "codemirror_mode": {
    "name": "ipython",
    "version": 3
   },
   "file_extension": ".py",
   "mimetype": "text/x-python",
   "name": "python",
   "nbconvert_exporter": "python",
   "pygments_lexer": "ipython3",
   "version": "3.9.7"
  }
 },
 "nbformat": 4,
 "nbformat_minor": 5
}
