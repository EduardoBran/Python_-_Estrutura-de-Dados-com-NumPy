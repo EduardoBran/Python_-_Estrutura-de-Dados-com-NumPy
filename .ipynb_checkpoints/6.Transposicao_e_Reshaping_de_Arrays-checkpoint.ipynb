{
 "cells": [
  {
   "cell_type": "code",
   "execution_count": 1,
   "id": "8664a7b4",
   "metadata": {},
   "outputs": [],
   "source": [
    "# Importando o módulo/pacote NumPy\n",
    "import numpy as np"
   ]
  },
  {
   "cell_type": "markdown",
   "id": "245760e1",
   "metadata": {},
   "source": [
    "# Transposição e Reshaping de Arrays"
   ]
  },
  {
   "cell_type": "code",
   "execution_count": 3,
   "id": "2e06bce4",
   "metadata": {},
   "outputs": [
    {
     "name": "stdout",
     "output_type": "stream",
     "text": [
      "[[65 23 19]\n",
      " [41 87 10]]\n"
     ]
    }
   ],
   "source": [
    "# Criando Array\n",
    "\n",
    "array1 = np.array([[65, 23, 19], [41, 87, 10]])\n",
    "print(array1)"
   ]
  },
  {
   "cell_type": "code",
   "execution_count": 4,
   "id": "a58c7e9c",
   "metadata": {},
   "outputs": [
    {
     "data": {
      "text/plain": [
       "array([[65, 41],\n",
       "       [23, 87],\n",
       "       [19, 10]])"
      ]
     },
     "execution_count": 4,
     "metadata": {},
     "output_type": "execute_result"
    }
   ],
   "source": [
    "array1.T"
   ]
  },
  {
   "cell_type": "code",
   "execution_count": 5,
   "id": "7422b831",
   "metadata": {},
   "outputs": [
    {
     "data": {
      "text/plain": [
       "array([[65, 41],\n",
       "       [23, 87],\n",
       "       [19, 10]])"
      ]
     },
     "execution_count": 5,
     "metadata": {},
     "output_type": "execute_result"
    }
   ],
   "source": [
    "np.transpose(array1)"
   ]
  },
  {
   "cell_type": "markdown",
   "id": "8c08c681",
   "metadata": {},
   "source": [
    "### Broadcasting"
   ]
  },
  {
   "cell_type": "code",
   "execution_count": 6,
   "id": "bd928327",
   "metadata": {},
   "outputs": [
    {
     "name": "stdout",
     "output_type": "stream",
     "text": [
      "[[33 34 35]]\n"
     ]
    }
   ],
   "source": [
    "# Criando Array\n",
    "\n",
    "array2 = np.array([[33, 34, 35]])\n",
    "print(array2)"
   ]
  },
  {
   "cell_type": "code",
   "execution_count": null,
   "id": "7319b2e3",
   "metadata": {},
   "outputs": [],
   "source": [
    "array2.T"
   ]
  },
  {
   "cell_type": "code",
   "execution_count": null,
   "id": "08f27437",
   "metadata": {},
   "outputs": [],
   "source": [
    "array2.T + array2"
   ]
  },
  {
   "cell_type": "markdown",
   "id": "e7732e3e",
   "metadata": {},
   "source": [
    "### Transformando Matrizes em Vetores"
   ]
  },
  {
   "cell_type": "code",
   "execution_count": null,
   "id": "7d9e037a",
   "metadata": {},
   "outputs": [],
   "source": [
    "# Criando Array\n",
    "\n",
    "array3 = np.array([np.arange(1,6), np.arange(10,15)])\n",
    "print(array3)\n",
    "print(array3.ndim)"
   ]
  },
  {
   "cell_type": "code",
   "execution_count": null,
   "id": "ce0d7bff",
   "metadata": {},
   "outputs": [],
   "source": [
    "array3.ravel()"
   ]
  },
  {
   "cell_type": "code",
   "execution_count": null,
   "id": "d06f3a95",
   "metadata": {},
   "outputs": [],
   "source": [
    "array3.T.ravel()"
   ]
  },
  {
   "cell_type": "markdown",
   "id": "8a28a91d",
   "metadata": {},
   "source": [
    "### Operadores Lógicos"
   ]
  },
  {
   "cell_type": "code",
   "execution_count": null,
   "id": "2266f4c0",
   "metadata": {},
   "outputs": [],
   "source": [
    "np.random.seed(100)\n",
    "array4 = np.random.randint(1, 10, size = (4,4))\n",
    "print(array4)"
   ]
  },
  {
   "cell_type": "code",
   "execution_count": null,
   "id": "6ba5782d",
   "metadata": {},
   "outputs": [],
   "source": [
    "np.any((array4 % 7) == 0)"
   ]
  },
  {
   "cell_type": "code",
   "execution_count": null,
   "id": "e265a865",
   "metadata": {},
   "outputs": [],
   "source": [
    "np.all(array4 < 11)"
   ]
  },
  {
   "cell_type": "code",
   "execution_count": null,
   "id": "91513fd6",
   "metadata": {},
   "outputs": [],
   "source": [
    "# Retorne a linha onde o elemento de índice 1 na coluna seja maior que 2 e menor que 9\n",
    "np.where(np.logical_and(array4[:,1] > 2, array4[:,1] < 9))"
   ]
  },
  {
   "cell_type": "code",
   "execution_count": null,
   "id": "ebdeeefd",
   "metadata": {},
   "outputs": [],
   "source": [
    "# Mesmo resultado que a linha anterior\n",
    "np.intersect1d(np.where(array4[:,1] > 2), np.where(array4[:,1] < 9))"
   ]
  },
  {
   "cell_type": "code",
   "execution_count": null,
   "id": "66c7e0dd",
   "metadata": {},
   "outputs": [],
   "source": [
    "array4[2]"
   ]
  },
  {
   "cell_type": "markdown",
   "id": "9f3bccb5",
   "metadata": {},
   "source": [
    "### Reshaping e Ordenação de Arrays"
   ]
  },
  {
   "cell_type": "code",
   "execution_count": null,
   "id": "489dee6a",
   "metadata": {},
   "outputs": [],
   "source": [
    "# Criando Array\n",
    "\n",
    "array5 = np.arange(1,16)\n",
    "print(array5)"
   ]
  }
 ],
 "metadata": {
  "kernelspec": {
   "display_name": "Python 3 (ipykernel)",
   "language": "python",
   "name": "python3"
  },
  "language_info": {
   "codemirror_mode": {
    "name": "ipython",
    "version": 3
   },
   "file_extension": ".py",
   "mimetype": "text/x-python",
   "name": "python",
   "nbconvert_exporter": "python",
   "pygments_lexer": "ipython3",
   "version": "3.9.7"
  }
 },
 "nbformat": 4,
 "nbformat_minor": 5
}
